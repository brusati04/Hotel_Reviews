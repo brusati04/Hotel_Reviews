{
  "cells": [
    {
      "cell_type": "markdown",
      "source": [
        "<a href=\"https://colab.research.google.com/drive/1JC3UCnJe6MmMH7Hib4JfCBC6WnFQhMNV?usp=sharing\" target=\"_parent\"><img src=\"https://colab.research.google.com/assets/colab-badge.svg\" alt=\"Open In Colab\"/></a>"
      ],
      "metadata": {
        "id": "MbryPs-F79S2"
      },
      "id": "MbryPs-F79S2"
    },
    {
      "cell_type": "markdown",
      "id": "mx5WJh7PICGE",
      "metadata": {
        "id": "mx5WJh7PICGE"
      },
      "source": [
        "# 1- INTRODUCTION\n",
        "\n",
        "This project is baesd on a binary classification of Hotel reviews into Good or Bad. For my project i decided to implement a RNN-based model capable of extracting relevant features from text in order to execute the required task."
      ]
    },
    {
      "cell_type": "markdown",
      "source": [
        "<font color=\"blue\">**DISCLAIMER**</font>\n",
        "\n",
        "Note to the professor:\n",
        "\n",
        "- In case you need some help with understanding what I wrote during the exam I can help, email me at *lorenzo.brusati01@universitadipavia.it*.\n",
        "\n",
        "- I underlined the differences between the exam in the following code like this: <font color=\"blue\">**CHANGE**</font>.\n",
        "\n",
        "- This notebook takes around 10 minutes to run (If you also run the hyperparameter optimization).\n",
        "\n",
        "Unfortunately, I observed that selecting a Bidirectional LSTM for model design, as opposed to a standard LSTM or even a GRU, significantly increased the model’s evaluation time, despite maintaining good performance metrics. While the model converged in approximately 2 minutes on my personal laptop, executing the same notebook in Google Colab required around 30 minutes to complete. So i decided to drop half the dataset to speed up all the computations.\n",
        "\n",
        "I apologize for any inconvenience this may have caused."
      ],
      "metadata": {
        "id": "WxiIDJW04ewN"
      },
      "id": "WxiIDJW04ewN"
    },
    {
      "cell_type": "code",
      "execution_count": 23,
      "id": "bbcbac2b",
      "metadata": {
        "colab": {
          "base_uri": "https://localhost:8080/"
        },
        "id": "bbcbac2b",
        "outputId": "1be2b1a1-5561-4841-a10a-f1ae4f513de4"
      },
      "outputs": [
        {
          "output_type": "stream",
          "name": "stdout",
          "text": [
            "3.8.0\n",
            "2.18.0\n"
          ]
        }
      ],
      "source": [
        "import numpy as np\n",
        "import pandas as pd\n",
        "import tensorflow as tf\n",
        "import keras\n",
        "import matplotlib.pyplot as plt\n",
        "import seaborn as sns\n",
        "import random\n",
        "import string\n",
        "import itertools\n",
        "\n",
        "from sklearn.model_selection import train_test_split\n",
        "\n",
        "from sklearn.preprocessing import LabelEncoder\n",
        "from keras.api.preprocessing.sequence import pad_sequences\n",
        "\n",
        "from keras.api.models import Model\n",
        "from keras.api.layers import (Input, Dense, LSTM, Embedding, Bidirectional,\n",
        "                              Dropout, BatchNormalization, Concatenate,)\n",
        "\n",
        "from keras.src.optimizers import Adam\n",
        "from sklearn.metrics import confusion_matrix, classification_report, accuracy_score\n",
        "\n",
        "tf.compat.v1.enable_eager_execution()\n",
        "\n",
        "print( keras.__version__ )\n",
        "print( tf.__version__)\n",
        "\n",
        "# Set seeds for reproducibility\n",
        "def set_seeds(seed=42):\n",
        "    random.seed(seed)\n",
        "    np.random.seed(seed)\n",
        "    tf.random.set_seed(seed)\n",
        "\n",
        "set_seeds(42)"
      ]
    },
    {
      "cell_type": "code",
      "execution_count": 24,
      "id": "c94b9d70",
      "metadata": {
        "id": "c94b9d70"
      },
      "outputs": [],
      "source": [
        "url = \"https://raw.githubusercontent.com/brusati04/Hotel_Reviews/refs/heads/main/input_data.csv\"\n",
        "df = pd.read_csv(url)"
      ]
    },
    {
      "cell_type": "code",
      "source": [
        "total_samples = len(df)\n",
        "half_size = total_samples // 2\n",
        "samples_per_class = half_size // 2\n",
        "\n",
        "df = df.groupby('Review_Type', group_keys=False).apply(\n",
        "    lambda x: x.sample(n=samples_per_class, random_state=42)\n",
        ").reset_index(drop=True)\n",
        "\n",
        "\n",
        "print(df['Review_Type'].value_counts())"
      ],
      "metadata": {
        "colab": {
          "base_uri": "https://localhost:8080/"
        },
        "id": "gMIkpoY33j1g",
        "outputId": "6a8342d5-56f4-4c60-92ca-afe9d203e495"
      },
      "id": "gMIkpoY33j1g",
      "execution_count": 25,
      "outputs": [
        {
          "output_type": "stream",
          "name": "stdout",
          "text": [
            "Review_Type\n",
            "Bad_review     3443\n",
            "Good_review    3443\n",
            "Name: count, dtype: int64\n"
          ]
        },
        {
          "output_type": "stream",
          "name": "stderr",
          "text": [
            "/tmp/ipython-input-25-4287897495.py:5: DeprecationWarning: DataFrameGroupBy.apply operated on the grouping columns. This behavior is deprecated, and in a future version of pandas the grouping columns will be excluded from the operation. Either pass `include_groups=False` to exclude the groupings or explicitly select the grouping columns after groupby to silence this warning.\n",
            "  df = df.groupby('Review_Type', group_keys=False).apply(\n"
          ]
        }
      ]
    },
    {
      "cell_type": "code",
      "execution_count": 26,
      "id": "f697b88b",
      "metadata": {
        "colab": {
          "base_uri": "https://localhost:8080/",
          "height": 293
        },
        "id": "f697b88b",
        "outputId": "85375301-847b-4f2e-8685-382c43ff281f"
      },
      "outputs": [
        {
          "output_type": "execute_result",
          "data": {
            "text/plain": [
              "                                       Hotel_Address Review_Date  \\\n",
              "0  Aletta Aletta Jacobslaan 7 Slotervaart 1066 BP...   8/28/2016   \n",
              "1      53 53 Upper Street Islington London N1 0UY UK   12/8/2015   \n",
              "2  199 199 206 High Holborn Camden London WC1V 7B...    7/3/2016   \n",
              "3  Via Via Senato 5 Milan City Center 20121 Milan...   1/16/2017   \n",
              "4  7 7 Western Gateway Royal Victoria Dock Newham...   4/21/2016   \n",
              "\n",
              "   Average_Score                                         Hotel_Name  \\\n",
              "0            8.4                  Corendon Vitality Hotel Amsterdam   \n",
              "1            8.6                      Hilton London Angel Islington   \n",
              "2            9.2                                 The Hoxton Holborn   \n",
              "3            8.8  Baglioni Hotel Carlton The Leading Hotels of t...   \n",
              "4            8.5                               Novotel London Excel   \n",
              "\n",
              "  Reviewer_Nationality  Hotel_number_reviews  Reviewer_number_reviews  \\\n",
              "0                Iran                   4410                        5   \n",
              "1      United Kingdom                   1462                        1   \n",
              "2         Netherlands                   1740                        1   \n",
              "3              Monaco                    775                        2   \n",
              "4      United Kingdom                   1158                        1   \n",
              "\n",
              "   Review_Score                                             Review Review_Type  \n",
              "0           5.8   Breakfast was same all days House keeping did...  Bad_review  \n",
              "1           6.5   Our room was very close to the lifts which we...  Bad_review  \n",
              "2           5.8   Room was a shoebox Had to crawl over bed to m...  Bad_review  \n",
              "3           5.4   restaurant in hotel very expensive Staff in r...  Bad_review  \n",
              "4           6.3   in room 501 next to a service door which I no...  Bad_review  "
            ],
            "text/html": [
              "\n",
              "  <div id=\"df-e3ec91e2-b45f-4af8-b493-626985006e8f\" class=\"colab-df-container\">\n",
              "    <div>\n",
              "<style scoped>\n",
              "    .dataframe tbody tr th:only-of-type {\n",
              "        vertical-align: middle;\n",
              "    }\n",
              "\n",
              "    .dataframe tbody tr th {\n",
              "        vertical-align: top;\n",
              "    }\n",
              "\n",
              "    .dataframe thead th {\n",
              "        text-align: right;\n",
              "    }\n",
              "</style>\n",
              "<table border=\"1\" class=\"dataframe\">\n",
              "  <thead>\n",
              "    <tr style=\"text-align: right;\">\n",
              "      <th></th>\n",
              "      <th>Hotel_Address</th>\n",
              "      <th>Review_Date</th>\n",
              "      <th>Average_Score</th>\n",
              "      <th>Hotel_Name</th>\n",
              "      <th>Reviewer_Nationality</th>\n",
              "      <th>Hotel_number_reviews</th>\n",
              "      <th>Reviewer_number_reviews</th>\n",
              "      <th>Review_Score</th>\n",
              "      <th>Review</th>\n",
              "      <th>Review_Type</th>\n",
              "    </tr>\n",
              "  </thead>\n",
              "  <tbody>\n",
              "    <tr>\n",
              "      <th>0</th>\n",
              "      <td>Aletta Aletta Jacobslaan 7 Slotervaart 1066 BP...</td>\n",
              "      <td>8/28/2016</td>\n",
              "      <td>8.4</td>\n",
              "      <td>Corendon Vitality Hotel Amsterdam</td>\n",
              "      <td>Iran</td>\n",
              "      <td>4410</td>\n",
              "      <td>5</td>\n",
              "      <td>5.8</td>\n",
              "      <td>Breakfast was same all days House keeping did...</td>\n",
              "      <td>Bad_review</td>\n",
              "    </tr>\n",
              "    <tr>\n",
              "      <th>1</th>\n",
              "      <td>53 53 Upper Street Islington London N1 0UY UK</td>\n",
              "      <td>12/8/2015</td>\n",
              "      <td>8.6</td>\n",
              "      <td>Hilton London Angel Islington</td>\n",
              "      <td>United Kingdom</td>\n",
              "      <td>1462</td>\n",
              "      <td>1</td>\n",
              "      <td>6.5</td>\n",
              "      <td>Our room was very close to the lifts which we...</td>\n",
              "      <td>Bad_review</td>\n",
              "    </tr>\n",
              "    <tr>\n",
              "      <th>2</th>\n",
              "      <td>199 199 206 High Holborn Camden London WC1V 7B...</td>\n",
              "      <td>7/3/2016</td>\n",
              "      <td>9.2</td>\n",
              "      <td>The Hoxton Holborn</td>\n",
              "      <td>Netherlands</td>\n",
              "      <td>1740</td>\n",
              "      <td>1</td>\n",
              "      <td>5.8</td>\n",
              "      <td>Room was a shoebox Had to crawl over bed to m...</td>\n",
              "      <td>Bad_review</td>\n",
              "    </tr>\n",
              "    <tr>\n",
              "      <th>3</th>\n",
              "      <td>Via Via Senato 5 Milan City Center 20121 Milan...</td>\n",
              "      <td>1/16/2017</td>\n",
              "      <td>8.8</td>\n",
              "      <td>Baglioni Hotel Carlton The Leading Hotels of t...</td>\n",
              "      <td>Monaco</td>\n",
              "      <td>775</td>\n",
              "      <td>2</td>\n",
              "      <td>5.4</td>\n",
              "      <td>restaurant in hotel very expensive Staff in r...</td>\n",
              "      <td>Bad_review</td>\n",
              "    </tr>\n",
              "    <tr>\n",
              "      <th>4</th>\n",
              "      <td>7 7 Western Gateway Royal Victoria Dock Newham...</td>\n",
              "      <td>4/21/2016</td>\n",
              "      <td>8.5</td>\n",
              "      <td>Novotel London Excel</td>\n",
              "      <td>United Kingdom</td>\n",
              "      <td>1158</td>\n",
              "      <td>1</td>\n",
              "      <td>6.3</td>\n",
              "      <td>in room 501 next to a service door which I no...</td>\n",
              "      <td>Bad_review</td>\n",
              "    </tr>\n",
              "  </tbody>\n",
              "</table>\n",
              "</div>\n",
              "    <div class=\"colab-df-buttons\">\n",
              "\n",
              "  <div class=\"colab-df-container\">\n",
              "    <button class=\"colab-df-convert\" onclick=\"convertToInteractive('df-e3ec91e2-b45f-4af8-b493-626985006e8f')\"\n",
              "            title=\"Convert this dataframe to an interactive table.\"\n",
              "            style=\"display:none;\">\n",
              "\n",
              "  <svg xmlns=\"http://www.w3.org/2000/svg\" height=\"24px\" viewBox=\"0 -960 960 960\">\n",
              "    <path d=\"M120-120v-720h720v720H120Zm60-500h600v-160H180v160Zm220 220h160v-160H400v160Zm0 220h160v-160H400v160ZM180-400h160v-160H180v160Zm440 0h160v-160H620v160ZM180-180h160v-160H180v160Zm440 0h160v-160H620v160Z\"/>\n",
              "  </svg>\n",
              "    </button>\n",
              "\n",
              "  <style>\n",
              "    .colab-df-container {\n",
              "      display:flex;\n",
              "      gap: 12px;\n",
              "    }\n",
              "\n",
              "    .colab-df-convert {\n",
              "      background-color: #E8F0FE;\n",
              "      border: none;\n",
              "      border-radius: 50%;\n",
              "      cursor: pointer;\n",
              "      display: none;\n",
              "      fill: #1967D2;\n",
              "      height: 32px;\n",
              "      padding: 0 0 0 0;\n",
              "      width: 32px;\n",
              "    }\n",
              "\n",
              "    .colab-df-convert:hover {\n",
              "      background-color: #E2EBFA;\n",
              "      box-shadow: 0px 1px 2px rgba(60, 64, 67, 0.3), 0px 1px 3px 1px rgba(60, 64, 67, 0.15);\n",
              "      fill: #174EA6;\n",
              "    }\n",
              "\n",
              "    .colab-df-buttons div {\n",
              "      margin-bottom: 4px;\n",
              "    }\n",
              "\n",
              "    [theme=dark] .colab-df-convert {\n",
              "      background-color: #3B4455;\n",
              "      fill: #D2E3FC;\n",
              "    }\n",
              "\n",
              "    [theme=dark] .colab-df-convert:hover {\n",
              "      background-color: #434B5C;\n",
              "      box-shadow: 0px 1px 3px 1px rgba(0, 0, 0, 0.15);\n",
              "      filter: drop-shadow(0px 1px 2px rgba(0, 0, 0, 0.3));\n",
              "      fill: #FFFFFF;\n",
              "    }\n",
              "  </style>\n",
              "\n",
              "    <script>\n",
              "      const buttonEl =\n",
              "        document.querySelector('#df-e3ec91e2-b45f-4af8-b493-626985006e8f button.colab-df-convert');\n",
              "      buttonEl.style.display =\n",
              "        google.colab.kernel.accessAllowed ? 'block' : 'none';\n",
              "\n",
              "      async function convertToInteractive(key) {\n",
              "        const element = document.querySelector('#df-e3ec91e2-b45f-4af8-b493-626985006e8f');\n",
              "        const dataTable =\n",
              "          await google.colab.kernel.invokeFunction('convertToInteractive',\n",
              "                                                    [key], {});\n",
              "        if (!dataTable) return;\n",
              "\n",
              "        const docLinkHtml = 'Like what you see? Visit the ' +\n",
              "          '<a target=\"_blank\" href=https://colab.research.google.com/notebooks/data_table.ipynb>data table notebook</a>'\n",
              "          + ' to learn more about interactive tables.';\n",
              "        element.innerHTML = '';\n",
              "        dataTable['output_type'] = 'display_data';\n",
              "        await google.colab.output.renderOutput(dataTable, element);\n",
              "        const docLink = document.createElement('div');\n",
              "        docLink.innerHTML = docLinkHtml;\n",
              "        element.appendChild(docLink);\n",
              "      }\n",
              "    </script>\n",
              "  </div>\n",
              "\n",
              "\n",
              "    <div id=\"df-168f3860-1c80-4c7c-9005-23cd5451fed1\">\n",
              "      <button class=\"colab-df-quickchart\" onclick=\"quickchart('df-168f3860-1c80-4c7c-9005-23cd5451fed1')\"\n",
              "                title=\"Suggest charts\"\n",
              "                style=\"display:none;\">\n",
              "\n",
              "<svg xmlns=\"http://www.w3.org/2000/svg\" height=\"24px\"viewBox=\"0 0 24 24\"\n",
              "     width=\"24px\">\n",
              "    <g>\n",
              "        <path d=\"M19 3H5c-1.1 0-2 .9-2 2v14c0 1.1.9 2 2 2h14c1.1 0 2-.9 2-2V5c0-1.1-.9-2-2-2zM9 17H7v-7h2v7zm4 0h-2V7h2v10zm4 0h-2v-4h2v4z\"/>\n",
              "    </g>\n",
              "</svg>\n",
              "      </button>\n",
              "\n",
              "<style>\n",
              "  .colab-df-quickchart {\n",
              "      --bg-color: #E8F0FE;\n",
              "      --fill-color: #1967D2;\n",
              "      --hover-bg-color: #E2EBFA;\n",
              "      --hover-fill-color: #174EA6;\n",
              "      --disabled-fill-color: #AAA;\n",
              "      --disabled-bg-color: #DDD;\n",
              "  }\n",
              "\n",
              "  [theme=dark] .colab-df-quickchart {\n",
              "      --bg-color: #3B4455;\n",
              "      --fill-color: #D2E3FC;\n",
              "      --hover-bg-color: #434B5C;\n",
              "      --hover-fill-color: #FFFFFF;\n",
              "      --disabled-bg-color: #3B4455;\n",
              "      --disabled-fill-color: #666;\n",
              "  }\n",
              "\n",
              "  .colab-df-quickchart {\n",
              "    background-color: var(--bg-color);\n",
              "    border: none;\n",
              "    border-radius: 50%;\n",
              "    cursor: pointer;\n",
              "    display: none;\n",
              "    fill: var(--fill-color);\n",
              "    height: 32px;\n",
              "    padding: 0;\n",
              "    width: 32px;\n",
              "  }\n",
              "\n",
              "  .colab-df-quickchart:hover {\n",
              "    background-color: var(--hover-bg-color);\n",
              "    box-shadow: 0 1px 2px rgba(60, 64, 67, 0.3), 0 1px 3px 1px rgba(60, 64, 67, 0.15);\n",
              "    fill: var(--button-hover-fill-color);\n",
              "  }\n",
              "\n",
              "  .colab-df-quickchart-complete:disabled,\n",
              "  .colab-df-quickchart-complete:disabled:hover {\n",
              "    background-color: var(--disabled-bg-color);\n",
              "    fill: var(--disabled-fill-color);\n",
              "    box-shadow: none;\n",
              "  }\n",
              "\n",
              "  .colab-df-spinner {\n",
              "    border: 2px solid var(--fill-color);\n",
              "    border-color: transparent;\n",
              "    border-bottom-color: var(--fill-color);\n",
              "    animation:\n",
              "      spin 1s steps(1) infinite;\n",
              "  }\n",
              "\n",
              "  @keyframes spin {\n",
              "    0% {\n",
              "      border-color: transparent;\n",
              "      border-bottom-color: var(--fill-color);\n",
              "      border-left-color: var(--fill-color);\n",
              "    }\n",
              "    20% {\n",
              "      border-color: transparent;\n",
              "      border-left-color: var(--fill-color);\n",
              "      border-top-color: var(--fill-color);\n",
              "    }\n",
              "    30% {\n",
              "      border-color: transparent;\n",
              "      border-left-color: var(--fill-color);\n",
              "      border-top-color: var(--fill-color);\n",
              "      border-right-color: var(--fill-color);\n",
              "    }\n",
              "    40% {\n",
              "      border-color: transparent;\n",
              "      border-right-color: var(--fill-color);\n",
              "      border-top-color: var(--fill-color);\n",
              "    }\n",
              "    60% {\n",
              "      border-color: transparent;\n",
              "      border-right-color: var(--fill-color);\n",
              "    }\n",
              "    80% {\n",
              "      border-color: transparent;\n",
              "      border-right-color: var(--fill-color);\n",
              "      border-bottom-color: var(--fill-color);\n",
              "    }\n",
              "    90% {\n",
              "      border-color: transparent;\n",
              "      border-bottom-color: var(--fill-color);\n",
              "    }\n",
              "  }\n",
              "</style>\n",
              "\n",
              "      <script>\n",
              "        async function quickchart(key) {\n",
              "          const quickchartButtonEl =\n",
              "            document.querySelector('#' + key + ' button');\n",
              "          quickchartButtonEl.disabled = true;  // To prevent multiple clicks.\n",
              "          quickchartButtonEl.classList.add('colab-df-spinner');\n",
              "          try {\n",
              "            const charts = await google.colab.kernel.invokeFunction(\n",
              "                'suggestCharts', [key], {});\n",
              "          } catch (error) {\n",
              "            console.error('Error during call to suggestCharts:', error);\n",
              "          }\n",
              "          quickchartButtonEl.classList.remove('colab-df-spinner');\n",
              "          quickchartButtonEl.classList.add('colab-df-quickchart-complete');\n",
              "        }\n",
              "        (() => {\n",
              "          let quickchartButtonEl =\n",
              "            document.querySelector('#df-168f3860-1c80-4c7c-9005-23cd5451fed1 button');\n",
              "          quickchartButtonEl.style.display =\n",
              "            google.colab.kernel.accessAllowed ? 'block' : 'none';\n",
              "        })();\n",
              "      </script>\n",
              "    </div>\n",
              "\n",
              "    </div>\n",
              "  </div>\n"
            ],
            "application/vnd.google.colaboratory.intrinsic+json": {
              "type": "dataframe",
              "variable_name": "df",
              "summary": "{\n  \"name\": \"df\",\n  \"rows\": 6886,\n  \"fields\": [\n    {\n      \"column\": \"Hotel_Address\",\n      \"properties\": {\n        \"dtype\": \"category\",\n        \"num_unique_values\": 1225,\n        \"samples\": [\n          \"20 20 28 Bolsover Street Westminster Borough London W1W 5NB UK\",\n          \"16 16 boulevard Haussmann 9th arr 75009 Paris France\",\n          \"Schwedenplatz Schwedenplatz 3 4 01 Innere Stadt 1010 Vienna Austria\"\n        ],\n        \"semantic_type\": \"\",\n        \"description\": \"\"\n      }\n    },\n    {\n      \"column\": \"Review_Date\",\n      \"properties\": {\n        \"dtype\": \"object\",\n        \"num_unique_values\": 728,\n        \"samples\": [\n          \"4/12/2017\",\n          \"2/8/2017\",\n          \"1/8/2016\"\n        ],\n        \"semantic_type\": \"\",\n        \"description\": \"\"\n      }\n    },\n    {\n      \"column\": \"Average_Score\",\n      \"properties\": {\n        \"dtype\": \"number\",\n        \"std\": 0.5791417106160308,\n        \"min\": 5.2,\n        \"max\": 9.6,\n        \"num_unique_values\": 33,\n        \"samples\": [\n          6.6,\n          8.3,\n          7.2\n        ],\n        \"semantic_type\": \"\",\n        \"description\": \"\"\n      }\n    },\n    {\n      \"column\": \"Hotel_Name\",\n      \"properties\": {\n        \"dtype\": \"category\",\n        \"num_unique_values\": 1224,\n        \"samples\": [\n          \"Hotel Okura Amsterdam\",\n          \"LaGare Hotel Milano Centrale MGallery by Sofitel\",\n          \"Le Marceau Bastille\"\n        ],\n        \"semantic_type\": \"\",\n        \"description\": \"\"\n      }\n    },\n    {\n      \"column\": \"Reviewer_Nationality\",\n      \"properties\": {\n        \"dtype\": \"category\",\n        \"num_unique_values\": 130,\n        \"samples\": [\n          \" Russia \",\n          \" Greece \",\n          \" Israel \"\n        ],\n        \"semantic_type\": \"\",\n        \"description\": \"\"\n      }\n    },\n    {\n      \"column\": \"Hotel_number_reviews\",\n      \"properties\": {\n        \"dtype\": \"number\",\n        \"std\": 2368,\n        \"min\": 43,\n        \"max\": 16670,\n        \"num_unique_values\": 1008,\n        \"samples\": [\n          408,\n          1682,\n          923\n        ],\n        \"semantic_type\": \"\",\n        \"description\": \"\"\n      }\n    },\n    {\n      \"column\": \"Reviewer_number_reviews\",\n      \"properties\": {\n        \"dtype\": \"number\",\n        \"std\": 10,\n        \"min\": 1,\n        \"max\": 211,\n        \"num_unique_values\": 83,\n        \"samples\": [\n          33,\n          5,\n          20\n        ],\n        \"semantic_type\": \"\",\n        \"description\": \"\"\n      }\n    },\n    {\n      \"column\": \"Review_Score\",\n      \"properties\": {\n        \"dtype\": \"number\",\n        \"std\": 2.0582025309146106,\n        \"min\": 2.5,\n        \"max\": 10.0,\n        \"num_unique_values\": 32,\n        \"samples\": [\n          9.5,\n          3.5,\n          8.3\n        ],\n        \"semantic_type\": \"\",\n        \"description\": \"\"\n      }\n    },\n    {\n      \"column\": \"Review\",\n      \"properties\": {\n        \"dtype\": \"string\",\n        \"num_unique_values\": 6598,\n        \"samples\": [\n          \" The size of the room was extremely small The bed took up the whole room Barely any space to move around I booked a deluxe room for two as I was due to have a friend stay with me Unfortunately I got notified while I was in route to the hotel the day of saying the room I booked was not available They offered me a room the same size as another friend whom paid 115gbp for 155gbp as if it was a great deal when it wasn t I reserved a larger room for two at 165gbp so can you imagine how upset I was The woman at the front desk says to me You can take this room or go somewhere else In a really rude tone I had just gotten off work and did not want to deal with it anymore Mind you I was not yelling and just inquired about why the prices varied so much for the same type of room She said it s because it s the last room I was baffled and couldn t believe it I had to suck it up and pay but honestly it sucked I would have loved it if the room I reserved was available or if they offered me the same price they had for the room of or even a discounted rate for the inconvenience My other guest didn t even come as we were not going to squeeze into that tiny room and try to maneuver  I appreciated how they kept the dress I left in the room at the front desk until I was able to have a friend pick it up for me The evening staff were superb Wish I could say the same about when I checked in The bar attendee was wonderful and the cleaning ladies were so sweet The room itself was okay Just small The tv was a good addition Location was ideal as it was in the middle of soho \",\n          \" city tax 10 euros Great room and breakfast\",\n          \" looks old a mechanical sound all night long position clean\"\n        ],\n        \"semantic_type\": \"\",\n        \"description\": \"\"\n      }\n    },\n    {\n      \"column\": \"Review_Type\",\n      \"properties\": {\n        \"dtype\": \"category\",\n        \"num_unique_values\": 2,\n        \"samples\": [\n          \"Good_review\",\n          \"Bad_review\"\n        ],\n        \"semantic_type\": \"\",\n        \"description\": \"\"\n      }\n    }\n  ]\n}"
            }
          },
          "metadata": {},
          "execution_count": 26
        }
      ],
      "source": [
        "df.head()"
      ]
    },
    {
      "cell_type": "code",
      "execution_count": 27,
      "id": "a2ec0d76",
      "metadata": {
        "colab": {
          "base_uri": "https://localhost:8080/"
        },
        "id": "a2ec0d76",
        "outputId": "38f8ec2d-4586-4259-ab5d-a5bc049da58a"
      },
      "outputs": [
        {
          "output_type": "stream",
          "name": "stdout",
          "text": [
            "<class 'pandas.core.frame.DataFrame'>\n",
            "RangeIndex: 6886 entries, 0 to 6885\n",
            "Data columns (total 10 columns):\n",
            " #   Column                   Non-Null Count  Dtype  \n",
            "---  ------                   --------------  -----  \n",
            " 0   Hotel_Address            6886 non-null   object \n",
            " 1   Review_Date              6886 non-null   object \n",
            " 2   Average_Score            6886 non-null   float64\n",
            " 3   Hotel_Name               6886 non-null   object \n",
            " 4   Reviewer_Nationality     6886 non-null   object \n",
            " 5   Hotel_number_reviews     6886 non-null   int64  \n",
            " 6   Reviewer_number_reviews  6886 non-null   int64  \n",
            " 7   Review_Score             6886 non-null   float64\n",
            " 8   Review                   6886 non-null   object \n",
            " 9   Review_Type              6886 non-null   object \n",
            "dtypes: float64(2), int64(2), object(6)\n",
            "memory usage: 538.1+ KB\n"
          ]
        }
      ],
      "source": [
        "df.info()"
      ]
    },
    {
      "cell_type": "markdown",
      "id": "88f4cd2b",
      "metadata": {
        "id": "88f4cd2b"
      },
      "source": [
        "# 2- PREPROCESSING"
      ]
    },
    {
      "cell_type": "markdown",
      "id": "c0adbd7f",
      "metadata": {
        "id": "c0adbd7f"
      },
      "source": [
        "This section in the exam was divided in two subparts:\n",
        "* How to (if) preprocess input data and which data would you retain/use;\n",
        "* Which is the input of the model, and how is it represented;\n",
        "\n",
        "As i said in my exam, i am going to preprocess informations in the following way: drop all the column except for 'Review', 'Review_Score', 'Review_Type'"
      ]
    },
    {
      "cell_type": "code",
      "execution_count": 28,
      "id": "7bc2c0cf",
      "metadata": {
        "id": "7bc2c0cf"
      },
      "outputs": [],
      "source": [
        "df = df[['Review', 'Review_Score', 'Review_Type']]"
      ]
    },
    {
      "cell_type": "markdown",
      "id": "d5e083b8",
      "metadata": {
        "id": "d5e083b8"
      },
      "source": [
        "'Review_Type': i encode it into binary integer values, predicting either 0 or 1 for Bad_Reviews and Good_Reviews"
      ]
    },
    {
      "cell_type": "code",
      "execution_count": 29,
      "id": "710c6b64",
      "metadata": {
        "id": "710c6b64"
      },
      "outputs": [],
      "source": [
        "label_enc = LabelEncoder()\n",
        "df['Review_Type'] = label_enc.fit_transform(df['Review_Type'])"
      ]
    },
    {
      "cell_type": "markdown",
      "id": "71d4ffe9",
      "metadata": {
        "id": "71d4ffe9"
      },
      "source": [
        "'Review_Score': i said in the exam that i'm going to keep it like that."
      ]
    },
    {
      "cell_type": "markdown",
      "id": "68b3cbc2",
      "metadata": {
        "id": "68b3cbc2"
      },
      "source": [
        "<font color=\"blue\">**CHANGE**</font>\n",
        "\n",
        "'Review': didn't mention in my exam an common preprocessing procedure for textual datas: i'm going to clean the whole text, removing punctation and lowercasing words for correctly preprocess input datas, removing non relevant informations. also helped me reduce size of each phrase, making the models computations faster"
      ]
    },
    {
      "cell_type": "code",
      "execution_count": 30,
      "id": "15193f78",
      "metadata": {
        "colab": {
          "base_uri": "https://localhost:8080/",
          "height": 206
        },
        "id": "15193f78",
        "outputId": "69b0698d-6728-44b1-e8af-1b725b2e556b"
      },
      "outputs": [
        {
          "output_type": "execute_result",
          "data": {
            "text/plain": [
              "                                              Review  Review_Score  \\\n",
              "0   Breakfast was same all days House keeping did...           5.8   \n",
              "1   Our room was very close to the lifts which we...           6.5   \n",
              "2   Room was a shoebox Had to crawl over bed to m...           5.8   \n",
              "3   restaurant in hotel very expensive Staff in r...           5.4   \n",
              "4   in room 501 next to a service door which I no...           6.3   \n",
              "\n",
              "   Review_Type                                       Clean_Review  \n",
              "0            0  breakfast was same all days house keeping did ...  \n",
              "1            0  our room was very close to the lifts which wer...  \n",
              "2            0  room was a shoebox had to crawl over bed to mo...  \n",
              "3            0  restaurant in hotel very expensive staff in re...  \n",
              "4            0  in room next to a service door which i noticed...  "
            ],
            "text/html": [
              "\n",
              "  <div id=\"df-34b034f9-a8b2-4bc2-9512-9ecc4b3f7a8e\" class=\"colab-df-container\">\n",
              "    <div>\n",
              "<style scoped>\n",
              "    .dataframe tbody tr th:only-of-type {\n",
              "        vertical-align: middle;\n",
              "    }\n",
              "\n",
              "    .dataframe tbody tr th {\n",
              "        vertical-align: top;\n",
              "    }\n",
              "\n",
              "    .dataframe thead th {\n",
              "        text-align: right;\n",
              "    }\n",
              "</style>\n",
              "<table border=\"1\" class=\"dataframe\">\n",
              "  <thead>\n",
              "    <tr style=\"text-align: right;\">\n",
              "      <th></th>\n",
              "      <th>Review</th>\n",
              "      <th>Review_Score</th>\n",
              "      <th>Review_Type</th>\n",
              "      <th>Clean_Review</th>\n",
              "    </tr>\n",
              "  </thead>\n",
              "  <tbody>\n",
              "    <tr>\n",
              "      <th>0</th>\n",
              "      <td>Breakfast was same all days House keeping did...</td>\n",
              "      <td>5.8</td>\n",
              "      <td>0</td>\n",
              "      <td>breakfast was same all days house keeping did ...</td>\n",
              "    </tr>\n",
              "    <tr>\n",
              "      <th>1</th>\n",
              "      <td>Our room was very close to the lifts which we...</td>\n",
              "      <td>6.5</td>\n",
              "      <td>0</td>\n",
              "      <td>our room was very close to the lifts which wer...</td>\n",
              "    </tr>\n",
              "    <tr>\n",
              "      <th>2</th>\n",
              "      <td>Room was a shoebox Had to crawl over bed to m...</td>\n",
              "      <td>5.8</td>\n",
              "      <td>0</td>\n",
              "      <td>room was a shoebox had to crawl over bed to mo...</td>\n",
              "    </tr>\n",
              "    <tr>\n",
              "      <th>3</th>\n",
              "      <td>restaurant in hotel very expensive Staff in r...</td>\n",
              "      <td>5.4</td>\n",
              "      <td>0</td>\n",
              "      <td>restaurant in hotel very expensive staff in re...</td>\n",
              "    </tr>\n",
              "    <tr>\n",
              "      <th>4</th>\n",
              "      <td>in room 501 next to a service door which I no...</td>\n",
              "      <td>6.3</td>\n",
              "      <td>0</td>\n",
              "      <td>in room next to a service door which i noticed...</td>\n",
              "    </tr>\n",
              "  </tbody>\n",
              "</table>\n",
              "</div>\n",
              "    <div class=\"colab-df-buttons\">\n",
              "\n",
              "  <div class=\"colab-df-container\">\n",
              "    <button class=\"colab-df-convert\" onclick=\"convertToInteractive('df-34b034f9-a8b2-4bc2-9512-9ecc4b3f7a8e')\"\n",
              "            title=\"Convert this dataframe to an interactive table.\"\n",
              "            style=\"display:none;\">\n",
              "\n",
              "  <svg xmlns=\"http://www.w3.org/2000/svg\" height=\"24px\" viewBox=\"0 -960 960 960\">\n",
              "    <path d=\"M120-120v-720h720v720H120Zm60-500h600v-160H180v160Zm220 220h160v-160H400v160Zm0 220h160v-160H400v160ZM180-400h160v-160H180v160Zm440 0h160v-160H620v160ZM180-180h160v-160H180v160Zm440 0h160v-160H620v160Z\"/>\n",
              "  </svg>\n",
              "    </button>\n",
              "\n",
              "  <style>\n",
              "    .colab-df-container {\n",
              "      display:flex;\n",
              "      gap: 12px;\n",
              "    }\n",
              "\n",
              "    .colab-df-convert {\n",
              "      background-color: #E8F0FE;\n",
              "      border: none;\n",
              "      border-radius: 50%;\n",
              "      cursor: pointer;\n",
              "      display: none;\n",
              "      fill: #1967D2;\n",
              "      height: 32px;\n",
              "      padding: 0 0 0 0;\n",
              "      width: 32px;\n",
              "    }\n",
              "\n",
              "    .colab-df-convert:hover {\n",
              "      background-color: #E2EBFA;\n",
              "      box-shadow: 0px 1px 2px rgba(60, 64, 67, 0.3), 0px 1px 3px 1px rgba(60, 64, 67, 0.15);\n",
              "      fill: #174EA6;\n",
              "    }\n",
              "\n",
              "    .colab-df-buttons div {\n",
              "      margin-bottom: 4px;\n",
              "    }\n",
              "\n",
              "    [theme=dark] .colab-df-convert {\n",
              "      background-color: #3B4455;\n",
              "      fill: #D2E3FC;\n",
              "    }\n",
              "\n",
              "    [theme=dark] .colab-df-convert:hover {\n",
              "      background-color: #434B5C;\n",
              "      box-shadow: 0px 1px 3px 1px rgba(0, 0, 0, 0.15);\n",
              "      filter: drop-shadow(0px 1px 2px rgba(0, 0, 0, 0.3));\n",
              "      fill: #FFFFFF;\n",
              "    }\n",
              "  </style>\n",
              "\n",
              "    <script>\n",
              "      const buttonEl =\n",
              "        document.querySelector('#df-34b034f9-a8b2-4bc2-9512-9ecc4b3f7a8e button.colab-df-convert');\n",
              "      buttonEl.style.display =\n",
              "        google.colab.kernel.accessAllowed ? 'block' : 'none';\n",
              "\n",
              "      async function convertToInteractive(key) {\n",
              "        const element = document.querySelector('#df-34b034f9-a8b2-4bc2-9512-9ecc4b3f7a8e');\n",
              "        const dataTable =\n",
              "          await google.colab.kernel.invokeFunction('convertToInteractive',\n",
              "                                                    [key], {});\n",
              "        if (!dataTable) return;\n",
              "\n",
              "        const docLinkHtml = 'Like what you see? Visit the ' +\n",
              "          '<a target=\"_blank\" href=https://colab.research.google.com/notebooks/data_table.ipynb>data table notebook</a>'\n",
              "          + ' to learn more about interactive tables.';\n",
              "        element.innerHTML = '';\n",
              "        dataTable['output_type'] = 'display_data';\n",
              "        await google.colab.output.renderOutput(dataTable, element);\n",
              "        const docLink = document.createElement('div');\n",
              "        docLink.innerHTML = docLinkHtml;\n",
              "        element.appendChild(docLink);\n",
              "      }\n",
              "    </script>\n",
              "  </div>\n",
              "\n",
              "\n",
              "    <div id=\"df-96ab6e68-78d5-48c2-94d7-27deeae34467\">\n",
              "      <button class=\"colab-df-quickchart\" onclick=\"quickchart('df-96ab6e68-78d5-48c2-94d7-27deeae34467')\"\n",
              "                title=\"Suggest charts\"\n",
              "                style=\"display:none;\">\n",
              "\n",
              "<svg xmlns=\"http://www.w3.org/2000/svg\" height=\"24px\"viewBox=\"0 0 24 24\"\n",
              "     width=\"24px\">\n",
              "    <g>\n",
              "        <path d=\"M19 3H5c-1.1 0-2 .9-2 2v14c0 1.1.9 2 2 2h14c1.1 0 2-.9 2-2V5c0-1.1-.9-2-2-2zM9 17H7v-7h2v7zm4 0h-2V7h2v10zm4 0h-2v-4h2v4z\"/>\n",
              "    </g>\n",
              "</svg>\n",
              "      </button>\n",
              "\n",
              "<style>\n",
              "  .colab-df-quickchart {\n",
              "      --bg-color: #E8F0FE;\n",
              "      --fill-color: #1967D2;\n",
              "      --hover-bg-color: #E2EBFA;\n",
              "      --hover-fill-color: #174EA6;\n",
              "      --disabled-fill-color: #AAA;\n",
              "      --disabled-bg-color: #DDD;\n",
              "  }\n",
              "\n",
              "  [theme=dark] .colab-df-quickchart {\n",
              "      --bg-color: #3B4455;\n",
              "      --fill-color: #D2E3FC;\n",
              "      --hover-bg-color: #434B5C;\n",
              "      --hover-fill-color: #FFFFFF;\n",
              "      --disabled-bg-color: #3B4455;\n",
              "      --disabled-fill-color: #666;\n",
              "  }\n",
              "\n",
              "  .colab-df-quickchart {\n",
              "    background-color: var(--bg-color);\n",
              "    border: none;\n",
              "    border-radius: 50%;\n",
              "    cursor: pointer;\n",
              "    display: none;\n",
              "    fill: var(--fill-color);\n",
              "    height: 32px;\n",
              "    padding: 0;\n",
              "    width: 32px;\n",
              "  }\n",
              "\n",
              "  .colab-df-quickchart:hover {\n",
              "    background-color: var(--hover-bg-color);\n",
              "    box-shadow: 0 1px 2px rgba(60, 64, 67, 0.3), 0 1px 3px 1px rgba(60, 64, 67, 0.15);\n",
              "    fill: var(--button-hover-fill-color);\n",
              "  }\n",
              "\n",
              "  .colab-df-quickchart-complete:disabled,\n",
              "  .colab-df-quickchart-complete:disabled:hover {\n",
              "    background-color: var(--disabled-bg-color);\n",
              "    fill: var(--disabled-fill-color);\n",
              "    box-shadow: none;\n",
              "  }\n",
              "\n",
              "  .colab-df-spinner {\n",
              "    border: 2px solid var(--fill-color);\n",
              "    border-color: transparent;\n",
              "    border-bottom-color: var(--fill-color);\n",
              "    animation:\n",
              "      spin 1s steps(1) infinite;\n",
              "  }\n",
              "\n",
              "  @keyframes spin {\n",
              "    0% {\n",
              "      border-color: transparent;\n",
              "      border-bottom-color: var(--fill-color);\n",
              "      border-left-color: var(--fill-color);\n",
              "    }\n",
              "    20% {\n",
              "      border-color: transparent;\n",
              "      border-left-color: var(--fill-color);\n",
              "      border-top-color: var(--fill-color);\n",
              "    }\n",
              "    30% {\n",
              "      border-color: transparent;\n",
              "      border-left-color: var(--fill-color);\n",
              "      border-top-color: var(--fill-color);\n",
              "      border-right-color: var(--fill-color);\n",
              "    }\n",
              "    40% {\n",
              "      border-color: transparent;\n",
              "      border-right-color: var(--fill-color);\n",
              "      border-top-color: var(--fill-color);\n",
              "    }\n",
              "    60% {\n",
              "      border-color: transparent;\n",
              "      border-right-color: var(--fill-color);\n",
              "    }\n",
              "    80% {\n",
              "      border-color: transparent;\n",
              "      border-right-color: var(--fill-color);\n",
              "      border-bottom-color: var(--fill-color);\n",
              "    }\n",
              "    90% {\n",
              "      border-color: transparent;\n",
              "      border-bottom-color: var(--fill-color);\n",
              "    }\n",
              "  }\n",
              "</style>\n",
              "\n",
              "      <script>\n",
              "        async function quickchart(key) {\n",
              "          const quickchartButtonEl =\n",
              "            document.querySelector('#' + key + ' button');\n",
              "          quickchartButtonEl.disabled = true;  // To prevent multiple clicks.\n",
              "          quickchartButtonEl.classList.add('colab-df-spinner');\n",
              "          try {\n",
              "            const charts = await google.colab.kernel.invokeFunction(\n",
              "                'suggestCharts', [key], {});\n",
              "          } catch (error) {\n",
              "            console.error('Error during call to suggestCharts:', error);\n",
              "          }\n",
              "          quickchartButtonEl.classList.remove('colab-df-spinner');\n",
              "          quickchartButtonEl.classList.add('colab-df-quickchart-complete');\n",
              "        }\n",
              "        (() => {\n",
              "          let quickchartButtonEl =\n",
              "            document.querySelector('#df-96ab6e68-78d5-48c2-94d7-27deeae34467 button');\n",
              "          quickchartButtonEl.style.display =\n",
              "            google.colab.kernel.accessAllowed ? 'block' : 'none';\n",
              "        })();\n",
              "      </script>\n",
              "    </div>\n",
              "\n",
              "    </div>\n",
              "  </div>\n"
            ],
            "application/vnd.google.colaboratory.intrinsic+json": {
              "type": "dataframe",
              "variable_name": "df",
              "summary": "{\n  \"name\": \"df\",\n  \"rows\": 6886,\n  \"fields\": [\n    {\n      \"column\": \"Review\",\n      \"properties\": {\n        \"dtype\": \"string\",\n        \"num_unique_values\": 6598,\n        \"samples\": [\n          \" The size of the room was extremely small The bed took up the whole room Barely any space to move around I booked a deluxe room for two as I was due to have a friend stay with me Unfortunately I got notified while I was in route to the hotel the day of saying the room I booked was not available They offered me a room the same size as another friend whom paid 115gbp for 155gbp as if it was a great deal when it wasn t I reserved a larger room for two at 165gbp so can you imagine how upset I was The woman at the front desk says to me You can take this room or go somewhere else In a really rude tone I had just gotten off work and did not want to deal with it anymore Mind you I was not yelling and just inquired about why the prices varied so much for the same type of room She said it s because it s the last room I was baffled and couldn t believe it I had to suck it up and pay but honestly it sucked I would have loved it if the room I reserved was available or if they offered me the same price they had for the room of or even a discounted rate for the inconvenience My other guest didn t even come as we were not going to squeeze into that tiny room and try to maneuver  I appreciated how they kept the dress I left in the room at the front desk until I was able to have a friend pick it up for me The evening staff were superb Wish I could say the same about when I checked in The bar attendee was wonderful and the cleaning ladies were so sweet The room itself was okay Just small The tv was a good addition Location was ideal as it was in the middle of soho \",\n          \" city tax 10 euros Great room and breakfast\",\n          \" looks old a mechanical sound all night long position clean\"\n        ],\n        \"semantic_type\": \"\",\n        \"description\": \"\"\n      }\n    },\n    {\n      \"column\": \"Review_Score\",\n      \"properties\": {\n        \"dtype\": \"number\",\n        \"std\": 2.0582025309146106,\n        \"min\": 2.5,\n        \"max\": 10.0,\n        \"num_unique_values\": 32,\n        \"samples\": [\n          9.5,\n          3.5,\n          8.3\n        ],\n        \"semantic_type\": \"\",\n        \"description\": \"\"\n      }\n    },\n    {\n      \"column\": \"Review_Type\",\n      \"properties\": {\n        \"dtype\": \"number\",\n        \"std\": 0,\n        \"min\": 0,\n        \"max\": 1,\n        \"num_unique_values\": 2,\n        \"samples\": [\n          1,\n          0\n        ],\n        \"semantic_type\": \"\",\n        \"description\": \"\"\n      }\n    },\n    {\n      \"column\": \"Clean_Review\",\n      \"properties\": {\n        \"dtype\": \"string\",\n        \"num_unique_values\": 6503,\n        \"samples\": [\n          \"too short a stay great location comfortable\",\n          \"room was tiny\"\n        ],\n        \"semantic_type\": \"\",\n        \"description\": \"\"\n      }\n    }\n  ]\n}"
            }
          },
          "metadata": {},
          "execution_count": 30
        }
      ],
      "source": [
        "def clean_text(text):\n",
        "  text = text.replace('--', ' ')\n",
        "  # split into tokens by white space\n",
        "  words = text.split()\n",
        "  # remove punctuation from each token\n",
        "  table = str.maketrans('', '', string.punctuation)\n",
        "  words = [w.translate(table) for w in words]\n",
        "  # remove remaining tokens that are not alphabetic\n",
        "  words = [word for word in words if word.isalpha()]\n",
        "  # make lower case\n",
        "  words = [word.lower() for word in words]\n",
        "  # build up tokens again\n",
        "  return \" \".join(words)\n",
        "\n",
        "df['Clean_Review'] = df['Review'].apply(clean_text)\n",
        "\n",
        "df.head()"
      ]
    },
    {
      "cell_type": "markdown",
      "id": "5381ec01",
      "metadata": {
        "id": "5381ec01"
      },
      "source": [
        "<font color=\"blue\">**CHANGE**</font>\n",
        "\n",
        "I did not mention in my exam (and I think it's important) how to correctly **preprocess text**. First, apply **tokenization**: this consists in separating each review into its fundamental words, in order to create a dictionary of them. In this way, we can assign a unique integer (an index) to each word in the vocabulary.\n",
        "\n",
        "Once the text is tokenized and encoded into sequences of integers, the next step is to **pad** these sequences so that they all have the same length — this is necessary because RNN neural networks expect fixed-size inputs as i mentioned in the exam.\n",
        "\n",
        "After that, we define the **embedding layer**: it learns a dense vector representation (i.e., low-dimensional continuous representation) for each word during training, based on the context in which the word appears. The embedding layer transforms each word index into a trainable dense vector, which captures semantic meaning over time. I'm going to train the embedding directly inside my function create_model, since we are not allowed to use pretrained Embedding models (i.e. Glove or Bert).\n",
        "\n",
        "Here as follows i provide a personal implementation of a tokenization, creating a class Token(), then i apply padding before feeed my data into the model."
      ]
    },
    {
      "cell_type": "code",
      "execution_count": 31,
      "id": "2036f917",
      "metadata": {
        "id": "2036f917"
      },
      "outputs": [],
      "source": [
        "class Token():\n",
        "    def __init__(self, statistic=True):\n",
        "        self.unique_words = None\n",
        "        self.word_index = None\n",
        "        self.statisic = statistic\n",
        "\n",
        "    def fit_on_texts(self, texts):\n",
        "        flat_words = [word for sublist in [x.split() for x in texts] for word in sublist]\n",
        "\n",
        "        self.unique_words = np.unique(flat_words)\n",
        "        self.word_index = dict((word, idx) for idx, word in enumerate(self.unique_words))\n",
        "        if self.statisic:\n",
        "            print(f\"Total words: {len(flat_words)}\")\n",
        "            print(f\"Unique words: {len(self.unique_words)}\")\n",
        "\n",
        "    def encode_words(self, word_list):\n",
        "        return [self.word_index[word] for word in word_list if word in self.word_index]\n",
        "\n",
        "    def texts_to_sequences(self, texts):\n",
        "        return [self.encode_words(text.split()) for text in texts]"
      ]
    },
    {
      "cell_type": "code",
      "execution_count": 32,
      "id": "f871dee3",
      "metadata": {
        "colab": {
          "base_uri": "https://localhost:8080/"
        },
        "id": "f871dee3",
        "outputId": "1d05775f-12b0-4648-c9df-6bb742ce4dea"
      },
      "outputs": [
        {
          "output_type": "stream",
          "name": "stdout",
          "text": [
            "Total words: 179124\n",
            "Unique words: 8163\n",
            "[[920, 7902, 6164, 211, 1878, 3517, 3907, 2018, 4807, 1337, 7227, 6084, 281, 7340, 7808, 7959, 281, 2528, 2018, 4807, 4054, 881, 4890, 7917, 3635, 6084, 4171, 281, 6778], [4986, 6084, 7902, 7808, 1375, 7329, 7227, 4099, 7992, 7964, 7808, 4785, 2528, 8060, 7728, 4990, 4890, 4986, 6544, 7917, 3635, 6084, 5309, 3162, 77, 7227, 6084, 7329, 7227, 1681, 6434, 3172, 4171, 7227, 6084, 7902, 1337, 281, 4890, 0, 2711, 6523, 6778, 3390, 281, 3010], [6084, 7902, 0, 6430, 3260, 7329, 1755, 5007, 682, 7329, 4614, 3021, 4923, 6478, 7329, 7227, 4981, 4807, 3172, 3343, 6835, 7243, 5007, 7313, 281, 3343, 958, 3235, 7329, 7227, 3504, 3172, 485], [5966, 3635, 3504, 7808, 2621, 6778, 3635, 5966, 7808, 7531, 6351, 4285, 5966, 4171, 3829, 5190, 2937, 6435], [3635, 6084, 4745, 7329, 0, 6345, 2179, 7992, 3559, 4821, 4431, 4890, 6778, 3168, 7287, 7986, 3559, 427, 3559, 1710, 4807, 3118, 7329, 6544, 2276, 7329, 7227, 4780, 1455, 3021, 7227, 6345, 2179, 397, 3559, 243, 4807, 7038, 3575, 7252, 3260, 0, 6345, 4097, 4959, 6796, 1026, 3840, 7902, 7808, 4785, 7266, 4412, 3559, 2018, 4807, 3340, 0, 3172, 4760, 6544, 3343, 7329, 3162, 7329, 8081, 2773, 7324, 281, 7932, 4807, 7769, 2937, 7227, 4564, 3559, 5065, 2937, 7227, 47, 7227, 920, 2929, 7902, 539, 601, 6615, 4756, 704, 4748, 5472, 3635, 601, 3559, 3246, 5792, 7225, 3840, 7902, 0, 4190, 3504, 1026, 7227, 2018, 352, 6849, 1337, 281, 3010, 6084, 7808, 4748, 281, 1446], [91, 3559, 4225, 7227, 3504, 281, 7266, 3829, 4807, 7227, 2836, 7311, 3559, 1284, 7237, 1026, 7986, 3559, 1069, 4005, 7311, 3559, 7902, 6424, 7227, 2406, 7225, 6405, 8081, 3635, 7227, 5743, 7908, 7096, 4748, 476, 211, 8053, 4405, 281, 6405, 2019, 7096, 7460, 4405, 7959], [4911, 989, 2528, 7243, 3829, 278, 2379, 1026, 3559, 3340, 7329, 7735, 7227, 6855, 7329, 5703, 4661, 6084, 3840, 3332, 0, 4748, 7822, 7329, 7227, 1075], [5355, 6089, 5355, 8017, 4807, 1337, 281, 6870, 1280, 4981, 3510, 3575, 7526, 1074, 7227, 6778, 7964, 5720, 3172, 281, 4773], [4927, 6239, 2350, 476, 920, 7992, 7902, 7808, 4967, 4171], [7266, 5282, 3829, 1059, 3504, 1026, 3848, 4807, 0, 3504, 6089, 396, 2672, 6583, 7225, 4923, 6692, 2937, 682, 6876, 4097, 281, 4157, 6778, 7964, 4807, 3390, 3559, 91, 2778, 1235, 677, 7266, 5282, 3829, 4134, 7581, 3510, 7270, 3848, 0, 3498, 4927, 4171]]\n"
          ]
        }
      ],
      "source": [
        "tokenizer = Token()\n",
        "tokenizer.fit_on_texts(df['Clean_Review'])\n",
        "sequences = tokenizer.texts_to_sequences(df['Clean_Review'])\n",
        "\n",
        "print(sequences[:10])"
      ]
    },
    {
      "cell_type": "markdown",
      "id": "586727f0",
      "metadata": {
        "id": "586727f0"
      },
      "source": [
        "I am going to fix a predetermined maximum length (max_len) for each review based on statistical analysis of the dataset. Computing percentiles of the review lengths (measured in number of tokens/words) gave me a good max_len tradeoff that covers 95% of all reviews, ensuring that most reviews are fully preserved while avoiding excessively long inputs."
      ]
    },
    {
      "cell_type": "code",
      "execution_count": 33,
      "id": "0d3d545e",
      "metadata": {
        "colab": {
          "base_uri": "https://localhost:8080/"
        },
        "id": "0d3d545e",
        "outputId": "3a27245e-7c7f-45ac-fcf5-3e1bfe3af49c"
      },
      "outputs": [
        {
          "output_type": "stream",
          "name": "stdout",
          "text": [
            "Max length:       606\n",
            "Mean length:      26.0\n",
            "Std. dev:         43.1\n",
            "95th percentile:  101.0\n",
            "99th percentile:  213.14999999999964\n",
            "Using as max_len: 101, and as vocab_size: 8164\n"
          ]
        }
      ],
      "source": [
        "# Compute lengths\n",
        "lengths = [len(seq) for seq in sequences]\n",
        "\n",
        "# Inspect key statistics\n",
        "print(f\"Max length:       {np.max(lengths)}\")\n",
        "print(f\"Mean length:      {np.mean(lengths):.1f}\")\n",
        "print(f\"Std. dev:         {np.std(lengths):.1f}\")\n",
        "print(f\"95th percentile:  {np.percentile(lengths, 95)}\")\n",
        "print(f\"99th percentile:  {np.percentile(lengths, 99)}\")\n",
        "\n",
        "# Set maxlen based on the 95th percentile\n",
        "max_len = int(np.percentile(lengths, 95))\n",
        "vocab_size = len(tokenizer.unique_words) + 1  # +1 for padding index\n",
        "\n",
        "print(f\"Using as max_len: {max_len}, and as vocab_size: {vocab_size}\")"
      ]
    },
    {
      "cell_type": "markdown",
      "id": "10d6a9fc",
      "metadata": {
        "id": "10d6a9fc"
      },
      "source": [
        "Now it's time to split my dataset into train, test and validation sets before applying tokenization and padding."
      ]
    },
    {
      "cell_type": "code",
      "execution_count": 34,
      "id": "f57790da",
      "metadata": {
        "colab": {
          "base_uri": "https://localhost:8080/"
        },
        "id": "f57790da",
        "outputId": "3ec1b2b3-e659-47f4-9b90-ef4f0dba7abf"
      },
      "outputs": [
        {
          "output_type": "stream",
          "name": "stdout",
          "text": [
            "5508 689 689\n"
          ]
        }
      ],
      "source": [
        "train_df, temp_df = train_test_split(\n",
        "    df, test_size=0.20, random_state=42, shuffle=True\n",
        ")\n",
        "\n",
        "val_df, test_df = train_test_split(\n",
        "    temp_df, test_size=0.50, random_state=42, shuffle=True\n",
        ")\n",
        "\n",
        "print(len(train_df), len(val_df), len(test_df))"
      ]
    },
    {
      "cell_type": "code",
      "execution_count": 35,
      "id": "99476fb5",
      "metadata": {
        "id": "99476fb5"
      },
      "outputs": [],
      "source": [
        "# --- used in training my model --- #\n",
        "train_texts = train_df['Clean_Review'].values\n",
        "train_scores = train_df['Review_Score'].values\n",
        "train_targets = train_df['Review_Type'].values\n",
        "\n",
        "# --- used in hyperparameter tuning --- #\n",
        "val_texts = val_df['Clean_Review'].values\n",
        "val_scores = val_df['Review_Score'].values\n",
        "val_targets = val_df['Review_Type'].values\n",
        "\n",
        "# --- used in final evaluation --- #\n",
        "test_texts = test_df['Clean_Review'].values\n",
        "test_scores = test_df['Review_Score'].values\n",
        "test_targets = test_df['Review_Type'].values"
      ]
    },
    {
      "cell_type": "markdown",
      "id": "f833262e",
      "metadata": {
        "id": "f833262e"
      },
      "source": [
        "<font color=\"blue\">**CHANGE**</font>\n",
        "\n",
        "In the exam, I mentioned as input the preprocessed embedding dimensions, since I intended input as \"what I actually feed into my selected RNN (specifically, the Bidirectional LSTM).\"\n",
        "\n",
        "However, it would probably have been more correct to indicate as input the *dimensions of the tokenized reviews*, that are going to be processed directly inside the model embedding, also it's preferable to include the embedding layer inside the model so thath the weights associated can be easily trained directly:\n",
        "\n",
        "**(batch_size, tokenized_reviews) --- Embedding ---> (batch_size, timestep, input_dim) --- RNN MODEL ---> (batch_size, output_BiLSTM)**"
      ]
    },
    {
      "cell_type": "code",
      "execution_count": 36,
      "id": "1a95bca5",
      "metadata": {
        "colab": {
          "base_uri": "https://localhost:8080/"
        },
        "id": "1a95bca5",
        "outputId": "fac3a8cf-314d-4d61-df30-50cd4a167749"
      },
      "outputs": [
        {
          "output_type": "stream",
          "name": "stdout",
          "text": [
            "First apply tokenization:\n",
            "[[7513, 4807, 8085, 177, 1520, 4807, 8085, 4771, 2665, 3635, 642, 4171, 920]]\n",
            "\n",
            "Then apply paddding:\n",
            "[[7513 4807 8085  177 1520 4807 8085 4771 2665 3635  642 4171  920    0\n",
            "     0    0    0    0    0    0    0    0    0    0    0    0    0    0\n",
            "     0    0    0    0    0    0    0    0    0    0    0    0    0    0\n",
            "     0    0    0    0    0    0    0    0    0    0    0    0    0    0\n",
            "     0    0    0    0    0    0    0    0    0    0    0    0    0    0\n",
            "     0    0    0    0    0    0    0    0    0    0    0    0    0    0\n",
            "     0    0    0    0    0    0    0    0    0    0    0    0    0    0\n",
            "     0    0    0]]\n"
          ]
        }
      ],
      "source": [
        "# --- training --- #\n",
        "tokenized_train = tokenizer.texts_to_sequences(train_texts)\n",
        "train_texts = pad_sequences(\n",
        "    tokenized_train,\n",
        "    maxlen=max_len,\n",
        "    padding='post',\n",
        "    truncating='post'\n",
        ")\n",
        "\n",
        "# --- validation --- #\n",
        "tokenized_val = tokenizer.texts_to_sequences(val_texts)\n",
        "val_texts = pad_sequences(\n",
        "    tokenized_val,\n",
        "    maxlen=max_len,\n",
        "    padding='post',\n",
        "    truncating='post'\n",
        ")\n",
        "\n",
        "# --- test --- #\n",
        "tokenized_test = tokenizer.texts_to_sequences(test_texts)\n",
        "test_texts = pad_sequences(\n",
        "    tokenized_test,\n",
        "    maxlen=max_len,\n",
        "    padding='post',\n",
        "    truncating='post'\n",
        ")\n",
        "\n",
        "\n",
        "print(\"First apply tokenization:\")\n",
        "print(tokenized_train[:1])\n",
        "print(\"\")\n",
        "print(\"Then apply paddding:\")\n",
        "print(train_texts[:1])"
      ]
    },
    {
      "cell_type": "markdown",
      "id": "6f48f1af",
      "metadata": {
        "id": "6f48f1af"
      },
      "source": [
        "# 3-4 INPUT - OUTPUT"
      ]
    },
    {
      "cell_type": "markdown",
      "source": [
        "I decided to highlight the input and output of the model to clearly illustrate the features and their respective dimensions."
      ],
      "metadata": {
        "id": "I9TH5DADACLF"
      },
      "id": "I9TH5DADACLF"
    },
    {
      "cell_type": "code",
      "execution_count": 37,
      "id": "a8031e91",
      "metadata": {
        "colab": {
          "base_uri": "https://localhost:8080/"
        },
        "id": "a8031e91",
        "outputId": "138d6d0c-404a-4dc9-976f-2075319afa13"
      },
      "outputs": [
        {
          "output_type": "stream",
          "name": "stdout",
          "text": [
            "input model shape: (5508, 101), (5508,)\n"
          ]
        }
      ],
      "source": [
        "def input_reviews():\n",
        "    return Input(shape=(max_len,), name='text_input')\n",
        "\n",
        "def input_scores():\n",
        "    return Input(shape=(1,), name='score_input')\n",
        "\n",
        "\n",
        "print(f\"input model shape: {train_texts.shape}, {train_scores.shape}\")"
      ]
    },
    {
      "cell_type": "markdown",
      "source": [
        "As already said in the exam, choosing sigmoid is a common setup when predicting probabilities for two-class problems.\n",
        "\n"
      ],
      "metadata": {
        "id": "tI6-5p3nAlRR"
      },
      "id": "tI6-5p3nAlRR"
    },
    {
      "cell_type": "code",
      "execution_count": 38,
      "id": "67d8ce83",
      "metadata": {
        "colab": {
          "base_uri": "https://localhost:8080/"
        },
        "id": "67d8ce83",
        "outputId": "daff29a3-0a0e-4646-94f0-269e0acfdef8"
      },
      "outputs": [
        {
          "output_type": "stream",
          "name": "stdout",
          "text": [
            "output model shape: (5508,)\n"
          ]
        }
      ],
      "source": [
        "def output_classification():\n",
        "    return Dense(1, activation='sigmoid', name='output')\n",
        "\n",
        "print(f\"output model shape: {train_targets.shape}\")"
      ]
    },
    {
      "cell_type": "markdown",
      "id": "b38bb208",
      "metadata": {
        "id": "b38bb208"
      },
      "source": [
        "# 5- MODEL CONFIGURATION"
      ]
    },
    {
      "cell_type": "markdown",
      "id": "cebdf226",
      "metadata": {
        "id": "cebdf226"
      },
      "source": [
        "This section represents the following parts:\n",
        "\n",
        "6a- Model composition (composition of layers, regardless their number,\n",
        "or their dimension). This model is designed for binary classification, using both textual reviews and an associated numerical score as input features. The architecture is modular and parameterized to allow flexibility in tuning key hyperparameters. As mentioned in my exam, i decided to add Dropout and BatchNormalization layers."
      ]
    },
    {
      "cell_type": "code",
      "execution_count": 39,
      "id": "a67e2733",
      "metadata": {
        "colab": {
          "base_uri": "https://localhost:8080/",
          "height": 0
        },
        "id": "a67e2733",
        "outputId": "07b7898f-c80e-4625-cdb4-f0cf1489dfa1"
      },
      "outputs": [
        {
          "output_type": "display_data",
          "data": {
            "text/plain": [
              "\u001b[1mModel: \"functional_4\"\u001b[0m\n"
            ],
            "text/html": [
              "<pre style=\"white-space:pre;overflow-x:auto;line-height:normal;font-family:Menlo,'DejaVu Sans Mono',consolas,'Courier New',monospace\"><span style=\"font-weight: bold\">Model: \"functional_4\"</span>\n",
              "</pre>\n"
            ]
          },
          "metadata": {}
        },
        {
          "output_type": "display_data",
          "data": {
            "text/plain": [
              "┏━━━━━━━━━━━━━━━━━━━━━┳━━━━━━━━━━━━━━━━━━━┳━━━━━━━━━━━━┳━━━━━━━━━━━━━━━━━━━┓\n",
              "┃\u001b[1m \u001b[0m\u001b[1mLayer (type)       \u001b[0m\u001b[1m \u001b[0m┃\u001b[1m \u001b[0m\u001b[1mOutput Shape     \u001b[0m\u001b[1m \u001b[0m┃\u001b[1m \u001b[0m\u001b[1m   Param #\u001b[0m\u001b[1m \u001b[0m┃\u001b[1m \u001b[0m\u001b[1mConnected to     \u001b[0m\u001b[1m \u001b[0m┃\n",
              "┡━━━━━━━━━━━━━━━━━━━━━╇━━━━━━━━━━━━━━━━━━━╇━━━━━━━━━━━━╇━━━━━━━━━━━━━━━━━━━┩\n",
              "│ text_input          │ (\u001b[38;5;45mNone\u001b[0m, \u001b[38;5;34m101\u001b[0m)       │          \u001b[38;5;34m0\u001b[0m │ -                 │\n",
              "│ (\u001b[38;5;33mInputLayer\u001b[0m)        │                   │            │                   │\n",
              "├─────────────────────┼───────────────────┼────────────┼───────────────────┤\n",
              "│ embedding           │ (\u001b[38;5;45mNone\u001b[0m, \u001b[38;5;34m101\u001b[0m, \u001b[38;5;34m32\u001b[0m)   │    \u001b[38;5;34m261,248\u001b[0m │ text_input[\u001b[38;5;34m0\u001b[0m][\u001b[38;5;34m0\u001b[0m]  │\n",
              "│ (\u001b[38;5;33mEmbedding\u001b[0m)         │                   │            │                   │\n",
              "├─────────────────────┼───────────────────┼────────────┼───────────────────┤\n",
              "│ not_equal_4         │ (\u001b[38;5;45mNone\u001b[0m, \u001b[38;5;34m101\u001b[0m)       │          \u001b[38;5;34m0\u001b[0m │ text_input[\u001b[38;5;34m0\u001b[0m][\u001b[38;5;34m0\u001b[0m]  │\n",
              "│ (\u001b[38;5;33mNotEqual\u001b[0m)          │                   │            │                   │\n",
              "├─────────────────────┼───────────────────┼────────────┼───────────────────┤\n",
              "│ bidirectional_4     │ (\u001b[38;5;45mNone\u001b[0m, \u001b[38;5;34m128\u001b[0m)       │     \u001b[38;5;34m49,664\u001b[0m │ embedding[\u001b[38;5;34m0\u001b[0m][\u001b[38;5;34m0\u001b[0m],  │\n",
              "│ (\u001b[38;5;33mBidirectional\u001b[0m)     │                   │            │ not_equal_4[\u001b[38;5;34m0\u001b[0m][\u001b[38;5;34m0\u001b[0m] │\n",
              "├─────────────────────┼───────────────────┼────────────┼───────────────────┤\n",
              "│ score_input         │ (\u001b[38;5;45mNone\u001b[0m, \u001b[38;5;34m1\u001b[0m)         │          \u001b[38;5;34m0\u001b[0m │ -                 │\n",
              "│ (\u001b[38;5;33mInputLayer\u001b[0m)        │                   │            │                   │\n",
              "├─────────────────────┼───────────────────┼────────────┼───────────────────┤\n",
              "│ concatenate_4       │ (\u001b[38;5;45mNone\u001b[0m, \u001b[38;5;34m129\u001b[0m)       │          \u001b[38;5;34m0\u001b[0m │ bidirectional_4[\u001b[38;5;34m…\u001b[0m │\n",
              "│ (\u001b[38;5;33mConcatenate\u001b[0m)       │                   │            │ score_input[\u001b[38;5;34m0\u001b[0m][\u001b[38;5;34m0\u001b[0m] │\n",
              "├─────────────────────┼───────────────────┼────────────┼───────────────────┤\n",
              "│ dense_8 (\u001b[38;5;33mDense\u001b[0m)     │ (\u001b[38;5;45mNone\u001b[0m, \u001b[38;5;34m64\u001b[0m)        │      \u001b[38;5;34m8,320\u001b[0m │ concatenate_4[\u001b[38;5;34m0\u001b[0m]… │\n",
              "├─────────────────────┼───────────────────┼────────────┼───────────────────┤\n",
              "│ batch_normalizatio… │ (\u001b[38;5;45mNone\u001b[0m, \u001b[38;5;34m64\u001b[0m)        │        \u001b[38;5;34m256\u001b[0m │ dense_8[\u001b[38;5;34m0\u001b[0m][\u001b[38;5;34m0\u001b[0m]     │\n",
              "│ (\u001b[38;5;33mBatchNormalizatio…\u001b[0m │                   │            │                   │\n",
              "├─────────────────────┼───────────────────┼────────────┼───────────────────┤\n",
              "│ dropout_8 (\u001b[38;5;33mDropout\u001b[0m) │ (\u001b[38;5;45mNone\u001b[0m, \u001b[38;5;34m64\u001b[0m)        │          \u001b[38;5;34m0\u001b[0m │ batch_normalizat… │\n",
              "├─────────────────────┼───────────────────┼────────────┼───────────────────┤\n",
              "│ dense_9 (\u001b[38;5;33mDense\u001b[0m)     │ (\u001b[38;5;45mNone\u001b[0m, \u001b[38;5;34m32\u001b[0m)        │      \u001b[38;5;34m2,080\u001b[0m │ dropout_8[\u001b[38;5;34m0\u001b[0m][\u001b[38;5;34m0\u001b[0m]   │\n",
              "├─────────────────────┼───────────────────┼────────────┼───────────────────┤\n",
              "│ batch_normalizatio… │ (\u001b[38;5;45mNone\u001b[0m, \u001b[38;5;34m32\u001b[0m)        │        \u001b[38;5;34m128\u001b[0m │ dense_9[\u001b[38;5;34m0\u001b[0m][\u001b[38;5;34m0\u001b[0m]     │\n",
              "│ (\u001b[38;5;33mBatchNormalizatio…\u001b[0m │                   │            │                   │\n",
              "├─────────────────────┼───────────────────┼────────────┼───────────────────┤\n",
              "│ dropout_9 (\u001b[38;5;33mDropout\u001b[0m) │ (\u001b[38;5;45mNone\u001b[0m, \u001b[38;5;34m32\u001b[0m)        │          \u001b[38;5;34m0\u001b[0m │ batch_normalizat… │\n",
              "├─────────────────────┼───────────────────┼────────────┼───────────────────┤\n",
              "│ output (\u001b[38;5;33mDense\u001b[0m)      │ (\u001b[38;5;45mNone\u001b[0m, \u001b[38;5;34m1\u001b[0m)         │         \u001b[38;5;34m33\u001b[0m │ dropout_9[\u001b[38;5;34m0\u001b[0m][\u001b[38;5;34m0\u001b[0m]   │\n",
              "└─────────────────────┴───────────────────┴────────────┴───────────────────┘\n"
            ],
            "text/html": [
              "<pre style=\"white-space:pre;overflow-x:auto;line-height:normal;font-family:Menlo,'DejaVu Sans Mono',consolas,'Courier New',monospace\">┏━━━━━━━━━━━━━━━━━━━━━┳━━━━━━━━━━━━━━━━━━━┳━━━━━━━━━━━━┳━━━━━━━━━━━━━━━━━━━┓\n",
              "┃<span style=\"font-weight: bold\"> Layer (type)        </span>┃<span style=\"font-weight: bold\"> Output Shape      </span>┃<span style=\"font-weight: bold\">    Param # </span>┃<span style=\"font-weight: bold\"> Connected to      </span>┃\n",
              "┡━━━━━━━━━━━━━━━━━━━━━╇━━━━━━━━━━━━━━━━━━━╇━━━━━━━━━━━━╇━━━━━━━━━━━━━━━━━━━┩\n",
              "│ text_input          │ (<span style=\"color: #00d7ff; text-decoration-color: #00d7ff\">None</span>, <span style=\"color: #00af00; text-decoration-color: #00af00\">101</span>)       │          <span style=\"color: #00af00; text-decoration-color: #00af00\">0</span> │ -                 │\n",
              "│ (<span style=\"color: #0087ff; text-decoration-color: #0087ff\">InputLayer</span>)        │                   │            │                   │\n",
              "├─────────────────────┼───────────────────┼────────────┼───────────────────┤\n",
              "│ embedding           │ (<span style=\"color: #00d7ff; text-decoration-color: #00d7ff\">None</span>, <span style=\"color: #00af00; text-decoration-color: #00af00\">101</span>, <span style=\"color: #00af00; text-decoration-color: #00af00\">32</span>)   │    <span style=\"color: #00af00; text-decoration-color: #00af00\">261,248</span> │ text_input[<span style=\"color: #00af00; text-decoration-color: #00af00\">0</span>][<span style=\"color: #00af00; text-decoration-color: #00af00\">0</span>]  │\n",
              "│ (<span style=\"color: #0087ff; text-decoration-color: #0087ff\">Embedding</span>)         │                   │            │                   │\n",
              "├─────────────────────┼───────────────────┼────────────┼───────────────────┤\n",
              "│ not_equal_4         │ (<span style=\"color: #00d7ff; text-decoration-color: #00d7ff\">None</span>, <span style=\"color: #00af00; text-decoration-color: #00af00\">101</span>)       │          <span style=\"color: #00af00; text-decoration-color: #00af00\">0</span> │ text_input[<span style=\"color: #00af00; text-decoration-color: #00af00\">0</span>][<span style=\"color: #00af00; text-decoration-color: #00af00\">0</span>]  │\n",
              "│ (<span style=\"color: #0087ff; text-decoration-color: #0087ff\">NotEqual</span>)          │                   │            │                   │\n",
              "├─────────────────────┼───────────────────┼────────────┼───────────────────┤\n",
              "│ bidirectional_4     │ (<span style=\"color: #00d7ff; text-decoration-color: #00d7ff\">None</span>, <span style=\"color: #00af00; text-decoration-color: #00af00\">128</span>)       │     <span style=\"color: #00af00; text-decoration-color: #00af00\">49,664</span> │ embedding[<span style=\"color: #00af00; text-decoration-color: #00af00\">0</span>][<span style=\"color: #00af00; text-decoration-color: #00af00\">0</span>],  │\n",
              "│ (<span style=\"color: #0087ff; text-decoration-color: #0087ff\">Bidirectional</span>)     │                   │            │ not_equal_4[<span style=\"color: #00af00; text-decoration-color: #00af00\">0</span>][<span style=\"color: #00af00; text-decoration-color: #00af00\">0</span>] │\n",
              "├─────────────────────┼───────────────────┼────────────┼───────────────────┤\n",
              "│ score_input         │ (<span style=\"color: #00d7ff; text-decoration-color: #00d7ff\">None</span>, <span style=\"color: #00af00; text-decoration-color: #00af00\">1</span>)         │          <span style=\"color: #00af00; text-decoration-color: #00af00\">0</span> │ -                 │\n",
              "│ (<span style=\"color: #0087ff; text-decoration-color: #0087ff\">InputLayer</span>)        │                   │            │                   │\n",
              "├─────────────────────┼───────────────────┼────────────┼───────────────────┤\n",
              "│ concatenate_4       │ (<span style=\"color: #00d7ff; text-decoration-color: #00d7ff\">None</span>, <span style=\"color: #00af00; text-decoration-color: #00af00\">129</span>)       │          <span style=\"color: #00af00; text-decoration-color: #00af00\">0</span> │ bidirectional_4[<span style=\"color: #00af00; text-decoration-color: #00af00\">…</span> │\n",
              "│ (<span style=\"color: #0087ff; text-decoration-color: #0087ff\">Concatenate</span>)       │                   │            │ score_input[<span style=\"color: #00af00; text-decoration-color: #00af00\">0</span>][<span style=\"color: #00af00; text-decoration-color: #00af00\">0</span>] │\n",
              "├─────────────────────┼───────────────────┼────────────┼───────────────────┤\n",
              "│ dense_8 (<span style=\"color: #0087ff; text-decoration-color: #0087ff\">Dense</span>)     │ (<span style=\"color: #00d7ff; text-decoration-color: #00d7ff\">None</span>, <span style=\"color: #00af00; text-decoration-color: #00af00\">64</span>)        │      <span style=\"color: #00af00; text-decoration-color: #00af00\">8,320</span> │ concatenate_4[<span style=\"color: #00af00; text-decoration-color: #00af00\">0</span>]… │\n",
              "├─────────────────────┼───────────────────┼────────────┼───────────────────┤\n",
              "│ batch_normalizatio… │ (<span style=\"color: #00d7ff; text-decoration-color: #00d7ff\">None</span>, <span style=\"color: #00af00; text-decoration-color: #00af00\">64</span>)        │        <span style=\"color: #00af00; text-decoration-color: #00af00\">256</span> │ dense_8[<span style=\"color: #00af00; text-decoration-color: #00af00\">0</span>][<span style=\"color: #00af00; text-decoration-color: #00af00\">0</span>]     │\n",
              "│ (<span style=\"color: #0087ff; text-decoration-color: #0087ff\">BatchNormalizatio…</span> │                   │            │                   │\n",
              "├─────────────────────┼───────────────────┼────────────┼───────────────────┤\n",
              "│ dropout_8 (<span style=\"color: #0087ff; text-decoration-color: #0087ff\">Dropout</span>) │ (<span style=\"color: #00d7ff; text-decoration-color: #00d7ff\">None</span>, <span style=\"color: #00af00; text-decoration-color: #00af00\">64</span>)        │          <span style=\"color: #00af00; text-decoration-color: #00af00\">0</span> │ batch_normalizat… │\n",
              "├─────────────────────┼───────────────────┼────────────┼───────────────────┤\n",
              "│ dense_9 (<span style=\"color: #0087ff; text-decoration-color: #0087ff\">Dense</span>)     │ (<span style=\"color: #00d7ff; text-decoration-color: #00d7ff\">None</span>, <span style=\"color: #00af00; text-decoration-color: #00af00\">32</span>)        │      <span style=\"color: #00af00; text-decoration-color: #00af00\">2,080</span> │ dropout_8[<span style=\"color: #00af00; text-decoration-color: #00af00\">0</span>][<span style=\"color: #00af00; text-decoration-color: #00af00\">0</span>]   │\n",
              "├─────────────────────┼───────────────────┼────────────┼───────────────────┤\n",
              "│ batch_normalizatio… │ (<span style=\"color: #00d7ff; text-decoration-color: #00d7ff\">None</span>, <span style=\"color: #00af00; text-decoration-color: #00af00\">32</span>)        │        <span style=\"color: #00af00; text-decoration-color: #00af00\">128</span> │ dense_9[<span style=\"color: #00af00; text-decoration-color: #00af00\">0</span>][<span style=\"color: #00af00; text-decoration-color: #00af00\">0</span>]     │\n",
              "│ (<span style=\"color: #0087ff; text-decoration-color: #0087ff\">BatchNormalizatio…</span> │                   │            │                   │\n",
              "├─────────────────────┼───────────────────┼────────────┼───────────────────┤\n",
              "│ dropout_9 (<span style=\"color: #0087ff; text-decoration-color: #0087ff\">Dropout</span>) │ (<span style=\"color: #00d7ff; text-decoration-color: #00d7ff\">None</span>, <span style=\"color: #00af00; text-decoration-color: #00af00\">32</span>)        │          <span style=\"color: #00af00; text-decoration-color: #00af00\">0</span> │ batch_normalizat… │\n",
              "├─────────────────────┼───────────────────┼────────────┼───────────────────┤\n",
              "│ output (<span style=\"color: #0087ff; text-decoration-color: #0087ff\">Dense</span>)      │ (<span style=\"color: #00d7ff; text-decoration-color: #00d7ff\">None</span>, <span style=\"color: #00af00; text-decoration-color: #00af00\">1</span>)         │         <span style=\"color: #00af00; text-decoration-color: #00af00\">33</span> │ dropout_9[<span style=\"color: #00af00; text-decoration-color: #00af00\">0</span>][<span style=\"color: #00af00; text-decoration-color: #00af00\">0</span>]   │\n",
              "└─────────────────────┴───────────────────┴────────────┴───────────────────┘\n",
              "</pre>\n"
            ]
          },
          "metadata": {}
        },
        {
          "output_type": "display_data",
          "data": {
            "text/plain": [
              "\u001b[1m Total params: \u001b[0m\u001b[38;5;34m321,729\u001b[0m (1.23 MB)\n"
            ],
            "text/html": [
              "<pre style=\"white-space:pre;overflow-x:auto;line-height:normal;font-family:Menlo,'DejaVu Sans Mono',consolas,'Courier New',monospace\"><span style=\"font-weight: bold\"> Total params: </span><span style=\"color: #00af00; text-decoration-color: #00af00\">321,729</span> (1.23 MB)\n",
              "</pre>\n"
            ]
          },
          "metadata": {}
        },
        {
          "output_type": "display_data",
          "data": {
            "text/plain": [
              "\u001b[1m Trainable params: \u001b[0m\u001b[38;5;34m321,537\u001b[0m (1.23 MB)\n"
            ],
            "text/html": [
              "<pre style=\"white-space:pre;overflow-x:auto;line-height:normal;font-family:Menlo,'DejaVu Sans Mono',consolas,'Courier New',monospace\"><span style=\"font-weight: bold\"> Trainable params: </span><span style=\"color: #00af00; text-decoration-color: #00af00\">321,537</span> (1.23 MB)\n",
              "</pre>\n"
            ]
          },
          "metadata": {}
        },
        {
          "output_type": "display_data",
          "data": {
            "text/plain": [
              "\u001b[1m Non-trainable params: \u001b[0m\u001b[38;5;34m192\u001b[0m (768.00 B)\n"
            ],
            "text/html": [
              "<pre style=\"white-space:pre;overflow-x:auto;line-height:normal;font-family:Menlo,'DejaVu Sans Mono',consolas,'Courier New',monospace\"><span style=\"font-weight: bold\"> Non-trainable params: </span><span style=\"color: #00af00; text-decoration-color: #00af00\">192</span> (768.00 B)\n",
              "</pre>\n"
            ]
          },
          "metadata": {}
        }
      ],
      "source": [
        "def create_model(LOSS = 'binary_crossentropy',\n",
        "                 embedding_dim = 32,\n",
        "                 learning_rate=0.01,\n",
        "                 hidden_act='relu',\n",
        "                 dropout_rate=0.2):\n",
        "    # 2 inputs: text and score\n",
        "    text_input = input_reviews()\n",
        "\n",
        "    score_input = input_scores()\n",
        "\n",
        "    embedded = Embedding(\n",
        "        input_dim=vocab_size,\n",
        "        output_dim=embedding_dim,\n",
        "        mask_zero=True,\n",
        "        name='embedding'\n",
        "    )(text_input)\n",
        "\n",
        "    bilstm_out = Bidirectional(\n",
        "        LSTM(units=64,\n",
        "             activation='tanh',\n",
        "             recurrent_activation='sigmoid',\n",
        "             kernel_initializer='glorot_uniform',\n",
        "             return_sequences=False,\n",
        "             name='bilstm')\n",
        "        )(embedded)\n",
        "\n",
        "    # Concatenate branches\n",
        "    x = Concatenate(axis=-1)([bilstm_out, score_input])\n",
        "\n",
        "    # Dense layers with dropout and batch normalization\n",
        "    x = Dense(64, activation=hidden_act, kernel_initializer='he_uniform', kernel_regularizer='l2')(x)\n",
        "    x = BatchNormalization()(x)\n",
        "    x = Dropout(dropout_rate)(x)\n",
        "\n",
        "    x = Dense(32, activation=hidden_act, kernel_initializer='he_uniform', kernel_regularizer='l2')(x)\n",
        "    x = BatchNormalization()(x)\n",
        "    x = Dropout(dropout_rate)(x)\n",
        "\n",
        "    # Output layer for binary classification\n",
        "    output = output_classification()(x)\n",
        "\n",
        "    model = Model(inputs=[text_input, score_input], outputs=output)\n",
        "    model.compile(\n",
        "        optimizer=Adam(learning_rate=learning_rate),\n",
        "        loss=LOSS,\n",
        "        metrics=['accuracy']\n",
        "    )\n",
        "\n",
        "    return model\n",
        "\n",
        "create_model().summary()"
      ]
    },
    {
      "cell_type": "markdown",
      "id": "f8249b23",
      "metadata": {
        "id": "f8249b23"
      },
      "source": [
        "6b- hyperparameter tuning: Here i provide a vocabulary containing the most important parameters for my model to be tuned. Selecting the best combination of those parameters will improve my model capabilities."
      ]
    },
    {
      "cell_type": "code",
      "execution_count": 40,
      "id": "fc635fb5",
      "metadata": {
        "id": "fc635fb5"
      },
      "outputs": [],
      "source": [
        "param_grid = {\n",
        "    'learning_rate': [1e-5, 1e-4, 1e-3],\n",
        "    'epochs':       [5, 10],\n",
        "    'batch_size':   [64, 128, 256],\n",
        "    'dropout_rate': [0.1, 0.2, 0.3],\n",
        "    'hidden_act':   ['relu', 'leaky_relu']\n",
        "}"
      ]
    },
    {
      "cell_type": "markdown",
      "id": "c1affc9b",
      "metadata": {
        "id": "c1affc9b"
      },
      "source": [
        "# 6- MODEL EVALUATION"
      ]
    },
    {
      "cell_type": "markdown",
      "id": "6f393c19",
      "metadata": {
        "id": "6f393c19"
      },
      "source": [
        "This section focus on how to assess (in which setting) the generalization capabilties of the model on unseen data.\n",
        "\n",
        "<font color=\"blue\">**CHANGE**</font>\n",
        "\n",
        "To evaluate the model, I implemented a custom random search procedure, selecting the best configuration based solely on the F1-score, while also recording accuracy for reference. The evaluation was conducted using a single validation set without applying any stratified sampling and only on just 2 samples, everithing in order to reduce complexity."
      ]
    },
    {
      "cell_type": "code",
      "execution_count": null,
      "id": "a1017e1c",
      "metadata": {
        "colab": {
          "base_uri": "https://localhost:8080/"
        },
        "id": "a1017e1c",
        "outputId": "55349078-f5f7-4efb-c6e5-5a94a8582a5e"
      },
      "outputs": [
        {
          "output_type": "stream",
          "name": "stdout",
          "text": [
            "Total configurations: 108, sampling 2 random sets \n",
            "\n",
            "========== TRAINING 1\\2 ==========\n",
            "PARAMETERS: lr=0.001, dropout=0.2, hidden_act=leaky_relu, epochs=5, batch_size=64\n",
            "Epoch 1/5\n",
            "\u001b[1m67/87\u001b[0m \u001b[32m━━━━━━━━━━━━━━━\u001b[0m\u001b[37m━━━━━\u001b[0m \u001b[1m3s\u001b[0m 177ms/step - accuracy: 0.9045 - loss: 1.8906"
          ]
        }
      ],
      "source": [
        "def random_search(grid, samples= 2):\n",
        "    # Generate all parameters grid space and randomly sample\n",
        "    parameters_space = list(itertools.product(*grid.values()))\n",
        "    print(f\"Total configurations: {len(parameters_space)}, sampling {samples} random sets \\n\")\n",
        "    sampled = random.sample(parameters_space, samples)\n",
        "    param_dicts = [dict(zip(grid.keys(), combo)) for combo in sampled]\n",
        "\n",
        "    # best model variables\n",
        "    best_f1 = 0\n",
        "    best_acc = 0\n",
        "    best_params = None\n",
        "\n",
        "    counter = 0\n",
        "    for params in param_dicts:\n",
        "        counter += 1\n",
        "\n",
        "        lr = params['learning_rate']\n",
        "        dp = params['dropout_rate']\n",
        "        act = params['hidden_act']\n",
        "        epochs = params['epochs']\n",
        "        bs = params['batch_size']\n",
        "\n",
        "        print(f\"========== TRAINING {counter}\\{samples} ==========\")\n",
        "        print(f\"PARAMETERS: lr={lr}, dropout={dp}, hidden_act={act}, epochs={epochs}, batch_size={bs}\")\n",
        "        model = create_model(\n",
        "            learning_rate=lr,\n",
        "            dropout_rate=dp,\n",
        "            hidden_act=act)\n",
        "\n",
        "        # Fit on train, validate on val\n",
        "        model.fit(\n",
        "            x=[train_texts, train_scores],\n",
        "            y=train_targets,\n",
        "            validation_data=([val_texts, val_scores], val_targets),\n",
        "            epochs=epochs,\n",
        "            batch_size=bs,\n",
        "            verbose=1\n",
        "        )\n",
        "\n",
        "        # Evaluate\n",
        "        preds = (model.predict([val_texts, val_scores]) > 0.5).astype(int)\n",
        "        acc = accuracy_score(val_targets, preds)\n",
        "        f1 = classification_report(val_targets, preds, output_dict=True)['weighted avg']['f1-score']\n",
        "        print(f\" -> Validation F1-score: {f1:.4f}\")\n",
        "        print(f\" -> Validation Accuracy: {acc:.4f}\\n\")\n",
        "\n",
        "        if f1 > best_f1:\n",
        "            best_f1 = f1\n",
        "            best_acc = acc\n",
        "            best_params = params\n",
        "\n",
        "    print(f\"Best Validation F1-score: {best_f1:.4f}\")\n",
        "    print(f\"Best Set Hyperparameters: {best_params}\")\n",
        "    return best_params, best_f1, best_acc\n",
        "\n",
        "\n",
        "best_params, best_f1, best_acc = random_search(param_grid)"
      ]
    },
    {
      "cell_type": "markdown",
      "id": "8683f9b1",
      "metadata": {
        "id": "8683f9b1"
      },
      "source": [
        "Here is the best model configuration on which i'll evaluate my model performances on test:\n",
        "- `learning_rate`: 0.0001\n",
        "- `epochs`: 10\n",
        "- `batch_size`: 64\n",
        "- `dropout`: 0.1\n",
        "- `hidden_act`: `relu`"
      ]
    },
    {
      "cell_type": "code",
      "execution_count": null,
      "id": "be90dbf8",
      "metadata": {
        "id": "be90dbf8"
      },
      "outputs": [],
      "source": [
        "X1= np.concatenate([train_texts, val_texts])\n",
        "X2= np.concatenate([train_scores, val_scores])\n",
        "Y= np.concatenate([train_targets, val_targets])\n",
        "\n",
        "final_model = create_model(learning_rate=best_params['learning_rate'],\n",
        "                           dropout_rate=best_params['dropout_rate'],\n",
        "                           hidden_act=best_params['hidden_act']\n",
        "                           )\n",
        "\n",
        "final_model.fit(x= [X1, X2], y= Y,\n",
        "                epochs=best_params['epochs'],\n",
        "                batch_size=best_params['batch_size'],\n",
        "                verbose=1)"
      ]
    },
    {
      "cell_type": "markdown",
      "id": "22a1a918",
      "metadata": {
        "id": "22a1a918"
      },
      "source": [
        "# PLOTTING RESULTS\n",
        "\n",
        "- Test F1-score: 0.9898\n",
        "- Final Test Accuracy: 0.9898\n",
        "\n",
        "Confusion matrix:\n",
        "```\n",
        "[[355 0]\n",
        " [7 327]]\n",
        "```"
      ]
    },
    {
      "cell_type": "code",
      "execution_count": null,
      "id": "f6f8d070",
      "metadata": {
        "id": "f6f8d070"
      },
      "outputs": [],
      "source": [
        "test_preds = (final_model.predict([test_texts, test_scores]) > 0.5).astype(int)\n",
        "test_acc = accuracy_score(test_targets, test_preds)\n",
        "test_f1 = classification_report(test_targets, test_preds, output_dict=True)['weighted avg']['f1-score']\n",
        "\n",
        "print(f\"Final Test F1-score: {test_f1:.4f}\")\n",
        "print(f\"Final Test Accuracy: {test_acc:.4f}\")"
      ]
    },
    {
      "cell_type": "code",
      "execution_count": null,
      "id": "cfa1afa2",
      "metadata": {
        "id": "cfa1afa2"
      },
      "outputs": [],
      "source": [
        "cm = confusion_matrix(test_targets, test_preds)\n",
        "plt.figure(figsize=(6, 5))\n",
        "sns.heatmap(cm, annot=True, fmt='d', cmap='Blues',\n",
        "            xticklabels=['Bad Review', 'Good Review'],\n",
        "            yticklabels=['Bad Review', 'Good Review'])\n",
        "plt.xlabel('Predicted Label')\n",
        "plt.ylabel('True Label')\n",
        "plt.title('Confusion Matrix for Review Type Prediction')\n",
        "plt.show()"
      ]
    }
  ],
  "metadata": {
    "colab": {
      "provenance": []
    },
    "kernelspec": {
      "display_name": "Python 3",
      "language": "python",
      "name": "python3"
    },
    "language_info": {
      "codemirror_mode": {
        "name": "ipython",
        "version": 3
      },
      "file_extension": ".py",
      "mimetype": "text/x-python",
      "name": "python",
      "nbconvert_exporter": "python",
      "pygments_lexer": "ipython3",
      "version": "3.11.0"
    }
  },
  "nbformat": 4,
  "nbformat_minor": 5
}