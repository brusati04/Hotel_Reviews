{
  "cells": [
    {
      "cell_type": "markdown",
      "id": "mx5WJh7PICGE",
      "metadata": {
        "id": "mx5WJh7PICGE"
      },
      "source": [
        "# 1- INTRODUCTION\n",
        "\n",
        "This project is baesd on a binary classification of Hotel reviews into Good or Bad. For my project i decided to implement a RNN-based model capable of extracting relevant features from text in order to execute the required task."
      ]
    },
    {
      "cell_type": "markdown",
      "source": [
        "**DISCLAIMER**:\n",
        "\n",
        "Unfortunately i have noticed that choosing in the model selection a Bidirectional LSTM instead of a simple LSTM (or even GRU) have increased a lot the model evaluation, still getting good performances. I have runned on my personal laptop and it converged in 2 min, however, in collab it took me 30 min to fully run the nootebook and obtain the same results."
      ],
      "metadata": {
        "id": "WxiIDJW04ewN"
      },
      "id": "WxiIDJW04ewN"
    },
    {
      "cell_type": "code",
      "execution_count": 1,
      "id": "bbcbac2b",
      "metadata": {
        "colab": {
          "base_uri": "https://localhost:8080/"
        },
        "id": "bbcbac2b",
        "outputId": "8e06a1c0-72a2-487d-e17f-bd603a1614a9"
      },
      "outputs": [
        {
          "output_type": "stream",
          "name": "stdout",
          "text": [
            "3.8.0\n",
            "2.18.0\n"
          ]
        }
      ],
      "source": [
        "import numpy as np\n",
        "import pandas as pd\n",
        "import tensorflow as tf\n",
        "import keras\n",
        "import matplotlib.pyplot as plt\n",
        "import seaborn as sns\n",
        "import random\n",
        "import string\n",
        "import itertools\n",
        "\n",
        "from sklearn.model_selection import train_test_split\n",
        "\n",
        "from sklearn.preprocessing import LabelEncoder\n",
        "from keras.api.preprocessing.sequence import pad_sequences\n",
        "\n",
        "from keras.api.models import Model\n",
        "from keras.api.layers import (Input, Dense, LSTM, Embedding, Bidirectional,\n",
        "                              Dropout, BatchNormalization, Concatenate,)\n",
        "\n",
        "from keras.src.optimizers import Adam\n",
        "from sklearn.metrics import confusion_matrix, classification_report, accuracy_score\n",
        "\n",
        "tf.compat.v1.enable_eager_execution()\n",
        "\n",
        "print( keras.__version__ )\n",
        "print( tf.__version__)\n",
        "\n",
        "# Set seeds for reproducibility\n",
        "def set_seeds(seed=42):\n",
        "    random.seed(seed)\n",
        "    np.random.seed(seed)\n",
        "    tf.random.set_seed(seed)\n",
        "\n",
        "set_seeds(42)"
      ]
    },
    {
      "cell_type": "code",
      "execution_count": 2,
      "id": "c94b9d70",
      "metadata": {
        "id": "c94b9d70"
      },
      "outputs": [],
      "source": [
        "df = pd.read_csv('input_data.csv')\n",
        "# df = df.drop(df.index[5000:])"
      ]
    },
    {
      "cell_type": "code",
      "execution_count": 3,
      "id": "f697b88b",
      "metadata": {
        "colab": {
          "base_uri": "https://localhost:8080/",
          "height": 293
        },
        "id": "f697b88b",
        "outputId": "c7932044-1efe-44c0-886f-0285ffa2fff1"
      },
      "outputs": [
        {
          "output_type": "execute_result",
          "data": {
            "text/plain": [
              "                                       Hotel_Address Review_Date  \\\n",
              "0  Scarsdale Scarsdale Place Kensington Kensingto...    5/2/2017   \n",
              "1  53 53 59 Kilburn High Road Maida Vale London C...    8/4/2016   \n",
              "2  Pelai Pelai 28 Ciutat Vella 08002 Barcelona Spain  11/17/2016   \n",
              "3  3 3 Place du G n ral Koenig 17th arr 75017 Par...    2/4/2016   \n",
              "4  Epping Epping Forest 30 Oak Hill London IG8 9N...   7/27/2016   \n",
              "\n",
              "   Average_Score                              Hotel_Name Reviewer_Nationality  \\\n",
              "0            8.1  Copthorne Tara Hotel London Kensington      United Kingdom    \n",
              "1            7.1  BEST WESTERN Maitrise Hotel Maida Vale      United Kingdom    \n",
              "2            8.6                 Catalonia Ramblas 4 Sup      United Kingdom    \n",
              "3            7.1              Hyatt Regency Paris Etoile      United Kingdom    \n",
              "4            7.5         Best Western PLUS Epping Forest      United Kingdom    \n",
              "\n",
              "   Hotel_number_reviews  Reviewer_number_reviews  Review_Score  \\\n",
              "0                  7105                        2           6.7   \n",
              "1                  1877                        8           5.8   \n",
              "2                  4276                        2           6.3   \n",
              "3                  3973                        3           5.8   \n",
              "4                   587                        7           3.3   \n",
              "\n",
              "                                              Review Review_Type  \n",
              "0   Expensive room rate that didn t include parki...  Bad_review  \n",
              "1   Bedroom in the basement No windows Very small...  Bad_review  \n",
              "2                 Room ready for a makeover Location  Bad_review  \n",
              "3   Firstly the lady at the check in desk was qui...  Bad_review  \n",
              "4   Not being able to park my vehicle due to the ...  Bad_review  "
            ],
            "text/html": [
              "\n",
              "  <div id=\"df-59301f3d-8bf9-4b2e-83d1-cfd5b29565dd\" class=\"colab-df-container\">\n",
              "    <div>\n",
              "<style scoped>\n",
              "    .dataframe tbody tr th:only-of-type {\n",
              "        vertical-align: middle;\n",
              "    }\n",
              "\n",
              "    .dataframe tbody tr th {\n",
              "        vertical-align: top;\n",
              "    }\n",
              "\n",
              "    .dataframe thead th {\n",
              "        text-align: right;\n",
              "    }\n",
              "</style>\n",
              "<table border=\"1\" class=\"dataframe\">\n",
              "  <thead>\n",
              "    <tr style=\"text-align: right;\">\n",
              "      <th></th>\n",
              "      <th>Hotel_Address</th>\n",
              "      <th>Review_Date</th>\n",
              "      <th>Average_Score</th>\n",
              "      <th>Hotel_Name</th>\n",
              "      <th>Reviewer_Nationality</th>\n",
              "      <th>Hotel_number_reviews</th>\n",
              "      <th>Reviewer_number_reviews</th>\n",
              "      <th>Review_Score</th>\n",
              "      <th>Review</th>\n",
              "      <th>Review_Type</th>\n",
              "    </tr>\n",
              "  </thead>\n",
              "  <tbody>\n",
              "    <tr>\n",
              "      <th>0</th>\n",
              "      <td>Scarsdale Scarsdale Place Kensington Kensingto...</td>\n",
              "      <td>5/2/2017</td>\n",
              "      <td>8.1</td>\n",
              "      <td>Copthorne Tara Hotel London Kensington</td>\n",
              "      <td>United Kingdom</td>\n",
              "      <td>7105</td>\n",
              "      <td>2</td>\n",
              "      <td>6.7</td>\n",
              "      <td>Expensive room rate that didn t include parki...</td>\n",
              "      <td>Bad_review</td>\n",
              "    </tr>\n",
              "    <tr>\n",
              "      <th>1</th>\n",
              "      <td>53 53 59 Kilburn High Road Maida Vale London C...</td>\n",
              "      <td>8/4/2016</td>\n",
              "      <td>7.1</td>\n",
              "      <td>BEST WESTERN Maitrise Hotel Maida Vale</td>\n",
              "      <td>United Kingdom</td>\n",
              "      <td>1877</td>\n",
              "      <td>8</td>\n",
              "      <td>5.8</td>\n",
              "      <td>Bedroom in the basement No windows Very small...</td>\n",
              "      <td>Bad_review</td>\n",
              "    </tr>\n",
              "    <tr>\n",
              "      <th>2</th>\n",
              "      <td>Pelai Pelai 28 Ciutat Vella 08002 Barcelona Spain</td>\n",
              "      <td>11/17/2016</td>\n",
              "      <td>8.6</td>\n",
              "      <td>Catalonia Ramblas 4 Sup</td>\n",
              "      <td>United Kingdom</td>\n",
              "      <td>4276</td>\n",
              "      <td>2</td>\n",
              "      <td>6.3</td>\n",
              "      <td>Room ready for a makeover Location</td>\n",
              "      <td>Bad_review</td>\n",
              "    </tr>\n",
              "    <tr>\n",
              "      <th>3</th>\n",
              "      <td>3 3 Place du G n ral Koenig 17th arr 75017 Par...</td>\n",
              "      <td>2/4/2016</td>\n",
              "      <td>7.1</td>\n",
              "      <td>Hyatt Regency Paris Etoile</td>\n",
              "      <td>United Kingdom</td>\n",
              "      <td>3973</td>\n",
              "      <td>3</td>\n",
              "      <td>5.8</td>\n",
              "      <td>Firstly the lady at the check in desk was qui...</td>\n",
              "      <td>Bad_review</td>\n",
              "    </tr>\n",
              "    <tr>\n",
              "      <th>4</th>\n",
              "      <td>Epping Epping Forest 30 Oak Hill London IG8 9N...</td>\n",
              "      <td>7/27/2016</td>\n",
              "      <td>7.5</td>\n",
              "      <td>Best Western PLUS Epping Forest</td>\n",
              "      <td>United Kingdom</td>\n",
              "      <td>587</td>\n",
              "      <td>7</td>\n",
              "      <td>3.3</td>\n",
              "      <td>Not being able to park my vehicle due to the ...</td>\n",
              "      <td>Bad_review</td>\n",
              "    </tr>\n",
              "  </tbody>\n",
              "</table>\n",
              "</div>\n",
              "    <div class=\"colab-df-buttons\">\n",
              "\n",
              "  <div class=\"colab-df-container\">\n",
              "    <button class=\"colab-df-convert\" onclick=\"convertToInteractive('df-59301f3d-8bf9-4b2e-83d1-cfd5b29565dd')\"\n",
              "            title=\"Convert this dataframe to an interactive table.\"\n",
              "            style=\"display:none;\">\n",
              "\n",
              "  <svg xmlns=\"http://www.w3.org/2000/svg\" height=\"24px\" viewBox=\"0 -960 960 960\">\n",
              "    <path d=\"M120-120v-720h720v720H120Zm60-500h600v-160H180v160Zm220 220h160v-160H400v160Zm0 220h160v-160H400v160ZM180-400h160v-160H180v160Zm440 0h160v-160H620v160ZM180-180h160v-160H180v160Zm440 0h160v-160H620v160Z\"/>\n",
              "  </svg>\n",
              "    </button>\n",
              "\n",
              "  <style>\n",
              "    .colab-df-container {\n",
              "      display:flex;\n",
              "      gap: 12px;\n",
              "    }\n",
              "\n",
              "    .colab-df-convert {\n",
              "      background-color: #E8F0FE;\n",
              "      border: none;\n",
              "      border-radius: 50%;\n",
              "      cursor: pointer;\n",
              "      display: none;\n",
              "      fill: #1967D2;\n",
              "      height: 32px;\n",
              "      padding: 0 0 0 0;\n",
              "      width: 32px;\n",
              "    }\n",
              "\n",
              "    .colab-df-convert:hover {\n",
              "      background-color: #E2EBFA;\n",
              "      box-shadow: 0px 1px 2px rgba(60, 64, 67, 0.3), 0px 1px 3px 1px rgba(60, 64, 67, 0.15);\n",
              "      fill: #174EA6;\n",
              "    }\n",
              "\n",
              "    .colab-df-buttons div {\n",
              "      margin-bottom: 4px;\n",
              "    }\n",
              "\n",
              "    [theme=dark] .colab-df-convert {\n",
              "      background-color: #3B4455;\n",
              "      fill: #D2E3FC;\n",
              "    }\n",
              "\n",
              "    [theme=dark] .colab-df-convert:hover {\n",
              "      background-color: #434B5C;\n",
              "      box-shadow: 0px 1px 3px 1px rgba(0, 0, 0, 0.15);\n",
              "      filter: drop-shadow(0px 1px 2px rgba(0, 0, 0, 0.3));\n",
              "      fill: #FFFFFF;\n",
              "    }\n",
              "  </style>\n",
              "\n",
              "    <script>\n",
              "      const buttonEl =\n",
              "        document.querySelector('#df-59301f3d-8bf9-4b2e-83d1-cfd5b29565dd button.colab-df-convert');\n",
              "      buttonEl.style.display =\n",
              "        google.colab.kernel.accessAllowed ? 'block' : 'none';\n",
              "\n",
              "      async function convertToInteractive(key) {\n",
              "        const element = document.querySelector('#df-59301f3d-8bf9-4b2e-83d1-cfd5b29565dd');\n",
              "        const dataTable =\n",
              "          await google.colab.kernel.invokeFunction('convertToInteractive',\n",
              "                                                    [key], {});\n",
              "        if (!dataTable) return;\n",
              "\n",
              "        const docLinkHtml = 'Like what you see? Visit the ' +\n",
              "          '<a target=\"_blank\" href=https://colab.research.google.com/notebooks/data_table.ipynb>data table notebook</a>'\n",
              "          + ' to learn more about interactive tables.';\n",
              "        element.innerHTML = '';\n",
              "        dataTable['output_type'] = 'display_data';\n",
              "        await google.colab.output.renderOutput(dataTable, element);\n",
              "        const docLink = document.createElement('div');\n",
              "        docLink.innerHTML = docLinkHtml;\n",
              "        element.appendChild(docLink);\n",
              "      }\n",
              "    </script>\n",
              "  </div>\n",
              "\n",
              "\n",
              "    <div id=\"df-38209c6b-6465-4cbb-8c10-51b0e8ca7347\">\n",
              "      <button class=\"colab-df-quickchart\" onclick=\"quickchart('df-38209c6b-6465-4cbb-8c10-51b0e8ca7347')\"\n",
              "                title=\"Suggest charts\"\n",
              "                style=\"display:none;\">\n",
              "\n",
              "<svg xmlns=\"http://www.w3.org/2000/svg\" height=\"24px\"viewBox=\"0 0 24 24\"\n",
              "     width=\"24px\">\n",
              "    <g>\n",
              "        <path d=\"M19 3H5c-1.1 0-2 .9-2 2v14c0 1.1.9 2 2 2h14c1.1 0 2-.9 2-2V5c0-1.1-.9-2-2-2zM9 17H7v-7h2v7zm4 0h-2V7h2v10zm4 0h-2v-4h2v4z\"/>\n",
              "    </g>\n",
              "</svg>\n",
              "      </button>\n",
              "\n",
              "<style>\n",
              "  .colab-df-quickchart {\n",
              "      --bg-color: #E8F0FE;\n",
              "      --fill-color: #1967D2;\n",
              "      --hover-bg-color: #E2EBFA;\n",
              "      --hover-fill-color: #174EA6;\n",
              "      --disabled-fill-color: #AAA;\n",
              "      --disabled-bg-color: #DDD;\n",
              "  }\n",
              "\n",
              "  [theme=dark] .colab-df-quickchart {\n",
              "      --bg-color: #3B4455;\n",
              "      --fill-color: #D2E3FC;\n",
              "      --hover-bg-color: #434B5C;\n",
              "      --hover-fill-color: #FFFFFF;\n",
              "      --disabled-bg-color: #3B4455;\n",
              "      --disabled-fill-color: #666;\n",
              "  }\n",
              "\n",
              "  .colab-df-quickchart {\n",
              "    background-color: var(--bg-color);\n",
              "    border: none;\n",
              "    border-radius: 50%;\n",
              "    cursor: pointer;\n",
              "    display: none;\n",
              "    fill: var(--fill-color);\n",
              "    height: 32px;\n",
              "    padding: 0;\n",
              "    width: 32px;\n",
              "  }\n",
              "\n",
              "  .colab-df-quickchart:hover {\n",
              "    background-color: var(--hover-bg-color);\n",
              "    box-shadow: 0 1px 2px rgba(60, 64, 67, 0.3), 0 1px 3px 1px rgba(60, 64, 67, 0.15);\n",
              "    fill: var(--button-hover-fill-color);\n",
              "  }\n",
              "\n",
              "  .colab-df-quickchart-complete:disabled,\n",
              "  .colab-df-quickchart-complete:disabled:hover {\n",
              "    background-color: var(--disabled-bg-color);\n",
              "    fill: var(--disabled-fill-color);\n",
              "    box-shadow: none;\n",
              "  }\n",
              "\n",
              "  .colab-df-spinner {\n",
              "    border: 2px solid var(--fill-color);\n",
              "    border-color: transparent;\n",
              "    border-bottom-color: var(--fill-color);\n",
              "    animation:\n",
              "      spin 1s steps(1) infinite;\n",
              "  }\n",
              "\n",
              "  @keyframes spin {\n",
              "    0% {\n",
              "      border-color: transparent;\n",
              "      border-bottom-color: var(--fill-color);\n",
              "      border-left-color: var(--fill-color);\n",
              "    }\n",
              "    20% {\n",
              "      border-color: transparent;\n",
              "      border-left-color: var(--fill-color);\n",
              "      border-top-color: var(--fill-color);\n",
              "    }\n",
              "    30% {\n",
              "      border-color: transparent;\n",
              "      border-left-color: var(--fill-color);\n",
              "      border-top-color: var(--fill-color);\n",
              "      border-right-color: var(--fill-color);\n",
              "    }\n",
              "    40% {\n",
              "      border-color: transparent;\n",
              "      border-right-color: var(--fill-color);\n",
              "      border-top-color: var(--fill-color);\n",
              "    }\n",
              "    60% {\n",
              "      border-color: transparent;\n",
              "      border-right-color: var(--fill-color);\n",
              "    }\n",
              "    80% {\n",
              "      border-color: transparent;\n",
              "      border-right-color: var(--fill-color);\n",
              "      border-bottom-color: var(--fill-color);\n",
              "    }\n",
              "    90% {\n",
              "      border-color: transparent;\n",
              "      border-bottom-color: var(--fill-color);\n",
              "    }\n",
              "  }\n",
              "</style>\n",
              "\n",
              "      <script>\n",
              "        async function quickchart(key) {\n",
              "          const quickchartButtonEl =\n",
              "            document.querySelector('#' + key + ' button');\n",
              "          quickchartButtonEl.disabled = true;  // To prevent multiple clicks.\n",
              "          quickchartButtonEl.classList.add('colab-df-spinner');\n",
              "          try {\n",
              "            const charts = await google.colab.kernel.invokeFunction(\n",
              "                'suggestCharts', [key], {});\n",
              "          } catch (error) {\n",
              "            console.error('Error during call to suggestCharts:', error);\n",
              "          }\n",
              "          quickchartButtonEl.classList.remove('colab-df-spinner');\n",
              "          quickchartButtonEl.classList.add('colab-df-quickchart-complete');\n",
              "        }\n",
              "        (() => {\n",
              "          let quickchartButtonEl =\n",
              "            document.querySelector('#df-38209c6b-6465-4cbb-8c10-51b0e8ca7347 button');\n",
              "          quickchartButtonEl.style.display =\n",
              "            google.colab.kernel.accessAllowed ? 'block' : 'none';\n",
              "        })();\n",
              "      </script>\n",
              "    </div>\n",
              "\n",
              "    </div>\n",
              "  </div>\n"
            ],
            "application/vnd.google.colaboratory.intrinsic+json": {
              "type": "dataframe",
              "variable_name": "df",
              "summary": "{\n  \"name\": \"df\",\n  \"rows\": 13772,\n  \"fields\": [\n    {\n      \"column\": \"Hotel_Address\",\n      \"properties\": {\n        \"dtype\": \"category\",\n        \"num_unique_values\": 1367,\n        \"samples\": [\n          \"Avenida Avenida Diagonal 201 Sant Mart 08018 Barcelona Spain\",\n          \"Singerstra Singerstra e 3 01 Innere Stadt 1010 Vienna Austria\",\n          \"14 14 16 Craven Hill Lancaster Gate Westminster Borough London W2 3DU UK\"\n        ],\n        \"semantic_type\": \"\",\n        \"description\": \"\"\n      }\n    },\n    {\n      \"column\": \"Review_Date\",\n      \"properties\": {\n        \"dtype\": \"object\",\n        \"num_unique_values\": 730,\n        \"samples\": [\n          \"4/26/2017\",\n          \"11/11/2016\",\n          \"5/20/2016\"\n        ],\n        \"semantic_type\": \"\",\n        \"description\": \"\"\n      }\n    },\n    {\n      \"column\": \"Average_Score\",\n      \"properties\": {\n        \"dtype\": \"number\",\n        \"std\": 0.5828092400191714,\n        \"min\": 5.2,\n        \"max\": 9.6,\n        \"num_unique_values\": 33,\n        \"samples\": [\n          5.2,\n          8.8,\n          6.8\n        ],\n        \"semantic_type\": \"\",\n        \"description\": \"\"\n      }\n    },\n    {\n      \"column\": \"Hotel_Name\",\n      \"properties\": {\n        \"dtype\": \"category\",\n        \"num_unique_values\": 1366,\n        \"samples\": [\n          \"The Guesthouse Vienna\",\n          \"Chambiges Elys es\",\n          \"La Suite West Hyde Park\"\n        ],\n        \"semantic_type\": \"\",\n        \"description\": \"\"\n      }\n    },\n    {\n      \"column\": \"Reviewer_Nationality\",\n      \"properties\": {\n        \"dtype\": \"category\",\n        \"num_unique_values\": 148,\n        \"samples\": [\n          \" Moldova \",\n          \" Jersey \",\n          \" Rwanda \"\n        ],\n        \"semantic_type\": \"\",\n        \"description\": \"\"\n      }\n    },\n    {\n      \"column\": \"Hotel_number_reviews\",\n      \"properties\": {\n        \"dtype\": \"number\",\n        \"std\": 2388,\n        \"min\": 43,\n        \"max\": 16670,\n        \"num_unique_values\": 1085,\n        \"samples\": [\n          1744,\n          1018,\n          851\n        ],\n        \"semantic_type\": \"\",\n        \"description\": \"\"\n      }\n    },\n    {\n      \"column\": \"Reviewer_number_reviews\",\n      \"properties\": {\n        \"dtype\": \"number\",\n        \"std\": 10,\n        \"min\": 1,\n        \"max\": 211,\n        \"num_unique_values\": 94,\n        \"samples\": [\n          31,\n          17,\n          56\n        ],\n        \"semantic_type\": \"\",\n        \"description\": \"\"\n      }\n    },\n    {\n      \"column\": \"Review_Score\",\n      \"properties\": {\n        \"dtype\": \"number\",\n        \"std\": 2.059654194003901,\n        \"min\": 2.5,\n        \"max\": 10.0,\n        \"num_unique_values\": 34,\n        \"samples\": [\n          5.5,\n          6.9,\n          7.5\n        ],\n        \"semantic_type\": \"\",\n        \"description\": \"\"\n      }\n    },\n    {\n      \"column\": \"Review\",\n      \"properties\": {\n        \"dtype\": \"string\",\n        \"num_unique_values\": 13076,\n        \"samples\": [\n          \" Clean smart\",\n          \" nothing great location\",\n          \" The design of the room the comfort\"\n        ],\n        \"semantic_type\": \"\",\n        \"description\": \"\"\n      }\n    },\n    {\n      \"column\": \"Review_Type\",\n      \"properties\": {\n        \"dtype\": \"category\",\n        \"num_unique_values\": 2,\n        \"samples\": [\n          \"Good_review\",\n          \"Bad_review\"\n        ],\n        \"semantic_type\": \"\",\n        \"description\": \"\"\n      }\n    }\n  ]\n}"
            }
          },
          "metadata": {},
          "execution_count": 3
        }
      ],
      "source": [
        "df.head()"
      ]
    },
    {
      "cell_type": "code",
      "execution_count": 4,
      "id": "a2ec0d76",
      "metadata": {
        "colab": {
          "base_uri": "https://localhost:8080/"
        },
        "id": "a2ec0d76",
        "outputId": "3fc8d518-96b8-4c5c-953e-5098f6d981ec"
      },
      "outputs": [
        {
          "output_type": "stream",
          "name": "stdout",
          "text": [
            "<class 'pandas.core.frame.DataFrame'>\n",
            "RangeIndex: 13772 entries, 0 to 13771\n",
            "Data columns (total 10 columns):\n",
            " #   Column                   Non-Null Count  Dtype  \n",
            "---  ------                   --------------  -----  \n",
            " 0   Hotel_Address            13772 non-null  object \n",
            " 1   Review_Date              13772 non-null  object \n",
            " 2   Average_Score            13772 non-null  float64\n",
            " 3   Hotel_Name               13772 non-null  object \n",
            " 4   Reviewer_Nationality     13772 non-null  object \n",
            " 5   Hotel_number_reviews     13772 non-null  int64  \n",
            " 6   Reviewer_number_reviews  13772 non-null  int64  \n",
            " 7   Review_Score             13772 non-null  float64\n",
            " 8   Review                   13772 non-null  object \n",
            " 9   Review_Type              13772 non-null  object \n",
            "dtypes: float64(2), int64(2), object(6)\n",
            "memory usage: 1.1+ MB\n"
          ]
        }
      ],
      "source": [
        "df.info()"
      ]
    },
    {
      "cell_type": "markdown",
      "id": "88f4cd2b",
      "metadata": {
        "id": "88f4cd2b"
      },
      "source": [
        "# 2- PREPROCESSING"
      ]
    },
    {
      "cell_type": "markdown",
      "id": "c0adbd7f",
      "metadata": {
        "id": "c0adbd7f"
      },
      "source": [
        "This section in the exam was divided in two subparts:\n",
        "* How to (if) preprocess input data and which data would you retain/use;\n",
        "* Which is the input of the model, and how is it represented;\n",
        "\n",
        "As i said in my exam, i am going to preprocess informations in the following way: drop all the column except for 'Review', 'Review_Score', 'Review_Type'"
      ]
    },
    {
      "cell_type": "code",
      "execution_count": 5,
      "id": "7bc2c0cf",
      "metadata": {
        "id": "7bc2c0cf"
      },
      "outputs": [],
      "source": [
        "df = df[['Review', 'Review_Score', 'Review_Type']]"
      ]
    },
    {
      "cell_type": "markdown",
      "id": "d5e083b8",
      "metadata": {
        "id": "d5e083b8"
      },
      "source": [
        "'Review_Type': i encode it into binary integer values, predicting either 0 or 1 for Bad_Reviews and Good_Reviews"
      ]
    },
    {
      "cell_type": "code",
      "execution_count": 6,
      "id": "710c6b64",
      "metadata": {
        "id": "710c6b64",
        "colab": {
          "base_uri": "https://localhost:8080/"
        },
        "outputId": "6204b674-79ca-4e35-afd2-d6b64cca1d69"
      },
      "outputs": [
        {
          "output_type": "stream",
          "name": "stderr",
          "text": [
            "/tmp/ipython-input-6-3944275532.py:2: SettingWithCopyWarning: \n",
            "A value is trying to be set on a copy of a slice from a DataFrame.\n",
            "Try using .loc[row_indexer,col_indexer] = value instead\n",
            "\n",
            "See the caveats in the documentation: https://pandas.pydata.org/pandas-docs/stable/user_guide/indexing.html#returning-a-view-versus-a-copy\n",
            "  df['Review_Type'] = label_enc.fit_transform(df['Review_Type'])\n"
          ]
        }
      ],
      "source": [
        "label_enc = LabelEncoder()\n",
        "df['Review_Type'] = label_enc.fit_transform(df['Review_Type'])"
      ]
    },
    {
      "cell_type": "markdown",
      "id": "71d4ffe9",
      "metadata": {
        "id": "71d4ffe9"
      },
      "source": [
        "'Review_Score': i said in the exam that i'm going to keep it like that."
      ]
    },
    {
      "cell_type": "markdown",
      "id": "68b3cbc2",
      "metadata": {
        "id": "68b3cbc2"
      },
      "source": [
        "<font color=\"blue\">**CHANGE**</font>\n",
        "\n",
        "'Review': i'm going to clean the whole text, removing punctation and lowercasing words for correctly preprocess input datas, removing non relevant informations. also helped me reduce size of each phrase, making the models computations faster"
      ]
    },
    {
      "cell_type": "code",
      "execution_count": 7,
      "id": "15193f78",
      "metadata": {
        "colab": {
          "base_uri": "https://localhost:8080/",
          "height": 206
        },
        "id": "15193f78",
        "outputId": "82ead488-93a3-4da2-fed0-474950e3ed59"
      },
      "outputs": [
        {
          "output_type": "execute_result",
          "data": {
            "text/plain": [
              "                                              Review  Review_Score  \\\n",
              "0   Expensive room rate that didn t include parki...           6.7   \n",
              "1   Bedroom in the basement No windows Very small...           5.8   \n",
              "2                 Room ready for a makeover Location           6.3   \n",
              "3   Firstly the lady at the check in desk was qui...           5.8   \n",
              "4   Not being able to park my vehicle due to the ...           3.3   \n",
              "\n",
              "   Review_Type                                       Clean_Review  \n",
              "0            0  expensive room rate that didn t include parkin...  \n",
              "1            0  bedroom in the basement no windows very small ...  \n",
              "2            0                 room ready for a makeover location  \n",
              "3            0  firstly the lady at the check in desk was quit...  \n",
              "4            0  not being able to park my vehicle due to the s...  "
            ],
            "text/html": [
              "\n",
              "  <div id=\"df-ebecaee5-dbb1-4a35-8a4f-ad9e4102e94a\" class=\"colab-df-container\">\n",
              "    <div>\n",
              "<style scoped>\n",
              "    .dataframe tbody tr th:only-of-type {\n",
              "        vertical-align: middle;\n",
              "    }\n",
              "\n",
              "    .dataframe tbody tr th {\n",
              "        vertical-align: top;\n",
              "    }\n",
              "\n",
              "    .dataframe thead th {\n",
              "        text-align: right;\n",
              "    }\n",
              "</style>\n",
              "<table border=\"1\" class=\"dataframe\">\n",
              "  <thead>\n",
              "    <tr style=\"text-align: right;\">\n",
              "      <th></th>\n",
              "      <th>Review</th>\n",
              "      <th>Review_Score</th>\n",
              "      <th>Review_Type</th>\n",
              "      <th>Clean_Review</th>\n",
              "    </tr>\n",
              "  </thead>\n",
              "  <tbody>\n",
              "    <tr>\n",
              "      <th>0</th>\n",
              "      <td>Expensive room rate that didn t include parki...</td>\n",
              "      <td>6.7</td>\n",
              "      <td>0</td>\n",
              "      <td>expensive room rate that didn t include parkin...</td>\n",
              "    </tr>\n",
              "    <tr>\n",
              "      <th>1</th>\n",
              "      <td>Bedroom in the basement No windows Very small...</td>\n",
              "      <td>5.8</td>\n",
              "      <td>0</td>\n",
              "      <td>bedroom in the basement no windows very small ...</td>\n",
              "    </tr>\n",
              "    <tr>\n",
              "      <th>2</th>\n",
              "      <td>Room ready for a makeover Location</td>\n",
              "      <td>6.3</td>\n",
              "      <td>0</td>\n",
              "      <td>room ready for a makeover location</td>\n",
              "    </tr>\n",
              "    <tr>\n",
              "      <th>3</th>\n",
              "      <td>Firstly the lady at the check in desk was qui...</td>\n",
              "      <td>5.8</td>\n",
              "      <td>0</td>\n",
              "      <td>firstly the lady at the check in desk was quit...</td>\n",
              "    </tr>\n",
              "    <tr>\n",
              "      <th>4</th>\n",
              "      <td>Not being able to park my vehicle due to the ...</td>\n",
              "      <td>3.3</td>\n",
              "      <td>0</td>\n",
              "      <td>not being able to park my vehicle due to the s...</td>\n",
              "    </tr>\n",
              "  </tbody>\n",
              "</table>\n",
              "</div>\n",
              "    <div class=\"colab-df-buttons\">\n",
              "\n",
              "  <div class=\"colab-df-container\">\n",
              "    <button class=\"colab-df-convert\" onclick=\"convertToInteractive('df-ebecaee5-dbb1-4a35-8a4f-ad9e4102e94a')\"\n",
              "            title=\"Convert this dataframe to an interactive table.\"\n",
              "            style=\"display:none;\">\n",
              "\n",
              "  <svg xmlns=\"http://www.w3.org/2000/svg\" height=\"24px\" viewBox=\"0 -960 960 960\">\n",
              "    <path d=\"M120-120v-720h720v720H120Zm60-500h600v-160H180v160Zm220 220h160v-160H400v160Zm0 220h160v-160H400v160ZM180-400h160v-160H180v160Zm440 0h160v-160H620v160ZM180-180h160v-160H180v160Zm440 0h160v-160H620v160Z\"/>\n",
              "  </svg>\n",
              "    </button>\n",
              "\n",
              "  <style>\n",
              "    .colab-df-container {\n",
              "      display:flex;\n",
              "      gap: 12px;\n",
              "    }\n",
              "\n",
              "    .colab-df-convert {\n",
              "      background-color: #E8F0FE;\n",
              "      border: none;\n",
              "      border-radius: 50%;\n",
              "      cursor: pointer;\n",
              "      display: none;\n",
              "      fill: #1967D2;\n",
              "      height: 32px;\n",
              "      padding: 0 0 0 0;\n",
              "      width: 32px;\n",
              "    }\n",
              "\n",
              "    .colab-df-convert:hover {\n",
              "      background-color: #E2EBFA;\n",
              "      box-shadow: 0px 1px 2px rgba(60, 64, 67, 0.3), 0px 1px 3px 1px rgba(60, 64, 67, 0.15);\n",
              "      fill: #174EA6;\n",
              "    }\n",
              "\n",
              "    .colab-df-buttons div {\n",
              "      margin-bottom: 4px;\n",
              "    }\n",
              "\n",
              "    [theme=dark] .colab-df-convert {\n",
              "      background-color: #3B4455;\n",
              "      fill: #D2E3FC;\n",
              "    }\n",
              "\n",
              "    [theme=dark] .colab-df-convert:hover {\n",
              "      background-color: #434B5C;\n",
              "      box-shadow: 0px 1px 3px 1px rgba(0, 0, 0, 0.15);\n",
              "      filter: drop-shadow(0px 1px 2px rgba(0, 0, 0, 0.3));\n",
              "      fill: #FFFFFF;\n",
              "    }\n",
              "  </style>\n",
              "\n",
              "    <script>\n",
              "      const buttonEl =\n",
              "        document.querySelector('#df-ebecaee5-dbb1-4a35-8a4f-ad9e4102e94a button.colab-df-convert');\n",
              "      buttonEl.style.display =\n",
              "        google.colab.kernel.accessAllowed ? 'block' : 'none';\n",
              "\n",
              "      async function convertToInteractive(key) {\n",
              "        const element = document.querySelector('#df-ebecaee5-dbb1-4a35-8a4f-ad9e4102e94a');\n",
              "        const dataTable =\n",
              "          await google.colab.kernel.invokeFunction('convertToInteractive',\n",
              "                                                    [key], {});\n",
              "        if (!dataTable) return;\n",
              "\n",
              "        const docLinkHtml = 'Like what you see? Visit the ' +\n",
              "          '<a target=\"_blank\" href=https://colab.research.google.com/notebooks/data_table.ipynb>data table notebook</a>'\n",
              "          + ' to learn more about interactive tables.';\n",
              "        element.innerHTML = '';\n",
              "        dataTable['output_type'] = 'display_data';\n",
              "        await google.colab.output.renderOutput(dataTable, element);\n",
              "        const docLink = document.createElement('div');\n",
              "        docLink.innerHTML = docLinkHtml;\n",
              "        element.appendChild(docLink);\n",
              "      }\n",
              "    </script>\n",
              "  </div>\n",
              "\n",
              "\n",
              "    <div id=\"df-913307b8-8bc2-4753-8398-55942000bb17\">\n",
              "      <button class=\"colab-df-quickchart\" onclick=\"quickchart('df-913307b8-8bc2-4753-8398-55942000bb17')\"\n",
              "                title=\"Suggest charts\"\n",
              "                style=\"display:none;\">\n",
              "\n",
              "<svg xmlns=\"http://www.w3.org/2000/svg\" height=\"24px\"viewBox=\"0 0 24 24\"\n",
              "     width=\"24px\">\n",
              "    <g>\n",
              "        <path d=\"M19 3H5c-1.1 0-2 .9-2 2v14c0 1.1.9 2 2 2h14c1.1 0 2-.9 2-2V5c0-1.1-.9-2-2-2zM9 17H7v-7h2v7zm4 0h-2V7h2v10zm4 0h-2v-4h2v4z\"/>\n",
              "    </g>\n",
              "</svg>\n",
              "      </button>\n",
              "\n",
              "<style>\n",
              "  .colab-df-quickchart {\n",
              "      --bg-color: #E8F0FE;\n",
              "      --fill-color: #1967D2;\n",
              "      --hover-bg-color: #E2EBFA;\n",
              "      --hover-fill-color: #174EA6;\n",
              "      --disabled-fill-color: #AAA;\n",
              "      --disabled-bg-color: #DDD;\n",
              "  }\n",
              "\n",
              "  [theme=dark] .colab-df-quickchart {\n",
              "      --bg-color: #3B4455;\n",
              "      --fill-color: #D2E3FC;\n",
              "      --hover-bg-color: #434B5C;\n",
              "      --hover-fill-color: #FFFFFF;\n",
              "      --disabled-bg-color: #3B4455;\n",
              "      --disabled-fill-color: #666;\n",
              "  }\n",
              "\n",
              "  .colab-df-quickchart {\n",
              "    background-color: var(--bg-color);\n",
              "    border: none;\n",
              "    border-radius: 50%;\n",
              "    cursor: pointer;\n",
              "    display: none;\n",
              "    fill: var(--fill-color);\n",
              "    height: 32px;\n",
              "    padding: 0;\n",
              "    width: 32px;\n",
              "  }\n",
              "\n",
              "  .colab-df-quickchart:hover {\n",
              "    background-color: var(--hover-bg-color);\n",
              "    box-shadow: 0 1px 2px rgba(60, 64, 67, 0.3), 0 1px 3px 1px rgba(60, 64, 67, 0.15);\n",
              "    fill: var(--button-hover-fill-color);\n",
              "  }\n",
              "\n",
              "  .colab-df-quickchart-complete:disabled,\n",
              "  .colab-df-quickchart-complete:disabled:hover {\n",
              "    background-color: var(--disabled-bg-color);\n",
              "    fill: var(--disabled-fill-color);\n",
              "    box-shadow: none;\n",
              "  }\n",
              "\n",
              "  .colab-df-spinner {\n",
              "    border: 2px solid var(--fill-color);\n",
              "    border-color: transparent;\n",
              "    border-bottom-color: var(--fill-color);\n",
              "    animation:\n",
              "      spin 1s steps(1) infinite;\n",
              "  }\n",
              "\n",
              "  @keyframes spin {\n",
              "    0% {\n",
              "      border-color: transparent;\n",
              "      border-bottom-color: var(--fill-color);\n",
              "      border-left-color: var(--fill-color);\n",
              "    }\n",
              "    20% {\n",
              "      border-color: transparent;\n",
              "      border-left-color: var(--fill-color);\n",
              "      border-top-color: var(--fill-color);\n",
              "    }\n",
              "    30% {\n",
              "      border-color: transparent;\n",
              "      border-left-color: var(--fill-color);\n",
              "      border-top-color: var(--fill-color);\n",
              "      border-right-color: var(--fill-color);\n",
              "    }\n",
              "    40% {\n",
              "      border-color: transparent;\n",
              "      border-right-color: var(--fill-color);\n",
              "      border-top-color: var(--fill-color);\n",
              "    }\n",
              "    60% {\n",
              "      border-color: transparent;\n",
              "      border-right-color: var(--fill-color);\n",
              "    }\n",
              "    80% {\n",
              "      border-color: transparent;\n",
              "      border-right-color: var(--fill-color);\n",
              "      border-bottom-color: var(--fill-color);\n",
              "    }\n",
              "    90% {\n",
              "      border-color: transparent;\n",
              "      border-bottom-color: var(--fill-color);\n",
              "    }\n",
              "  }\n",
              "</style>\n",
              "\n",
              "      <script>\n",
              "        async function quickchart(key) {\n",
              "          const quickchartButtonEl =\n",
              "            document.querySelector('#' + key + ' button');\n",
              "          quickchartButtonEl.disabled = true;  // To prevent multiple clicks.\n",
              "          quickchartButtonEl.classList.add('colab-df-spinner');\n",
              "          try {\n",
              "            const charts = await google.colab.kernel.invokeFunction(\n",
              "                'suggestCharts', [key], {});\n",
              "          } catch (error) {\n",
              "            console.error('Error during call to suggestCharts:', error);\n",
              "          }\n",
              "          quickchartButtonEl.classList.remove('colab-df-spinner');\n",
              "          quickchartButtonEl.classList.add('colab-df-quickchart-complete');\n",
              "        }\n",
              "        (() => {\n",
              "          let quickchartButtonEl =\n",
              "            document.querySelector('#df-913307b8-8bc2-4753-8398-55942000bb17 button');\n",
              "          quickchartButtonEl.style.display =\n",
              "            google.colab.kernel.accessAllowed ? 'block' : 'none';\n",
              "        })();\n",
              "      </script>\n",
              "    </div>\n",
              "\n",
              "    </div>\n",
              "  </div>\n"
            ],
            "application/vnd.google.colaboratory.intrinsic+json": {
              "type": "dataframe",
              "variable_name": "df",
              "summary": "{\n  \"name\": \"df\",\n  \"rows\": 13772,\n  \"fields\": [\n    {\n      \"column\": \"Review\",\n      \"properties\": {\n        \"dtype\": \"string\",\n        \"num_unique_values\": 13076,\n        \"samples\": [\n          \" Clean smart\",\n          \" nothing great location\",\n          \" The design of the room the comfort\"\n        ],\n        \"semantic_type\": \"\",\n        \"description\": \"\"\n      }\n    },\n    {\n      \"column\": \"Review_Score\",\n      \"properties\": {\n        \"dtype\": \"number\",\n        \"std\": 2.059654194003901,\n        \"min\": 2.5,\n        \"max\": 10.0,\n        \"num_unique_values\": 34,\n        \"samples\": [\n          5.5,\n          6.9,\n          7.5\n        ],\n        \"semantic_type\": \"\",\n        \"description\": \"\"\n      }\n    },\n    {\n      \"column\": \"Review_Type\",\n      \"properties\": {\n        \"dtype\": \"number\",\n        \"std\": 0,\n        \"min\": 0,\n        \"max\": 1,\n        \"num_unique_values\": 2,\n        \"samples\": [\n          1,\n          0\n        ],\n        \"semantic_type\": \"\",\n        \"description\": \"\"\n      }\n    },\n    {\n      \"column\": \"Clean_Review\",\n      \"properties\": {\n        \"dtype\": \"string\",\n        \"num_unique_values\": 12846,\n        \"samples\": [\n          \"location location location price\",\n          \"wi fi did not work well in the room what is unbelievable and they were remodeling the room next to ours and it was very noisy location\"\n        ],\n        \"semantic_type\": \"\",\n        \"description\": \"\"\n      }\n    }\n  ]\n}"
            }
          },
          "metadata": {},
          "execution_count": 7
        }
      ],
      "source": [
        "def clean_text(text):\n",
        "  text = text.replace('--', ' ')\n",
        "  # split into tokens by white space\n",
        "  words = text.split()\n",
        "  # remove punctuation from each token\n",
        "  table = str.maketrans('', '', string.punctuation)\n",
        "  words = [w.translate(table) for w in words]\n",
        "  # remove remaining tokens that are not alphabetic\n",
        "  words = [word for word in words if word.isalpha()]\n",
        "  # make lower case\n",
        "  words = [word.lower() for word in words]\n",
        "  # build up tokens again\n",
        "  return \" \".join(words)\n",
        "\n",
        "df['Clean_Review'] = df['Review'].apply(clean_text)\n",
        "\n",
        "df.head()"
      ]
    },
    {
      "cell_type": "markdown",
      "id": "5381ec01",
      "metadata": {
        "id": "5381ec01"
      },
      "source": [
        "<font color=\"blue\">**CHANGE**</font>\n",
        "\n",
        "I did not mention in my exam (and I think it's important) how to correctly **preprocess text**. First, apply **tokenization**: this consists in separating each review into its fundamental words, in order to create a dictionary of them. In this way, we can assign a unique integer (an index) to each word in the vocabulary.\n",
        "\n",
        "Once the text is tokenized and encoded into sequences of integers, the next step is to **pad** these sequences so that they all have the same length — this is necessary because RNN neural networks expect fixed-size inputs as i mentioned in the exam.\n",
        "\n",
        "After that, we define the **embedding layer**: it learns a dense vector representation (i.e., low-dimensional continuous representation) for each word during training, based on the context in which the word appears. The embedding layer transforms each word index into a trainable dense vector, which captures semantic meaning over time. I'm going to train the embedding directly inside my function create_model, since we are not allowed to use pretrained Embedding models.\n",
        "\n",
        "Here as follows i provide a personal implementation of a tokenization, creating a class Token(), then i apply padding before feeed my data into the model."
      ]
    },
    {
      "cell_type": "code",
      "execution_count": 8,
      "id": "2036f917",
      "metadata": {
        "id": "2036f917"
      },
      "outputs": [],
      "source": [
        "class Token():\n",
        "    def __init__(self, statistic=True):\n",
        "        self.unique_words = None\n",
        "        self.word_index = None\n",
        "        self.statisic = statistic\n",
        "\n",
        "    def fit_on_texts(self, texts):\n",
        "        flat_words = [word for sublist in [x.split() for x in texts] for word in sublist]\n",
        "\n",
        "        self.unique_words = np.unique(flat_words)\n",
        "        self.word_index = dict((word, idx) for idx, word in enumerate(self.unique_words))\n",
        "        if self.statisic:\n",
        "            print(f\"Total words: {len(flat_words)}\")\n",
        "            print(f\"Unique words: {len(self.unique_words)}\")\n",
        "\n",
        "    def encode_words(self, word_list):\n",
        "        return [self.word_index[word] for word in word_list if word in self.word_index]\n",
        "\n",
        "    def texts_to_sequences(self, texts):\n",
        "        return [self.encode_words(text.split()) for text in texts]"
      ]
    },
    {
      "cell_type": "code",
      "execution_count": 9,
      "id": "f871dee3",
      "metadata": {
        "colab": {
          "base_uri": "https://localhost:8080/"
        },
        "id": "f871dee3",
        "outputId": "0a4c1628-fca3-4832-dac1-fa640780e89c"
      },
      "outputs": [
        {
          "output_type": "stream",
          "name": "stdout",
          "text": [
            "Total words: 350687\n",
            "Unique words: 11458\n",
            "[[3688, 8519, 7937, 10141, 2849, 9962, 5101, 7144, 6946, 1279, 3742, 1705, 4096, 4554, 7144, 536, 3822, 10341, 9624, 643, 0, 6650], [936, 5080, 10144, 848, 6669, 11282, 10969, 9248, 8519, 6634, 10289, 6689, 5726, 10555, 2847, 6720, 11343, 1484, 10289, 3983, 5364, 2632, 11141, 1730, 6989, 936, 2900, 1004, 2882, 8519, 8762, 1668, 6896, 11332, 4029, 6689, 3766, 5843, 590, 8544, 10144, 2353, 4221, 11225, 6518, 2628, 5807], [8519, 7976, 4096, 0, 6017, 5843], [3967, 10144, 5568, 643, 10144, 1729, 5080, 2803, 11104, 7879, 10710, 8982, 2847, 6720, 4505, 10865, 8982, 2849, 9962, 7732, 10865, 10289, 7763, 435, 1729, 5080, 5182, 6897, 4964, 8627, 11367, 11426, 5742, 10144, 1192, 8086, 8982, 10161, 9091, 391, 8627, 6876, 8982, 600, 4096, 6518, 1533, 391, 7188, 391, 10161, 4314, 6163, 10144, 8519, 5479, 2237, 4964, 4671, 6625, 945, 10289, 10197, 4887, 954, 8982, 2847, 6720, 182, 11213, 4029, 4964, 11104, 6896, 6946, 11225, 10144, 5729, 11190, 6625, 6284, 11303, 6163, 0, 7432, 9604, 4964, 10161, 600, 4742, 11213, 4029, 8982, 8627, 4964, 600, 4987, 8982, 4571, 0, 6067, 8982, 9124, 8627, 11426, 4671, 10289, 4418, 10289, 2149, 4096, 0, 6067, 5364, 11104, 6720, 0, 4200, 11178, 391, 10197, 5568, 5983, 0, 772, 5066, 6896, 10865, 4096, 10144, 4887, 391, 6983, 4812, 8519, 11104, 7879, 9248, 4096, 0, 10562, 8519, 391, 938, 11190, 10304, 9315, 338, 11141, 7094, 4096, 10562, 5364, 11104, 5443, 3434, 9412, 4096, 0, 3097, 6669, 5477, 4096, 10035, 6946, 1979, 6669, 11126, 1224, 11231, 4096, 0, 9573, 4887, 4964, 11367, 3678, 5843, 5351, 4435, 3106, 10144, 8471, 4221, 527, 2638, 10501, 391, 1923, 10289, 6239], [6720, 974, 14, 10289, 7140, 6518, 10940, 3206, 10289, 10144, 9533, 3925, 10144, 1529, 7140, 11307, 10769, 4554, 8603, 974, 11317, 10831, 643, 7434, 391, 10161, 212, 643, 387, 10289, 6457, 6518, 10940, 735, 643, 289, 2382, 6732], [9051, 5351, 9248, 391, 4029, 5351, 2111, 11204, 206, 9980, 9051, 4180, 5770, 10035, 6018], [7054, 6669, 8341], [5760, 1279, 1785, 391, 8565, 9533, 6010, 5362, 391, 1882, 5362, 9533, 10422, 391, 8907, 4642, 7365, 6669, 4455, 6946, 9218, 5080, 8519, 6040, 7728, 8049, 1433, 2847, 6720, 4079, 10224, 5843], [6669, 1930, 5080, 8519, 4887, 10658, 2255, 6669, 2027, 1667, 5080, 8519, 3048, 8790, 6896, 9051, 3080, 11126, 289, 7013, 4029, 289, 4400, 870, 6669, 7683, 5875, 11062, 10289, 7778, 10447, 10144, 1494, 10989], [10144, 9533, 11190, 6720, 7712, 391, 4964, 5897, 9354, 6845, 6518, 5370, 11231, 11190, 5475, 5080, 10144, 4887, 5618, 9683, 11225, 10144, 4887, 5351, 5837]]\n"
          ]
        }
      ],
      "source": [
        "# ---------- Tokenization & Padding ----------\n",
        "tokenizer = Token()\n",
        "tokenizer.fit_on_texts(df['Clean_Review'])\n",
        "sequences = tokenizer.texts_to_sequences(df['Clean_Review'])\n",
        "\n",
        "print(sequences[:10])"
      ]
    },
    {
      "cell_type": "markdown",
      "id": "586727f0",
      "metadata": {
        "id": "586727f0"
      },
      "source": [
        "I am going to fix a predetermined maximum length (max_len) for each review based on statistical analysis of the dataset. Computing percentiles of the review lengths (measured in number of tokens/words) gave me a good max_len tradeoff that covers 95% of all reviews, ensuring that most reviews are fully preserved while avoiding excessively long inputs."
      ]
    },
    {
      "cell_type": "code",
      "execution_count": 10,
      "id": "0d3d545e",
      "metadata": {
        "colab": {
          "base_uri": "https://localhost:8080/"
        },
        "id": "0d3d545e",
        "outputId": "bda3119b-feae-4c27-81a3-a353c53d00c5"
      },
      "outputs": [
        {
          "output_type": "stream",
          "name": "stdout",
          "text": [
            "Max length:       606\n",
            "Mean length:      25.5\n",
            "Std. dev:         41.9\n",
            "95th percentile:  99.0\n",
            "99th percentile:  206.28999999999905\n",
            "Using as max_len: 99, and as vocab_size: 11459\n"
          ]
        }
      ],
      "source": [
        "# Compute lengths\n",
        "lengths = [len(seq) for seq in sequences]\n",
        "\n",
        "# Inspect key statistics\n",
        "print(f\"Max length:       {np.max(lengths)}\")\n",
        "print(f\"Mean length:      {np.mean(lengths):.1f}\")\n",
        "print(f\"Std. dev:         {np.std(lengths):.1f}\")\n",
        "print(f\"95th percentile:  {np.percentile(lengths, 95)}\")\n",
        "print(f\"99th percentile:  {np.percentile(lengths, 99)}\")\n",
        "\n",
        "# Set maxlen based on the 95th percentile\n",
        "max_len = int(np.percentile(lengths, 95))\n",
        "vocab_size = len(tokenizer.unique_words) + 1  # +1 for padding index\n",
        "\n",
        "print(f\"Using as max_len: {max_len}, and as vocab_size: {vocab_size}\")"
      ]
    },
    {
      "cell_type": "markdown",
      "id": "10d6a9fc",
      "metadata": {
        "id": "10d6a9fc"
      },
      "source": [
        "Now it's time to split my dataset into train, test and validation sets before applying tokenization and padding."
      ]
    },
    {
      "cell_type": "code",
      "execution_count": 11,
      "id": "f57790da",
      "metadata": {
        "colab": {
          "base_uri": "https://localhost:8080/"
        },
        "id": "f57790da",
        "outputId": "07261936-edde-4746-c7ff-643048fc20df"
      },
      "outputs": [
        {
          "output_type": "stream",
          "name": "stdout",
          "text": [
            "11017 1377 1378\n"
          ]
        }
      ],
      "source": [
        "train_df, temp_df = train_test_split(\n",
        "    df, test_size=0.20, random_state=42, shuffle=True\n",
        ")\n",
        "\n",
        "val_df, test_df = train_test_split(\n",
        "    temp_df, test_size=0.50, random_state=42, shuffle=True\n",
        ")\n",
        "\n",
        "print(len(train_df), len(val_df), len(test_df))"
      ]
    },
    {
      "cell_type": "code",
      "execution_count": 12,
      "id": "99476fb5",
      "metadata": {
        "id": "99476fb5"
      },
      "outputs": [],
      "source": [
        "# --- used in training my model --- #\n",
        "train_texts = train_df['Clean_Review'].values\n",
        "train_scores = train_df['Review_Score'].values\n",
        "train_targets = train_df['Review_Type'].values\n",
        "\n",
        "# --- used in hyperparameter tuning --- #\n",
        "val_texts = val_df['Clean_Review'].values\n",
        "val_scores = val_df['Review_Score'].values\n",
        "val_targets = val_df['Review_Type'].values\n",
        "\n",
        "# --- used in final evaluation --- #\n",
        "test_texts = test_df['Clean_Review'].values\n",
        "test_scores = test_df['Review_Score'].values\n",
        "test_targets = test_df['Review_Type'].values"
      ]
    },
    {
      "cell_type": "markdown",
      "id": "f833262e",
      "metadata": {
        "id": "f833262e"
      },
      "source": [
        "<font color=\"blue\">**CHANGE**</font>\n",
        "\n",
        "In the exam, I mentioned as input the preprocessed embedding dimensions, since I intended input as \"what I actually feed into my selected RNN (specifically, the Bidirectional LSTM).\" However, it would probably have been more correct to indicate as input the dimensions of the tokenized reviews, since in Keras it's preferable to include the embedding layer inside the model so it can be trained directly:\n",
        "\n",
        "**(batch_size, tokenized_reviews) --- Embedding ---> (batch_size, timestep, input_dim) --- RNN MODEL ---> (batch_size, output_BiLSTM)**"
      ]
    },
    {
      "cell_type": "code",
      "execution_count": 13,
      "id": "1a95bca5",
      "metadata": {
        "colab": {
          "base_uri": "https://localhost:8080/"
        },
        "id": "1a95bca5",
        "outputId": "f6713a08-af1f-4764-bb39-c04a6704b5b4"
      },
      "outputs": [
        {
          "output_type": "stream",
          "name": "stdout",
          "text": [
            "First apply tokenization:\n",
            "[[4493, 1279, 10969, 8909, 9578]]\n",
            "\n",
            "Then apply paddding:\n",
            "[[ 4493  1279 10969  8909  9578     0     0     0     0     0     0     0\n",
            "      0     0     0     0     0     0     0     0     0     0     0     0\n",
            "      0     0     0     0     0     0     0     0     0     0     0     0\n",
            "      0     0     0     0     0     0     0     0     0     0     0     0\n",
            "      0     0     0     0     0     0     0     0     0     0     0     0\n",
            "      0     0     0     0     0     0     0     0     0     0     0     0\n",
            "      0     0     0     0     0     0     0     0     0     0     0     0\n",
            "      0     0     0     0     0     0     0     0     0     0     0     0\n",
            "      0     0     0]]\n"
          ]
        }
      ],
      "source": [
        "# --- training --- #\n",
        "tokenized_train = tokenizer.texts_to_sequences(train_texts)\n",
        "train_texts = pad_sequences(\n",
        "    tokenized_train,\n",
        "    maxlen=max_len,\n",
        "    padding='post',\n",
        "    truncating='post'\n",
        ")\n",
        "\n",
        "# --- validation --- #\n",
        "tokenized_val = tokenizer.texts_to_sequences(val_texts)\n",
        "val_texts = pad_sequences(\n",
        "    tokenized_val,\n",
        "    maxlen=max_len,\n",
        "    padding='post',\n",
        "    truncating='post'\n",
        ")\n",
        "\n",
        "# --- test --- #\n",
        "tokenized_test = tokenizer.texts_to_sequences(test_texts)\n",
        "test_texts = pad_sequences(\n",
        "    tokenized_test,\n",
        "    maxlen=max_len,\n",
        "    padding='post',\n",
        "    truncating='post'\n",
        ")\n",
        "\n",
        "\n",
        "print(\"First apply tokenization:\")\n",
        "print(tokenized_train[:1])\n",
        "print(\"\")\n",
        "print(\"Then apply paddding:\")\n",
        "print(train_texts[:1])"
      ]
    },
    {
      "cell_type": "markdown",
      "id": "6f48f1af",
      "metadata": {
        "id": "6f48f1af"
      },
      "source": [
        "# 3-4 INPUT - OUTPUT"
      ]
    },
    {
      "cell_type": "code",
      "execution_count": 14,
      "id": "a8031e91",
      "metadata": {
        "colab": {
          "base_uri": "https://localhost:8080/"
        },
        "id": "a8031e91",
        "outputId": "95baae3f-fcbd-422e-a423-bd2ebe1e73cf"
      },
      "outputs": [
        {
          "output_type": "stream",
          "name": "stdout",
          "text": [
            "input model shape: (11017, 99), (11017,)\n"
          ]
        }
      ],
      "source": [
        "def input_reviews():\n",
        "    return Input(shape=(max_len,), name='text_input')\n",
        "\n",
        "def input_scores():\n",
        "    return Input(shape=(1,), name='score_input')\n",
        "\n",
        "\n",
        "print(f\"input model shape: {train_texts.shape}, {train_scores.shape}\")"
      ]
    },
    {
      "cell_type": "code",
      "execution_count": 15,
      "id": "67d8ce83",
      "metadata": {
        "colab": {
          "base_uri": "https://localhost:8080/"
        },
        "id": "67d8ce83",
        "outputId": "35ee1a79-80bf-42e6-f96b-7a4f0c8c97b5"
      },
      "outputs": [
        {
          "output_type": "stream",
          "name": "stdout",
          "text": [
            "output model shape: (11017,)\n"
          ]
        }
      ],
      "source": [
        "def output_classification():\n",
        "    return Dense(1, activation='sigmoid', name='output')\n",
        "\n",
        "print(f\"output model shape: {train_targets.shape}\")"
      ]
    },
    {
      "cell_type": "markdown",
      "id": "b38bb208",
      "metadata": {
        "id": "b38bb208"
      },
      "source": [
        "# 5- MODEL CONFIGURATION"
      ]
    },
    {
      "cell_type": "markdown",
      "id": "cebdf226",
      "metadata": {
        "id": "cebdf226"
      },
      "source": [
        "This section represents the following parts:\n",
        "\n",
        "6a- Model composition (composition of layers, regardless their number,\n",
        "or their dimension)"
      ]
    },
    {
      "cell_type": "code",
      "execution_count": 16,
      "id": "a67e2733",
      "metadata": {
        "colab": {
          "base_uri": "https://localhost:8080/",
          "height": 673
        },
        "id": "a67e2733",
        "outputId": "4d903150-a414-42d6-c310-c0ce2044361e"
      },
      "outputs": [
        {
          "output_type": "display_data",
          "data": {
            "text/plain": [
              "\u001b[1mModel: \"functional\"\u001b[0m\n"
            ],
            "text/html": [
              "<pre style=\"white-space:pre;overflow-x:auto;line-height:normal;font-family:Menlo,'DejaVu Sans Mono',consolas,'Courier New',monospace\"><span style=\"font-weight: bold\">Model: \"functional\"</span>\n",
              "</pre>\n"
            ]
          },
          "metadata": {}
        },
        {
          "output_type": "display_data",
          "data": {
            "text/plain": [
              "┏━━━━━━━━━━━━━━━━━━━━━┳━━━━━━━━━━━━━━━━━━━┳━━━━━━━━━━━━┳━━━━━━━━━━━━━━━━━━━┓\n",
              "┃\u001b[1m \u001b[0m\u001b[1mLayer (type)       \u001b[0m\u001b[1m \u001b[0m┃\u001b[1m \u001b[0m\u001b[1mOutput Shape     \u001b[0m\u001b[1m \u001b[0m┃\u001b[1m \u001b[0m\u001b[1m   Param #\u001b[0m\u001b[1m \u001b[0m┃\u001b[1m \u001b[0m\u001b[1mConnected to     \u001b[0m\u001b[1m \u001b[0m┃\n",
              "┡━━━━━━━━━━━━━━━━━━━━━╇━━━━━━━━━━━━━━━━━━━╇━━━━━━━━━━━━╇━━━━━━━━━━━━━━━━━━━┩\n",
              "│ text_input          │ (\u001b[38;5;45mNone\u001b[0m, \u001b[38;5;34m99\u001b[0m)        │          \u001b[38;5;34m0\u001b[0m │ -                 │\n",
              "│ (\u001b[38;5;33mInputLayer\u001b[0m)        │                   │            │                   │\n",
              "├─────────────────────┼───────────────────┼────────────┼───────────────────┤\n",
              "│ embedding           │ (\u001b[38;5;45mNone\u001b[0m, \u001b[38;5;34m99\u001b[0m, \u001b[38;5;34m50\u001b[0m)    │    \u001b[38;5;34m572,950\u001b[0m │ text_input[\u001b[38;5;34m0\u001b[0m][\u001b[38;5;34m0\u001b[0m]  │\n",
              "│ (\u001b[38;5;33mEmbedding\u001b[0m)         │                   │            │                   │\n",
              "├─────────────────────┼───────────────────┼────────────┼───────────────────┤\n",
              "│ not_equal           │ (\u001b[38;5;45mNone\u001b[0m, \u001b[38;5;34m99\u001b[0m)        │          \u001b[38;5;34m0\u001b[0m │ text_input[\u001b[38;5;34m0\u001b[0m][\u001b[38;5;34m0\u001b[0m]  │\n",
              "│ (\u001b[38;5;33mNotEqual\u001b[0m)          │                   │            │                   │\n",
              "├─────────────────────┼───────────────────┼────────────┼───────────────────┤\n",
              "│ bidirectional       │ (\u001b[38;5;45mNone\u001b[0m, \u001b[38;5;34m128\u001b[0m)       │     \u001b[38;5;34m58,880\u001b[0m │ embedding[\u001b[38;5;34m0\u001b[0m][\u001b[38;5;34m0\u001b[0m],  │\n",
              "│ (\u001b[38;5;33mBidirectional\u001b[0m)     │                   │            │ not_equal[\u001b[38;5;34m0\u001b[0m][\u001b[38;5;34m0\u001b[0m]   │\n",
              "├─────────────────────┼───────────────────┼────────────┼───────────────────┤\n",
              "│ score_input         │ (\u001b[38;5;45mNone\u001b[0m, \u001b[38;5;34m1\u001b[0m)         │          \u001b[38;5;34m0\u001b[0m │ -                 │\n",
              "│ (\u001b[38;5;33mInputLayer\u001b[0m)        │                   │            │                   │\n",
              "├─────────────────────┼───────────────────┼────────────┼───────────────────┤\n",
              "│ concatenate         │ (\u001b[38;5;45mNone\u001b[0m, \u001b[38;5;34m129\u001b[0m)       │          \u001b[38;5;34m0\u001b[0m │ bidirectional[\u001b[38;5;34m0\u001b[0m]… │\n",
              "│ (\u001b[38;5;33mConcatenate\u001b[0m)       │                   │            │ score_input[\u001b[38;5;34m0\u001b[0m][\u001b[38;5;34m0\u001b[0m] │\n",
              "├─────────────────────┼───────────────────┼────────────┼───────────────────┤\n",
              "│ dense (\u001b[38;5;33mDense\u001b[0m)       │ (\u001b[38;5;45mNone\u001b[0m, \u001b[38;5;34m64\u001b[0m)        │      \u001b[38;5;34m8,320\u001b[0m │ concatenate[\u001b[38;5;34m0\u001b[0m][\u001b[38;5;34m0\u001b[0m] │\n",
              "├─────────────────────┼───────────────────┼────────────┼───────────────────┤\n",
              "│ batch_normalization │ (\u001b[38;5;45mNone\u001b[0m, \u001b[38;5;34m64\u001b[0m)        │        \u001b[38;5;34m256\u001b[0m │ dense[\u001b[38;5;34m0\u001b[0m][\u001b[38;5;34m0\u001b[0m]       │\n",
              "│ (\u001b[38;5;33mBatchNormalizatio…\u001b[0m │                   │            │                   │\n",
              "├─────────────────────┼───────────────────┼────────────┼───────────────────┤\n",
              "│ dropout (\u001b[38;5;33mDropout\u001b[0m)   │ (\u001b[38;5;45mNone\u001b[0m, \u001b[38;5;34m64\u001b[0m)        │          \u001b[38;5;34m0\u001b[0m │ batch_normalizat… │\n",
              "├─────────────────────┼───────────────────┼────────────┼───────────────────┤\n",
              "│ dense_1 (\u001b[38;5;33mDense\u001b[0m)     │ (\u001b[38;5;45mNone\u001b[0m, \u001b[38;5;34m32\u001b[0m)        │      \u001b[38;5;34m2,080\u001b[0m │ dropout[\u001b[38;5;34m0\u001b[0m][\u001b[38;5;34m0\u001b[0m]     │\n",
              "├─────────────────────┼───────────────────┼────────────┼───────────────────┤\n",
              "│ batch_normalizatio… │ (\u001b[38;5;45mNone\u001b[0m, \u001b[38;5;34m32\u001b[0m)        │        \u001b[38;5;34m128\u001b[0m │ dense_1[\u001b[38;5;34m0\u001b[0m][\u001b[38;5;34m0\u001b[0m]     │\n",
              "│ (\u001b[38;5;33mBatchNormalizatio…\u001b[0m │                   │            │                   │\n",
              "├─────────────────────┼───────────────────┼────────────┼───────────────────┤\n",
              "│ dropout_1 (\u001b[38;5;33mDropout\u001b[0m) │ (\u001b[38;5;45mNone\u001b[0m, \u001b[38;5;34m32\u001b[0m)        │          \u001b[38;5;34m0\u001b[0m │ batch_normalizat… │\n",
              "├─────────────────────┼───────────────────┼────────────┼───────────────────┤\n",
              "│ output (\u001b[38;5;33mDense\u001b[0m)      │ (\u001b[38;5;45mNone\u001b[0m, \u001b[38;5;34m1\u001b[0m)         │         \u001b[38;5;34m33\u001b[0m │ dropout_1[\u001b[38;5;34m0\u001b[0m][\u001b[38;5;34m0\u001b[0m]   │\n",
              "└─────────────────────┴───────────────────┴────────────┴───────────────────┘\n"
            ],
            "text/html": [
              "<pre style=\"white-space:pre;overflow-x:auto;line-height:normal;font-family:Menlo,'DejaVu Sans Mono',consolas,'Courier New',monospace\">┏━━━━━━━━━━━━━━━━━━━━━┳━━━━━━━━━━━━━━━━━━━┳━━━━━━━━━━━━┳━━━━━━━━━━━━━━━━━━━┓\n",
              "┃<span style=\"font-weight: bold\"> Layer (type)        </span>┃<span style=\"font-weight: bold\"> Output Shape      </span>┃<span style=\"font-weight: bold\">    Param # </span>┃<span style=\"font-weight: bold\"> Connected to      </span>┃\n",
              "┡━━━━━━━━━━━━━━━━━━━━━╇━━━━━━━━━━━━━━━━━━━╇━━━━━━━━━━━━╇━━━━━━━━━━━━━━━━━━━┩\n",
              "│ text_input          │ (<span style=\"color: #00d7ff; text-decoration-color: #00d7ff\">None</span>, <span style=\"color: #00af00; text-decoration-color: #00af00\">99</span>)        │          <span style=\"color: #00af00; text-decoration-color: #00af00\">0</span> │ -                 │\n",
              "│ (<span style=\"color: #0087ff; text-decoration-color: #0087ff\">InputLayer</span>)        │                   │            │                   │\n",
              "├─────────────────────┼───────────────────┼────────────┼───────────────────┤\n",
              "│ embedding           │ (<span style=\"color: #00d7ff; text-decoration-color: #00d7ff\">None</span>, <span style=\"color: #00af00; text-decoration-color: #00af00\">99</span>, <span style=\"color: #00af00; text-decoration-color: #00af00\">50</span>)    │    <span style=\"color: #00af00; text-decoration-color: #00af00\">572,950</span> │ text_input[<span style=\"color: #00af00; text-decoration-color: #00af00\">0</span>][<span style=\"color: #00af00; text-decoration-color: #00af00\">0</span>]  │\n",
              "│ (<span style=\"color: #0087ff; text-decoration-color: #0087ff\">Embedding</span>)         │                   │            │                   │\n",
              "├─────────────────────┼───────────────────┼────────────┼───────────────────┤\n",
              "│ not_equal           │ (<span style=\"color: #00d7ff; text-decoration-color: #00d7ff\">None</span>, <span style=\"color: #00af00; text-decoration-color: #00af00\">99</span>)        │          <span style=\"color: #00af00; text-decoration-color: #00af00\">0</span> │ text_input[<span style=\"color: #00af00; text-decoration-color: #00af00\">0</span>][<span style=\"color: #00af00; text-decoration-color: #00af00\">0</span>]  │\n",
              "│ (<span style=\"color: #0087ff; text-decoration-color: #0087ff\">NotEqual</span>)          │                   │            │                   │\n",
              "├─────────────────────┼───────────────────┼────────────┼───────────────────┤\n",
              "│ bidirectional       │ (<span style=\"color: #00d7ff; text-decoration-color: #00d7ff\">None</span>, <span style=\"color: #00af00; text-decoration-color: #00af00\">128</span>)       │     <span style=\"color: #00af00; text-decoration-color: #00af00\">58,880</span> │ embedding[<span style=\"color: #00af00; text-decoration-color: #00af00\">0</span>][<span style=\"color: #00af00; text-decoration-color: #00af00\">0</span>],  │\n",
              "│ (<span style=\"color: #0087ff; text-decoration-color: #0087ff\">Bidirectional</span>)     │                   │            │ not_equal[<span style=\"color: #00af00; text-decoration-color: #00af00\">0</span>][<span style=\"color: #00af00; text-decoration-color: #00af00\">0</span>]   │\n",
              "├─────────────────────┼───────────────────┼────────────┼───────────────────┤\n",
              "│ score_input         │ (<span style=\"color: #00d7ff; text-decoration-color: #00d7ff\">None</span>, <span style=\"color: #00af00; text-decoration-color: #00af00\">1</span>)         │          <span style=\"color: #00af00; text-decoration-color: #00af00\">0</span> │ -                 │\n",
              "│ (<span style=\"color: #0087ff; text-decoration-color: #0087ff\">InputLayer</span>)        │                   │            │                   │\n",
              "├─────────────────────┼───────────────────┼────────────┼───────────────────┤\n",
              "│ concatenate         │ (<span style=\"color: #00d7ff; text-decoration-color: #00d7ff\">None</span>, <span style=\"color: #00af00; text-decoration-color: #00af00\">129</span>)       │          <span style=\"color: #00af00; text-decoration-color: #00af00\">0</span> │ bidirectional[<span style=\"color: #00af00; text-decoration-color: #00af00\">0</span>]… │\n",
              "│ (<span style=\"color: #0087ff; text-decoration-color: #0087ff\">Concatenate</span>)       │                   │            │ score_input[<span style=\"color: #00af00; text-decoration-color: #00af00\">0</span>][<span style=\"color: #00af00; text-decoration-color: #00af00\">0</span>] │\n",
              "├─────────────────────┼───────────────────┼────────────┼───────────────────┤\n",
              "│ dense (<span style=\"color: #0087ff; text-decoration-color: #0087ff\">Dense</span>)       │ (<span style=\"color: #00d7ff; text-decoration-color: #00d7ff\">None</span>, <span style=\"color: #00af00; text-decoration-color: #00af00\">64</span>)        │      <span style=\"color: #00af00; text-decoration-color: #00af00\">8,320</span> │ concatenate[<span style=\"color: #00af00; text-decoration-color: #00af00\">0</span>][<span style=\"color: #00af00; text-decoration-color: #00af00\">0</span>] │\n",
              "├─────────────────────┼───────────────────┼────────────┼───────────────────┤\n",
              "│ batch_normalization │ (<span style=\"color: #00d7ff; text-decoration-color: #00d7ff\">None</span>, <span style=\"color: #00af00; text-decoration-color: #00af00\">64</span>)        │        <span style=\"color: #00af00; text-decoration-color: #00af00\">256</span> │ dense[<span style=\"color: #00af00; text-decoration-color: #00af00\">0</span>][<span style=\"color: #00af00; text-decoration-color: #00af00\">0</span>]       │\n",
              "│ (<span style=\"color: #0087ff; text-decoration-color: #0087ff\">BatchNormalizatio…</span> │                   │            │                   │\n",
              "├─────────────────────┼───────────────────┼────────────┼───────────────────┤\n",
              "│ dropout (<span style=\"color: #0087ff; text-decoration-color: #0087ff\">Dropout</span>)   │ (<span style=\"color: #00d7ff; text-decoration-color: #00d7ff\">None</span>, <span style=\"color: #00af00; text-decoration-color: #00af00\">64</span>)        │          <span style=\"color: #00af00; text-decoration-color: #00af00\">0</span> │ batch_normalizat… │\n",
              "├─────────────────────┼───────────────────┼────────────┼───────────────────┤\n",
              "│ dense_1 (<span style=\"color: #0087ff; text-decoration-color: #0087ff\">Dense</span>)     │ (<span style=\"color: #00d7ff; text-decoration-color: #00d7ff\">None</span>, <span style=\"color: #00af00; text-decoration-color: #00af00\">32</span>)        │      <span style=\"color: #00af00; text-decoration-color: #00af00\">2,080</span> │ dropout[<span style=\"color: #00af00; text-decoration-color: #00af00\">0</span>][<span style=\"color: #00af00; text-decoration-color: #00af00\">0</span>]     │\n",
              "├─────────────────────┼───────────────────┼────────────┼───────────────────┤\n",
              "│ batch_normalizatio… │ (<span style=\"color: #00d7ff; text-decoration-color: #00d7ff\">None</span>, <span style=\"color: #00af00; text-decoration-color: #00af00\">32</span>)        │        <span style=\"color: #00af00; text-decoration-color: #00af00\">128</span> │ dense_1[<span style=\"color: #00af00; text-decoration-color: #00af00\">0</span>][<span style=\"color: #00af00; text-decoration-color: #00af00\">0</span>]     │\n",
              "│ (<span style=\"color: #0087ff; text-decoration-color: #0087ff\">BatchNormalizatio…</span> │                   │            │                   │\n",
              "├─────────────────────┼───────────────────┼────────────┼───────────────────┤\n",
              "│ dropout_1 (<span style=\"color: #0087ff; text-decoration-color: #0087ff\">Dropout</span>) │ (<span style=\"color: #00d7ff; text-decoration-color: #00d7ff\">None</span>, <span style=\"color: #00af00; text-decoration-color: #00af00\">32</span>)        │          <span style=\"color: #00af00; text-decoration-color: #00af00\">0</span> │ batch_normalizat… │\n",
              "├─────────────────────┼───────────────────┼────────────┼───────────────────┤\n",
              "│ output (<span style=\"color: #0087ff; text-decoration-color: #0087ff\">Dense</span>)      │ (<span style=\"color: #00d7ff; text-decoration-color: #00d7ff\">None</span>, <span style=\"color: #00af00; text-decoration-color: #00af00\">1</span>)         │         <span style=\"color: #00af00; text-decoration-color: #00af00\">33</span> │ dropout_1[<span style=\"color: #00af00; text-decoration-color: #00af00\">0</span>][<span style=\"color: #00af00; text-decoration-color: #00af00\">0</span>]   │\n",
              "└─────────────────────┴───────────────────┴────────────┴───────────────────┘\n",
              "</pre>\n"
            ]
          },
          "metadata": {}
        },
        {
          "output_type": "display_data",
          "data": {
            "text/plain": [
              "\u001b[1m Total params: \u001b[0m\u001b[38;5;34m642,647\u001b[0m (2.45 MB)\n"
            ],
            "text/html": [
              "<pre style=\"white-space:pre;overflow-x:auto;line-height:normal;font-family:Menlo,'DejaVu Sans Mono',consolas,'Courier New',monospace\"><span style=\"font-weight: bold\"> Total params: </span><span style=\"color: #00af00; text-decoration-color: #00af00\">642,647</span> (2.45 MB)\n",
              "</pre>\n"
            ]
          },
          "metadata": {}
        },
        {
          "output_type": "display_data",
          "data": {
            "text/plain": [
              "\u001b[1m Trainable params: \u001b[0m\u001b[38;5;34m642,455\u001b[0m (2.45 MB)\n"
            ],
            "text/html": [
              "<pre style=\"white-space:pre;overflow-x:auto;line-height:normal;font-family:Menlo,'DejaVu Sans Mono',consolas,'Courier New',monospace\"><span style=\"font-weight: bold\"> Trainable params: </span><span style=\"color: #00af00; text-decoration-color: #00af00\">642,455</span> (2.45 MB)\n",
              "</pre>\n"
            ]
          },
          "metadata": {}
        },
        {
          "output_type": "display_data",
          "data": {
            "text/plain": [
              "\u001b[1m Non-trainable params: \u001b[0m\u001b[38;5;34m192\u001b[0m (768.00 B)\n"
            ],
            "text/html": [
              "<pre style=\"white-space:pre;overflow-x:auto;line-height:normal;font-family:Menlo,'DejaVu Sans Mono',consolas,'Courier New',monospace\"><span style=\"font-weight: bold\"> Non-trainable params: </span><span style=\"color: #00af00; text-decoration-color: #00af00\">192</span> (768.00 B)\n",
              "</pre>\n"
            ]
          },
          "metadata": {}
        }
      ],
      "source": [
        "def create_model(LOSS = 'binary_crossentropy',\n",
        "                 embedding_dim = 50,\n",
        "                 learning_rate=0.01,\n",
        "                 hidden_act='relu',\n",
        "                 dropout_rate=0.2):\n",
        "\n",
        "    text_input = input_reviews()\n",
        "\n",
        "    score_input = input_scores()\n",
        "\n",
        "    embedded = Embedding(\n",
        "        input_dim=vocab_size,\n",
        "        output_dim=embedding_dim,\n",
        "        mask_zero=True,\n",
        "        name='embedding'\n",
        "    )(text_input)\n",
        "\n",
        "    bilstm_out = Bidirectional(\n",
        "        LSTM(units=64,\n",
        "             activation='tanh',\n",
        "             recurrent_activation='sigmoid',\n",
        "             kernel_initializer='glorot_uniform',\n",
        "             return_sequences=False,\n",
        "             name='bilstm')\n",
        "        )(embedded)\n",
        "\n",
        "    # Concatenate branches\n",
        "    x = Concatenate(axis=-1)([bilstm_out, score_input])\n",
        "\n",
        "    # Dense layers with dropout and batch normalization\n",
        "    x = Dense(64, activation=hidden_act, kernel_initializer='he_uniform', kernel_regularizer='l2')(x)\n",
        "    x = BatchNormalization()(x)\n",
        "    x = Dropout(dropout_rate)(x)\n",
        "\n",
        "    x = Dense(32, activation=hidden_act, kernel_initializer='he_uniform', kernel_regularizer='l2')(x)\n",
        "    x = BatchNormalization()(x)\n",
        "    x = Dropout(dropout_rate)(x)\n",
        "\n",
        "    # Output layer for binary classification\n",
        "    output = output_classification()(x)\n",
        "\n",
        "    model = Model(inputs=[text_input, score_input], outputs=output)\n",
        "    model.compile(\n",
        "        optimizer=Adam(learning_rate=learning_rate),\n",
        "        loss=LOSS,\n",
        "        metrics=['accuracy']\n",
        "    )\n",
        "\n",
        "    return model\n",
        "\n",
        "create_model().summary()"
      ]
    },
    {
      "cell_type": "markdown",
      "id": "f8249b23",
      "metadata": {
        "id": "f8249b23"
      },
      "source": [
        "6b- hyperparameter tuning: Here i provide the most important parameters for my model to be tuned. selecting the best combination of those parameters will improve my model capabilities"
      ]
    },
    {
      "cell_type": "code",
      "execution_count": 17,
      "id": "fc635fb5",
      "metadata": {
        "id": "fc635fb5"
      },
      "outputs": [],
      "source": [
        "param_grid = {\n",
        "    'learning_rate': [1e-5, 1e-4, 1e-3, 1e-2],\n",
        "    'epochs':       [5, 10, 15],\n",
        "    'batch_size':   [64, 128, 256],\n",
        "    'dropout_rate': [0.1, 0.2, 0.3],\n",
        "    'hidden_act':   ['relu', 'leaky_relu']\n",
        "}"
      ]
    },
    {
      "cell_type": "markdown",
      "id": "c1affc9b",
      "metadata": {
        "id": "c1affc9b"
      },
      "source": [
        "# 6- MODEL EVALUATION"
      ]
    },
    {
      "cell_type": "markdown",
      "id": "6f393c19",
      "metadata": {
        "id": "6f393c19"
      },
      "source": [
        "This section focus on how to assess (in which setting) the generalization capabilties of the model on unseen data.\n",
        "\n",
        "<font color=\"blue\">**CHANGE**</font>\n",
        "\n",
        "To evaluate the model, I implemented a custom random search procedure, selecting the best configuration based solely on the F1-score, while also recording accuracy for reference. The evaluation was conducted using a single validation set without applying any stratified sampling and only on 5 samples, everithing in order to reduce complexity."
      ]
    },
    {
      "cell_type": "code",
      "execution_count": 18,
      "id": "a1017e1c",
      "metadata": {
        "colab": {
          "base_uri": "https://localhost:8080/"
        },
        "id": "a1017e1c",
        "outputId": "5ed368ec-cf76-48d1-87d1-dc498448e217"
      },
      "outputs": [
        {
          "output_type": "stream",
          "name": "stdout",
          "text": [
            "Total configurations: 216, sampling 5 random sets \n",
            "\n",
            "========== TRAINING 1\\5 ==========\n",
            "PARAMETERS: lr=0.001, dropout=0.1, hidden_act=leaky_relu, epochs=15, batch_size=128\n",
            "Epoch 1/15\n",
            "\u001b[1m87/87\u001b[0m \u001b[32m━━━━━━━━━━━━━━━━━━━━\u001b[0m\u001b[37m\u001b[0m \u001b[1m43s\u001b[0m 344ms/step - accuracy: 0.9806 - loss: 1.6151 - val_accuracy: 0.6485 - val_loss: 1.1350\n",
            "Epoch 2/15\n",
            "\u001b[1m87/87\u001b[0m \u001b[32m━━━━━━━━━━━━━━━━━━━━\u001b[0m\u001b[37m\u001b[0m \u001b[1m30s\u001b[0m 344ms/step - accuracy: 0.9899 - loss: 0.5354 - val_accuracy: 0.9659 - val_loss: 0.5572\n",
            "Epoch 3/15\n",
            "\u001b[1m87/87\u001b[0m \u001b[32m━━━━━━━━━━━━━━━━━━━━\u001b[0m\u001b[37m\u001b[0m \u001b[1m43s\u001b[0m 367ms/step - accuracy: 0.9930 - loss: 0.1856 - val_accuracy: 0.9317 - val_loss: 0.3444\n",
            "Epoch 4/15\n",
            "\u001b[1m87/87\u001b[0m \u001b[32m━━━━━━━━━━━━━━━━━━━━\u001b[0m\u001b[37m\u001b[0m \u001b[1m40s\u001b[0m 355ms/step - accuracy: 0.9953 - loss: 0.0714 - val_accuracy: 0.8874 - val_loss: 0.2631\n",
            "Epoch 5/15\n",
            "\u001b[1m87/87\u001b[0m \u001b[32m━━━━━━━━━━━━━━━━━━━━\u001b[0m\u001b[37m\u001b[0m \u001b[1m40s\u001b[0m 339ms/step - accuracy: 0.9986 - loss: 0.0319 - val_accuracy: 0.8998 - val_loss: 0.2023\n",
            "Epoch 6/15\n",
            "\u001b[1m87/87\u001b[0m \u001b[32m━━━━━━━━━━━━━━━━━━━━\u001b[0m\u001b[37m\u001b[0m \u001b[1m42s\u001b[0m 354ms/step - accuracy: 0.9979 - loss: 0.0174 - val_accuracy: 0.8489 - val_loss: 0.4152\n",
            "Epoch 7/15\n",
            "\u001b[1m87/87\u001b[0m \u001b[32m━━━━━━━━━━━━━━━━━━━━\u001b[0m\u001b[37m\u001b[0m \u001b[1m40s\u001b[0m 338ms/step - accuracy: 0.9996 - loss: 0.0093 - val_accuracy: 0.9012 - val_loss: 0.2470\n",
            "Epoch 8/15\n",
            "\u001b[1m87/87\u001b[0m \u001b[32m━━━━━━━━━━━━━━━━━━━━\u001b[0m\u001b[37m\u001b[0m \u001b[1m41s\u001b[0m 340ms/step - accuracy: 0.9998 - loss: 0.0066 - val_accuracy: 0.9608 - val_loss: 0.0876\n",
            "Epoch 9/15\n",
            "\u001b[1m87/87\u001b[0m \u001b[32m━━━━━━━━━━━━━━━━━━━━\u001b[0m\u001b[37m\u001b[0m \u001b[1m42s\u001b[0m 351ms/step - accuracy: 0.9999 - loss: 0.0053 - val_accuracy: 0.9644 - val_loss: 0.1036\n",
            "Epoch 10/15\n",
            "\u001b[1m87/87\u001b[0m \u001b[32m━━━━━━━━━━━━━━━━━━━━\u001b[0m\u001b[37m\u001b[0m \u001b[1m41s\u001b[0m 345ms/step - accuracy: 0.9999 - loss: 0.0049 - val_accuracy: 0.9535 - val_loss: 0.1694\n",
            "Epoch 11/15\n",
            "\u001b[1m87/87\u001b[0m \u001b[32m━━━━━━━━━━━━━━━━━━━━\u001b[0m\u001b[37m\u001b[0m \u001b[1m40s\u001b[0m 340ms/step - accuracy: 0.9995 - loss: 0.0060 - val_accuracy: 0.9513 - val_loss: 0.1562\n",
            "Epoch 12/15\n",
            "\u001b[1m87/87\u001b[0m \u001b[32m━━━━━━━━━━━━━━━━━━━━\u001b[0m\u001b[37m\u001b[0m \u001b[1m41s\u001b[0m 339ms/step - accuracy: 0.9997 - loss: 0.0046 - val_accuracy: 0.9877 - val_loss: 0.0280\n",
            "Epoch 13/15\n",
            "\u001b[1m87/87\u001b[0m \u001b[32m━━━━━━━━━━━━━━━━━━━━\u001b[0m\u001b[37m\u001b[0m \u001b[1m32s\u001b[0m 365ms/step - accuracy: 1.0000 - loss: 0.0035 - val_accuracy: 0.9695 - val_loss: 0.0971\n",
            "Epoch 14/15\n",
            "\u001b[1m87/87\u001b[0m \u001b[32m━━━━━━━━━━━━━━━━━━━━\u001b[0m\u001b[37m\u001b[0m \u001b[1m52s\u001b[0m 486ms/step - accuracy: 1.0000 - loss: 0.0037 - val_accuracy: 0.9049 - val_loss: 0.3134\n",
            "Epoch 15/15\n",
            "\u001b[1m87/87\u001b[0m \u001b[32m━━━━━━━━━━━━━━━━━━━━\u001b[0m\u001b[37m\u001b[0m \u001b[1m89s\u001b[0m 574ms/step - accuracy: 0.9998 - loss: 0.0037 - val_accuracy: 0.9143 - val_loss: 0.2457\n",
            "\u001b[1m44/44\u001b[0m \u001b[32m━━━━━━━━━━━━━━━━━━━━\u001b[0m\u001b[37m\u001b[0m \u001b[1m2s\u001b[0m 38ms/step\n",
            " -> Validation F1-score: 0.9138\n",
            " -> Validation Accuracy: 0.9143\n",
            "\n",
            "========== TRAINING 2\\5 ==========\n",
            "PARAMETERS: lr=0.001, dropout=0.1, hidden_act=relu, epochs=5, batch_size=64\n",
            "Epoch 1/5\n",
            "\u001b[1m173/173\u001b[0m \u001b[32m━━━━━━━━━━━━━━━━━━━━\u001b[0m\u001b[37m\u001b[0m \u001b[1m48s\u001b[0m 237ms/step - accuracy: 0.8328 - loss: 1.6561 - val_accuracy: 0.9579 - val_loss: 0.5857\n",
            "Epoch 2/5\n",
            "\u001b[1m173/173\u001b[0m \u001b[32m━━━━━━━━━━━━━━━━━━━━\u001b[0m\u001b[37m\u001b[0m \u001b[1m31s\u001b[0m 176ms/step - accuracy: 0.9855 - loss: 0.3094 - val_accuracy: 0.9739 - val_loss: 0.2380\n",
            "Epoch 3/5\n",
            "\u001b[1m173/173\u001b[0m \u001b[32m━━━━━━━━━━━━━━━━━━━━\u001b[0m\u001b[37m\u001b[0m \u001b[1m40s\u001b[0m 169ms/step - accuracy: 0.9862 - loss: 0.1523 - val_accuracy: 0.9651 - val_loss: 0.1684\n",
            "Epoch 4/5\n",
            "\u001b[1m173/173\u001b[0m \u001b[32m━━━━━━━━━━━━━━━━━━━━\u001b[0m\u001b[37m\u001b[0m \u001b[1m40s\u001b[0m 164ms/step - accuracy: 0.9900 - loss: 0.1039 - val_accuracy: 0.9608 - val_loss: 0.1363\n",
            "Epoch 5/5\n",
            "\u001b[1m173/173\u001b[0m \u001b[32m━━━━━━━━━━━━━━━━━━━━\u001b[0m\u001b[37m\u001b[0m \u001b[1m31s\u001b[0m 180ms/step - accuracy: 0.9937 - loss: 0.0745 - val_accuracy: 0.9368 - val_loss: 0.1704\n",
            "\u001b[1m44/44\u001b[0m \u001b[32m━━━━━━━━━━━━━━━━━━━━\u001b[0m\u001b[37m\u001b[0m \u001b[1m3s\u001b[0m 50ms/step\n",
            " -> Validation F1-score: 0.9365\n",
            " -> Validation Accuracy: 0.9368\n",
            "\n",
            "========== TRAINING 3\\5 ==========\n",
            "PARAMETERS: lr=1e-05, dropout=0.2, hidden_act=relu, epochs=5, batch_size=128\n",
            "Epoch 1/5\n",
            "\u001b[1m87/87\u001b[0m \u001b[32m━━━━━━━━━━━━━━━━━━━━\u001b[0m\u001b[37m\u001b[0m \u001b[1m39s\u001b[0m 366ms/step - accuracy: 0.3506 - loss: 3.0930 - val_accuracy: 0.3675 - val_loss: 2.8290\n",
            "Epoch 2/5\n",
            "\u001b[1m87/87\u001b[0m \u001b[32m━━━━━━━━━━━━━━━━━━━━\u001b[0m\u001b[37m\u001b[0m \u001b[1m31s\u001b[0m 361ms/step - accuracy: 0.4051 - loss: 2.9746 - val_accuracy: 0.2171 - val_loss: 2.7072\n",
            "Epoch 3/5\n",
            "\u001b[1m87/87\u001b[0m \u001b[32m━━━━━━━━━━━━━━━━━━━━\u001b[0m\u001b[37m\u001b[0m \u001b[1m47s\u001b[0m 430ms/step - accuracy: 0.4724 - loss: 2.8524 - val_accuracy: 0.5744 - val_loss: 2.5311\n",
            "Epoch 4/5\n",
            "\u001b[1m87/87\u001b[0m \u001b[32m━━━━━━━━━━━━━━━━━━━━\u001b[0m\u001b[37m\u001b[0m \u001b[1m35s\u001b[0m 359ms/step - accuracy: 0.5299 - loss: 2.7327 - val_accuracy: 0.9252 - val_loss: 2.3793\n",
            "Epoch 5/5\n",
            "\u001b[1m87/87\u001b[0m \u001b[32m━━━━━━━━━━━━━━━━━━━━\u001b[0m\u001b[37m\u001b[0m \u001b[1m40s\u001b[0m 347ms/step - accuracy: 0.6364 - loss: 2.5775 - val_accuracy: 0.9797 - val_loss: 2.2893\n",
            "\u001b[1m44/44\u001b[0m \u001b[32m━━━━━━━━━━━━━━━━━━━━\u001b[0m\u001b[37m\u001b[0m \u001b[1m2s\u001b[0m 37ms/step\n",
            " -> Validation F1-score: 0.9797\n",
            " -> Validation Accuracy: 0.9797\n",
            "\n",
            "========== TRAINING 4\\5 ==========\n",
            "PARAMETERS: lr=1e-05, dropout=0.1, hidden_act=leaky_relu, epochs=5, batch_size=128\n",
            "Epoch 1/5\n",
            "\u001b[1m87/87\u001b[0m \u001b[32m━━━━━━━━━━━━━━━━━━━━\u001b[0m\u001b[37m\u001b[0m \u001b[1m50s\u001b[0m 477ms/step - accuracy: 0.9294 - loss: 2.2042 - val_accuracy: 0.5744 - val_loss: 2.5102\n",
            "Epoch 2/5\n",
            "\u001b[1m87/87\u001b[0m \u001b[32m━━━━━━━━━━━━━━━━━━━━\u001b[0m\u001b[37m\u001b[0m \u001b[1m41s\u001b[0m 470ms/step - accuracy: 0.9464 - loss: 2.1478 - val_accuracy: 0.7945 - val_loss: 2.2509\n",
            "Epoch 3/5\n",
            "\u001b[1m87/87\u001b[0m \u001b[32m━━━━━━━━━━━━━━━━━━━━\u001b[0m\u001b[37m\u001b[0m \u001b[1m42s\u001b[0m 487ms/step - accuracy: 0.9550 - loss: 2.1037 - val_accuracy: 1.0000 - val_loss: 2.1183\n",
            "Epoch 4/5\n",
            "\u001b[1m87/87\u001b[0m \u001b[32m━━━━━━━━━━━━━━━━━━━━\u001b[0m\u001b[37m\u001b[0m \u001b[1m76s\u001b[0m 418ms/step - accuracy: 0.9614 - loss: 2.0656 - val_accuracy: 0.9789 - val_loss: 2.0562\n",
            "Epoch 5/5\n",
            "\u001b[1m87/87\u001b[0m \u001b[32m━━━━━━━━━━━━━━━━━━━━\u001b[0m\u001b[37m\u001b[0m \u001b[1m41s\u001b[0m 421ms/step - accuracy: 0.9709 - loss: 2.0296 - val_accuracy: 0.9724 - val_loss: 2.0166\n",
            "\u001b[1m44/44\u001b[0m \u001b[32m━━━━━━━━━━━━━━━━━━━━\u001b[0m\u001b[37m\u001b[0m \u001b[1m4s\u001b[0m 71ms/step\n",
            " -> Validation F1-score: 0.9724\n",
            " -> Validation Accuracy: 0.9724\n",
            "\n",
            "========== TRAINING 5\\5 ==========\n",
            "PARAMETERS: lr=1e-05, dropout=0.3, hidden_act=leaky_relu, epochs=10, batch_size=64\n",
            "Epoch 1/10\n",
            "\u001b[1m173/173\u001b[0m \u001b[32m━━━━━━━━━━━━━━━━━━━━\u001b[0m\u001b[37m\u001b[0m \u001b[1m47s\u001b[0m 220ms/step - accuracy: 0.4757 - loss: 2.8711 - val_accuracy: 0.9746 - val_loss: 2.3256\n",
            "Epoch 2/10\n",
            "\u001b[1m173/173\u001b[0m \u001b[32m━━━━━━━━━━━━━━━━━━━━\u001b[0m\u001b[37m\u001b[0m \u001b[1m42s\u001b[0m 224ms/step - accuracy: 0.5742 - loss: 2.6952 - val_accuracy: 0.8882 - val_loss: 2.2713\n",
            "Epoch 3/10\n",
            "\u001b[1m173/173\u001b[0m \u001b[32m━━━━━━━━━━━━━━━━━━━━\u001b[0m\u001b[37m\u001b[0m \u001b[1m32s\u001b[0m 170ms/step - accuracy: 0.6522 - loss: 2.5236 - val_accuracy: 0.8925 - val_loss: 2.1981\n",
            "Epoch 4/10\n",
            "\u001b[1m173/173\u001b[0m \u001b[32m━━━━━━━━━━━━━━━━━━━━\u001b[0m\u001b[37m\u001b[0m \u001b[1m49s\u001b[0m 215ms/step - accuracy: 0.7349 - loss: 2.3627 - val_accuracy: 0.9281 - val_loss: 2.0888\n",
            "Epoch 5/10\n",
            "\u001b[1m173/173\u001b[0m \u001b[32m━━━━━━━━━━━━━━━━━━━━\u001b[0m\u001b[37m\u001b[0m \u001b[1m35s\u001b[0m 181ms/step - accuracy: 0.8073 - loss: 2.2171 - val_accuracy: 0.9412 - val_loss: 1.9978\n",
            "Epoch 6/10\n",
            "\u001b[1m173/173\u001b[0m \u001b[32m━━━━━━━━━━━━━━━━━━━━\u001b[0m\u001b[37m\u001b[0m \u001b[1m45s\u001b[0m 203ms/step - accuracy: 0.8637 - loss: 2.0976 - val_accuracy: 0.9572 - val_loss: 1.9249\n",
            "Epoch 7/10\n",
            "\u001b[1m173/173\u001b[0m \u001b[32m━━━━━━━━━━━━━━━━━━━━\u001b[0m\u001b[37m\u001b[0m \u001b[1m39s\u001b[0m 194ms/step - accuracy: 0.9005 - loss: 2.0084 - val_accuracy: 0.9731 - val_loss: 1.8641\n",
            "Epoch 8/10\n",
            "\u001b[1m173/173\u001b[0m \u001b[32m━━━━━━━━━━━━━━━━━━━━\u001b[0m\u001b[37m\u001b[0m \u001b[1m37s\u001b[0m 170ms/step - accuracy: 0.9164 - loss: 1.9453 - val_accuracy: 0.9840 - val_loss: 1.8185\n",
            "Epoch 9/10\n",
            "\u001b[1m173/173\u001b[0m \u001b[32m━━━━━━━━━━━━━━━━━━━━\u001b[0m\u001b[37m\u001b[0m \u001b[1m40s\u001b[0m 165ms/step - accuracy: 0.9308 - loss: 1.8881 - val_accuracy: 0.9869 - val_loss: 1.7759\n",
            "Epoch 10/10\n",
            "\u001b[1m173/173\u001b[0m \u001b[32m━━━━━━━━━━━━━━━━━━━━\u001b[0m\u001b[37m\u001b[0m \u001b[1m42s\u001b[0m 168ms/step - accuracy: 0.9480 - loss: 1.8331 - val_accuracy: 0.9891 - val_loss: 1.7348\n",
            "\u001b[1m44/44\u001b[0m \u001b[32m━━━━━━━━━━━━━━━━━━━━\u001b[0m\u001b[37m\u001b[0m \u001b[1m3s\u001b[0m 56ms/step\n",
            " -> Validation F1-score: 0.9891\n",
            " -> Validation Accuracy: 0.9891\n",
            "\n",
            "Best Validation F1-score: 0.9891\n",
            "Best Set Hyperparameters: {'learning_rate': 1e-05, 'epochs': 10, 'batch_size': 64, 'dropout_rate': 0.3, 'hidden_act': 'leaky_relu'}\n"
          ]
        }
      ],
      "source": [
        "def random_search(grid, samples= 5):\n",
        "    # Generate all parameters grid space and randomly sample\n",
        "    parameters_space = list(itertools.product(*grid.values()))\n",
        "    print(f\"Total configurations: {len(parameters_space)}, sampling {samples} random sets \\n\")\n",
        "    sampled = random.sample(parameters_space, samples)\n",
        "    param_dicts = [dict(zip(grid.keys(), combo)) for combo in sampled]\n",
        "\n",
        "    # best model variables\n",
        "    best_f1 = 0\n",
        "    best_acc = 0\n",
        "    best_params = None\n",
        "\n",
        "    counter = 0\n",
        "    for params in param_dicts:\n",
        "        counter += 1\n",
        "\n",
        "        lr = params['learning_rate']\n",
        "        dp = params['dropout_rate']\n",
        "        act = params['hidden_act']\n",
        "        epochs = params['epochs']\n",
        "        bs = params['batch_size']\n",
        "\n",
        "        print(f\"========== TRAINING {counter}\\{samples} ==========\")\n",
        "        print(f\"PARAMETERS: lr={lr}, dropout={dp}, hidden_act={act}, epochs={epochs}, batch_size={bs}\")\n",
        "        model = create_model(\n",
        "            learning_rate=lr,\n",
        "            dropout_rate=dp,\n",
        "            hidden_act=act)\n",
        "\n",
        "        # Fit on train, validate on val\n",
        "        model.fit(\n",
        "            x=[train_texts, train_scores],\n",
        "            y=train_targets,\n",
        "            validation_data=([val_texts, val_scores], val_targets),\n",
        "            epochs=epochs,\n",
        "            batch_size=bs,\n",
        "            verbose=1\n",
        "        )\n",
        "\n",
        "        # Evaluate\n",
        "        preds = (model.predict([val_texts, val_scores]) > 0.5).astype(int)\n",
        "        acc = accuracy_score(val_targets, preds)\n",
        "        f1 = classification_report(val_targets, preds, output_dict=True)['weighted avg']['f1-score']\n",
        "        print(f\" -> Validation F1-score: {f1:.4f}\")\n",
        "        print(f\" -> Validation Accuracy: {acc:.4f}\\n\")\n",
        "\n",
        "        if f1 > best_f1:\n",
        "            best_f1 = f1\n",
        "            best_acc = acc\n",
        "            best_params = params\n",
        "\n",
        "    print(f\"Best Validation F1-score: {best_f1:.4f}\")\n",
        "    print(f\"Best Set Hyperparameters: {best_params}\")\n",
        "    return best_params, best_f1, best_acc\n",
        "\n",
        "\n",
        "best_params, best_f1, best_acc = random_search(param_grid)"
      ]
    },
    {
      "cell_type": "markdown",
      "id": "8683f9b1",
      "metadata": {
        "id": "8683f9b1"
      },
      "source": [
        "Here is the best model configuration on which i'll evaluate my model performances on test:\n",
        "- `learning_rate`: 1e-05\n",
        "- `epochs`: 10\n",
        "- `batch_size`: 64\n",
        "- `dropout`: 0.3\n",
        "- `hidden_act`: `leaky_relu`"
      ]
    },
    {
      "cell_type": "code",
      "execution_count": null,
      "id": "be90dbf8",
      "metadata": {
        "colab": {
          "base_uri": "https://localhost:8080/"
        },
        "id": "be90dbf8",
        "outputId": "f580dfb1-945c-48b6-8124-eabec55a9204"
      },
      "outputs": [
        {
          "output_type": "stream",
          "name": "stdout",
          "text": [
            "Epoch 1/10\n",
            "\u001b[1m194/194\u001b[0m \u001b[32m━━━━━━━━━━━━━━━━━━━━\u001b[0m\u001b[37m\u001b[0m \u001b[1m40s\u001b[0m 165ms/step - accuracy: 0.4379 - loss: 2.8625\n",
            "Epoch 2/10\n",
            "\u001b[1m194/194\u001b[0m \u001b[32m━━━━━━━━━━━━━━━━━━━━\u001b[0m\u001b[37m\u001b[0m \u001b[1m31s\u001b[0m 160ms/step - accuracy: 0.5537 - loss: 2.6728\n",
            "Epoch 3/10\n",
            "\u001b[1m194/194\u001b[0m \u001b[32m━━━━━━━━━━━━━━━━━━━━\u001b[0m\u001b[37m\u001b[0m \u001b[1m42s\u001b[0m 167ms/step - accuracy: 0.6683 - loss: 2.5015\n",
            "Epoch 4/10\n",
            "\u001b[1m194/194\u001b[0m \u001b[32m━━━━━━━━━━━━━━━━━━━━\u001b[0m\u001b[37m\u001b[0m \u001b[1m40s\u001b[0m 164ms/step - accuracy: 0.7476 - loss: 2.3624\n",
            "Epoch 5/10\n",
            "\u001b[1m194/194\u001b[0m \u001b[32m━━━━━━━━━━━━━━━━━━━━\u001b[0m\u001b[37m\u001b[0m \u001b[1m40s\u001b[0m 161ms/step - accuracy: 0.8368 - loss: 2.2243\n",
            "Epoch 6/10\n",
            "\u001b[1m194/194\u001b[0m \u001b[32m━━━━━━━━━━━━━━━━━━━━\u001b[0m\u001b[37m\u001b[0m \u001b[1m42s\u001b[0m 164ms/step - accuracy: 0.8834 - loss: 2.1180\n",
            "Epoch 7/10\n",
            "\u001b[1m194/194\u001b[0m \u001b[32m━━━━━━━━━━━━━━━━━━━━\u001b[0m\u001b[37m\u001b[0m \u001b[1m45s\u001b[0m 184ms/step - accuracy: 0.9150 - loss: 2.0314\n",
            "Epoch 8/10\n",
            "\u001b[1m  8/194\u001b[0m \u001b[37m━━━━━━━━━━━━━━━━━━━━\u001b[0m \u001b[1m48s\u001b[0m 262ms/step - accuracy: 0.9245 - loss: 1.9895"
          ]
        }
      ],
      "source": [
        "X1= np.concatenate([train_texts, val_texts])\n",
        "X2= np.concatenate([train_scores, val_scores])\n",
        "Y= np.concatenate([train_targets, val_targets])\n",
        "\n",
        "final_model = create_model(learning_rate=best_params['learning_rate'],\n",
        "                           dropout_rate=best_params['dropout_rate'],\n",
        "                           hidden_act=best_params['hidden_act']\n",
        "                           )\n",
        "\n",
        "final_model.fit(x= [X1, X2], y= Y,\n",
        "                epochs=best_params['epochs'],\n",
        "                batch_size=best_params['batch_size'],\n",
        "                verbose=1)"
      ]
    },
    {
      "cell_type": "markdown",
      "id": "22a1a918",
      "metadata": {
        "id": "22a1a918"
      },
      "source": [
        "# PLOTTING RESULTS\n",
        "\n",
        "- Test F1-score: 0.9906\n",
        "- Final Test Accuracy: 0.9906\n",
        "\n",
        "Confusion matrix:\n",
        "```\n",
        "[[687 14]\n",
        " [05 672]]\n",
        "```"
      ]
    },
    {
      "cell_type": "code",
      "execution_count": null,
      "id": "f6f8d070",
      "metadata": {
        "id": "f6f8d070"
      },
      "outputs": [],
      "source": [
        "test_preds = (final_model.predict([test_texts, test_scores]) > 0.5).astype(int)\n",
        "test_acc = accuracy_score(test_targets, test_preds)\n",
        "test_f1 = classification_report(test_targets, test_preds, output_dict=True)['weighted avg']['f1-score']\n",
        "\n",
        "print(f\"Final Test F1-score: {test_f1:.4f}\")\n",
        "print(f\"Final Test Accuracy: {test_acc:.4f}\")"
      ]
    },
    {
      "cell_type": "code",
      "execution_count": null,
      "id": "cfa1afa2",
      "metadata": {
        "id": "cfa1afa2"
      },
      "outputs": [],
      "source": [
        "cm = confusion_matrix(test_targets, test_preds)\n",
        "plt.figure(figsize=(6, 5))\n",
        "sns.heatmap(cm, annot=True, fmt='d', cmap='Blues',\n",
        "            xticklabels=['Bad Review', 'Good Review'],\n",
        "            yticklabels=['Bad Review', 'Good Review'])\n",
        "plt.xlabel('Predicted Label')\n",
        "plt.ylabel('True Label')\n",
        "plt.title('Confusion Matrix for Review Type Prediction')\n",
        "plt.show()"
      ]
    }
  ],
  "metadata": {
    "colab": {
      "provenance": []
    },
    "kernelspec": {
      "display_name": "Python 3",
      "language": "python",
      "name": "python3"
    },
    "language_info": {
      "codemirror_mode": {
        "name": "ipython",
        "version": 3
      },
      "file_extension": ".py",
      "mimetype": "text/x-python",
      "name": "python",
      "nbconvert_exporter": "python",
      "pygments_lexer": "ipython3",
      "version": "3.11.0"
    }
  },
  "nbformat": 4,
  "nbformat_minor": 5
}